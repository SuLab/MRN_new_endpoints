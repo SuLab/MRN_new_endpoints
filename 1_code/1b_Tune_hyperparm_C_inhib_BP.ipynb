{
 "cells": [
  {
   "cell_type": "code",
   "execution_count": 1,
   "metadata": {},
   "outputs": [
    {
     "name": "stderr",
     "output_type": "stream",
     "text": [
      "/opt/mmayers/software/anaconda3/envs/ml/lib/python3.6/site-packages/data_tools/df_processing.py:4: TqdmExperimentalWarning: Using `tqdm.autonotebook.tqdm` in notebook mode. Use `tqdm.tqdm` instead to force console mode (e.g. in jupyter console)\n",
      "  from tqdm.autonotebook import tqdm\n"
     ]
    }
   ],
   "source": [
    "import numpy as np\n",
    "import pandas as pd\n",
    "from copy import copy\n",
    "from pathlib import Path\n",
    "from itertools import chain\n",
    "from tqdm.notebook import tqdm\n",
    "\n",
    "import data_tools.graphs as gt\n",
    "from hetnet_ml.extractor import MatrixFormattedGraph, piecewise_extraction"
   ]
  },
  {
   "cell_type": "code",
   "execution_count": 2,
   "metadata": {},
   "outputs": [],
   "source": [
    "import utils"
   ]
  },
  {
   "cell_type": "code",
   "execution_count": 3,
   "metadata": {},
   "outputs": [],
   "source": [
    "param_file = 'CiBP_param.json'\n",
    "param_file = Path('../0_data/manual').resolve().joinpath(param_file)"
   ]
  },
  {
   "cell_type": "code",
   "execution_count": 13,
   "metadata": {},
   "outputs": [],
   "source": [
    "tgt_node, tgt_edge = utils.load_targets(param_file)"
   ]
  },
  {
   "cell_type": "code",
   "execution_count": 6,
   "metadata": {},
   "outputs": [],
   "source": [
    "nodes, edges = utils.load_network(param_file)"
   ]
  },
  {
   "cell_type": "code",
   "execution_count": 7,
   "metadata": {},
   "outputs": [],
   "source": [
    "# Hyperparameter tuning is param #2 (network is 1, model trainig is 3)\n",
    "out_dir = utils.read_data_param(param_file)[1]"
   ]
  },
  {
   "cell_type": "code",
   "execution_count": 8,
   "metadata": {},
   "outputs": [
    {
     "data": {
      "text/html": [
       "<div>\n",
       "<style scoped>\n",
       "    .dataframe tbody tr th:only-of-type {\n",
       "        vertical-align: middle;\n",
       "    }\n",
       "\n",
       "    .dataframe tbody tr th {\n",
       "        vertical-align: top;\n",
       "    }\n",
       "\n",
       "    .dataframe thead th {\n",
       "        text-align: right;\n",
       "    }\n",
       "</style>\n",
       "<table border=\"1\" class=\"dataframe\">\n",
       "  <thead>\n",
       "    <tr style=\"text-align: right;\">\n",
       "      <th></th>\n",
       "      <th>id</th>\n",
       "      <th>name</th>\n",
       "      <th>label</th>\n",
       "      <th>xrefs</th>\n",
       "      <th>source</th>\n",
       "      <th>synonyms</th>\n",
       "      <th>alt_ids</th>\n",
       "      <th>subsets</th>\n",
       "    </tr>\n",
       "  </thead>\n",
       "  <tbody>\n",
       "    <tr>\n",
       "      <th>0</th>\n",
       "      <td>UBERON:0000002</td>\n",
       "      <td>cervix</td>\n",
       "      <td>AnatomicalEntity</td>\n",
       "      <td>MESH:D002584|UBERON:0000002</td>\n",
       "      <td>NaN</td>\n",
       "      <td>NaN</td>\n",
       "      <td>NaN</td>\n",
       "      <td>NaN</td>\n",
       "    </tr>\n",
       "    <tr>\n",
       "      <th>1</th>\n",
       "      <td>UBERON:0000004</td>\n",
       "      <td>human nose</td>\n",
       "      <td>AnatomicalEntity</td>\n",
       "      <td>MESH:D009666|UBERON:0000004</td>\n",
       "      <td>NaN</td>\n",
       "      <td>NaN</td>\n",
       "      <td>NaN</td>\n",
       "      <td>NaN</td>\n",
       "    </tr>\n",
       "    <tr>\n",
       "      <th>2</th>\n",
       "      <td>UBERON:0000006</td>\n",
       "      <td>islet of Langerhans</td>\n",
       "      <td>AnatomicalEntity</td>\n",
       "      <td>MESH:D007515|UBERON:0000006</td>\n",
       "      <td>NaN</td>\n",
       "      <td>NaN</td>\n",
       "      <td>NaN</td>\n",
       "      <td>NaN</td>\n",
       "    </tr>\n",
       "    <tr>\n",
       "      <th>3</th>\n",
       "      <td>UBERON:0000007</td>\n",
       "      <td>pituitary gland</td>\n",
       "      <td>AnatomicalEntity</td>\n",
       "      <td>MESH:D010902|UBERON:0000007</td>\n",
       "      <td>NaN</td>\n",
       "      <td>NaN</td>\n",
       "      <td>NaN</td>\n",
       "      <td>NaN</td>\n",
       "    </tr>\n",
       "    <tr>\n",
       "      <th>4</th>\n",
       "      <td>UBERON:0000010</td>\n",
       "      <td>peripheral nervous system</td>\n",
       "      <td>AnatomicalEntity</td>\n",
       "      <td>MESH:D017933|UBERON:0000010</td>\n",
       "      <td>NaN</td>\n",
       "      <td>NaN</td>\n",
       "      <td>NaN</td>\n",
       "      <td>NaN</td>\n",
       "    </tr>\n",
       "  </tbody>\n",
       "</table>\n",
       "</div>"
      ],
      "text/plain": [
       "               id                       name             label  \\\n",
       "0  UBERON:0000002                     cervix  AnatomicalEntity   \n",
       "1  UBERON:0000004                 human nose  AnatomicalEntity   \n",
       "2  UBERON:0000006        islet of Langerhans  AnatomicalEntity   \n",
       "3  UBERON:0000007            pituitary gland  AnatomicalEntity   \n",
       "4  UBERON:0000010  peripheral nervous system  AnatomicalEntity   \n",
       "\n",
       "                         xrefs source synonyms alt_ids subsets  \n",
       "0  MESH:D002584|UBERON:0000002    NaN      NaN     NaN     NaN  \n",
       "1  MESH:D009666|UBERON:0000004    NaN      NaN     NaN     NaN  \n",
       "2  MESH:D007515|UBERON:0000006    NaN      NaN     NaN     NaN  \n",
       "3  MESH:D010902|UBERON:0000007    NaN      NaN     NaN     NaN  \n",
       "4  MESH:D017933|UBERON:0000010    NaN      NaN     NaN     NaN  "
      ]
     },
     "execution_count": 8,
     "metadata": {},
     "output_type": "execute_result"
    }
   ],
   "source": [
    "nodes.head()"
   ]
  },
  {
   "cell_type": "code",
   "execution_count": 9,
   "metadata": {},
   "outputs": [],
   "source": [
    "# load the params from the original model to get the W\n",
    "# Won't be using the old features...\n",
    "params, old_feats = utils.load_hyperparameters()"
   ]
  },
  {
   "cell_type": "code",
   "execution_count": 14,
   "metadata": {},
   "outputs": [
    {
     "name": "stdout",
     "output_type": "stream",
     "text": [
      "Processing node and edge data...\n",
      "Initializing metagraph...\n",
      "Generating adjacency matrices...\n"
     ]
    },
    {
     "name": "stderr",
     "output_type": "stream",
     "text": [
      "100%|██████████| 68/68 [00:55<00:00,  1.24it/s]\n"
     ]
    },
    {
     "name": "stdout",
     "output_type": "stream",
     "text": [
      "\n",
      "Determining degrees for each node and metaedge\n"
     ]
    },
    {
     "name": "stderr",
     "output_type": "stream",
     "text": [
      "100%|██████████| 68/68 [00:26<00:00,  2.55it/s]\n"
     ]
    },
    {
     "name": "stdout",
     "output_type": "stream",
     "text": [
      "\n",
      "Weighting matrices by degree with dampening factor 0.5665616931869023...\n"
     ]
    },
    {
     "name": "stderr",
     "output_type": "stream",
     "text": [
      "100%|██████████| 68/68 [00:00<00:00, 121.33it/s]\n"
     ]
    }
   ],
   "source": [
    "mg = MatrixFormattedGraph(nodes, edges, 'ChemicalSubstance', tgt_node, \n",
    "                          max_length=4, w=params['w'], n_jobs=30)"
   ]
  },
  {
   "cell_type": "markdown",
   "metadata": {},
   "source": [
    "# Data Transformer\n",
    "\n",
    "We use an inverse hyperbolic sine transformation to transform the features.\n",
    "\n",
    "The transormation is thus:\n",
    "\n",
    "$$sinh^{-1} \\left( \\frac{X_{mp}}{\\sigma_{mp}} \\right)$$\n",
    "\n",
    "where $X_{mp}$ is the column in the dwpc feature matrix $X$ coreesponding to metapath $mp$ and $\\sigma_{mp}$ is the mean of the column."
   ]
  },
  {
   "cell_type": "code",
   "execution_count": 15,
   "metadata": {},
   "outputs": [],
   "source": [
    "from data_tools.ml import MeanScaledArcsinhTransformer, get_model_coefs"
   ]
  },
  {
   "cell_type": "markdown",
   "metadata": {},
   "source": [
    "# Homegrown Feature Selector\n",
    "\n",
    "Runs 6 analysis on the traning data to select features.\n",
    "\n",
    "1. Correlation to the output\n",
    "2. Chi_squared test\n",
    "3. Recurssive Feature Elimantion on a Ridge Regressor\n",
    "4. Embedded Feature Selection from a Lasso Regressor\n",
    "5. Embedded Feature Selection from a Randomn Forest Classifier\n",
    "6. Embedded Feature Selection from a Gradient Boosting Classifier\n",
    "\n",
    "Each analysis will select `num_feats` best features. The selected features will then by chosen via a voting method with `min_selections` out of the 6 elements required to for a feature to be kept. \n",
    "\n",
    "\n",
    "We have also added an option for `always_keep`:  This allows for domain expertise to be factored into the feature selection process.  In our case, we know some metapaths are specifically mechanistic, so we want to include those wherever possible"
   ]
  },
  {
   "cell_type": "code",
   "execution_count": 16,
   "metadata": {},
   "outputs": [],
   "source": [
    "from scipy.sparse import issparse, csc_matrix, csr_matrix\n",
    "\n",
    "from sklearn.pipeline import Pipeline\n",
    "from sklearn.preprocessing import MaxAbsScaler\n",
    "from sklearn.model_selection import cross_validate\n",
    "from sklearn.linear_model import LogisticRegression\n",
    "from sklearn.ensemble import RandomForestClassifier\n",
    "from sklearn.base import BaseEstimator, TransformerMixin\n",
    "from sklearn.feature_selection import SelectKBest, chi2, RFE, SelectFromModel\n",
    "\n",
    "from xgboost import XGBClassifier\n",
    "\n",
    "from hyperopt import fmin, tpe, hp, STATUS_OK, Trials"
   ]
  },
  {
   "cell_type": "code",
   "execution_count": 17,
   "metadata": {},
   "outputs": [],
   "source": [
    "def cor_selector(X, y, feature_names, num_feats):\n",
    "    cor_list = []\n",
    "    # calculate the correlation with y for each feature\n",
    "    for i in range(X.shape[1]):\n",
    "        if issparse(X):\n",
    "            x = X[:, i].A.reshape(len(y))\n",
    "        else:\n",
    "            x = X[:, i]\n",
    "        cor = np.corrcoef(x, y)[0, 1]\n",
    "        cor_list.append(cor)\n",
    "    # replace NaN with 0\n",
    "    cor_list = [0 if np.isnan(i) else i for i in cor_list]\n",
    "    # feature name\n",
    "    cor_feature = np.array(feature_names)[np.argsort(np.abs(cor_list))[-num_feats:].tolist()].tolist()    \n",
    "    # feature selection? 0 for not select, 1 for select\n",
    "    return [True if i in cor_feature else False for i in feature_names]\n",
    "\n",
    "def chi2_selector(X, y, num_feats):\n",
    "    this_selector = SelectKBest(chi2, k=num_feats)\n",
    "    this_selector.fit(X, y)\n",
    "    return this_selector.get_support()\n",
    "\n",
    "def rfe_selector(X, y, num_feats, random_state=None):\n",
    "    this_selector = RFE(estimator=LogisticRegression(C=.1, solver='liblinear', random_state=random_state), \n",
    "                        n_features_to_select=num_feats, step=.2, verbose=5)\n",
    "    this_selector.fit(X, y)\n",
    "    return this_selector.get_support()\n",
    "\n",
    "def embeded_lr_selector(X, y, num_feats, random_state=None):\n",
    "    this_selector = SelectFromModel(LogisticRegression(penalty=\"l1\", solver='liblinear', random_state=random_state), \n",
    "                                    max_features=num_feats)\n",
    "    this_selector.fit(X, y)\n",
    "\n",
    "    return this_selector.get_support()\n",
    "\n",
    "def embeded_rf_selector(X, y, num_feats, n_jobs, random_state=None):\n",
    "    rfc = RandomForestClassifier(n_estimators=100, max_depth=50, n_jobs=n_jobs, random_state=random_state)\n",
    "    this_selector = SelectFromModel(rfc, max_features=num_feats)\n",
    "    this_selector.fit(X, y)\n",
    "    return this_selector.get_support()\n",
    "\n",
    "def embeded_xgb_selector(X, y, num_feats, n_jobs=1, random_state=None):\n",
    "    # XGBoost takes 0 as default random state\n",
    "    if random_state is None:\n",
    "        random_state = 0\n",
    "    # Paramaters optimized for speed, rather than accuracy (as we have 5 other estimators also providing votes)\n",
    "    xgbc = XGBClassifier(max_depth=5, n_estimators=200, learning_rate=.16, min_child_weight=1, colsample_bytree=.8,\n",
    "                         n_jobs=n_jobs, random_state=random_state)\n",
    "    this_selector = SelectFromModel(xgbc, max_features=num_feats)\n",
    "    this_selector.fit(X, y)\n",
    "    return this_selector.get_support()\n",
    "\n",
    "\n",
    "class FeatureSelector(BaseEstimator, TransformerMixin):\n",
    "    \n",
    "    def __init__(self, num_features=100, min_selections=4, n_jobs=1, feature_names=None, always_keep=None,\n",
    "                 random_state=None):\n",
    "        self.num_features = num_features\n",
    "        self.min_selections = min_selections\n",
    "        self.n_jobs = n_jobs\n",
    "        self.feature_names = feature_names\n",
    "        self.always_keep = always_keep\n",
    "        self.random_state = random_state\n",
    "        \n",
    "    def fit(self, X, y=None):\n",
    "                \n",
    "        X_norm = MaxAbsScaler().fit_transform(X)\n",
    "        if issparse(X):\n",
    "            if type(X) != csc_matrix:\n",
    "                X = X.tocsc()\n",
    "            X_norm = X_norm.tocsc()\n",
    "        \n",
    "        print('Running Cor')\n",
    "        cor_support = cor_selector(X, y, self.feature_names, self.num_features)\n",
    "        print('Running Chi2')\n",
    "        chi_support = chi2_selector(X_norm, y, self.num_features)\n",
    "        print('Running RFE')\n",
    "        rfe_support = rfe_selector(X_norm, y, self.num_features, self.random_state)\n",
    "        print('Running LR')\n",
    "        embeded_lr_support = embeded_lr_selector(X_norm, y, self.num_features, self.random_state)\n",
    "        print('Running RF')\n",
    "        embeded_rf_support = embeded_rf_selector(X, y, self.num_features, \n",
    "                                                 n_jobs=self.n_jobs, random_state=self.random_state)\n",
    "        print('Running XG')\n",
    "        embeded_xgb_support = embeded_xgb_selector(X, y, self.num_features, \n",
    "                                                   n_jobs=self.n_jobs, random_state=self.random_state)\n",
    "        \n",
    "        feature_selection_df = pd.DataFrame({'feature':self.feature_names, 'pearson':cor_support, 'chi_2':chi_support, \n",
    "                                             'rfe':rfe_support, 'logistics':embeded_lr_support,\n",
    "                                             'random_forest':embeded_rf_support, 'xgboost':embeded_xgb_support})  \n",
    "\n",
    "        feature_selection_df['total'] = np.sum(feature_selection_df, axis=1)\n",
    "        self.feature_selection_df_ = feature_selection_df\n",
    "        \n",
    "        keep_features = feature_selection_df.query('total >= {}'.format(self.min_selections))['feature'].tolist()\n",
    "        \n",
    "        # Keep the features that we always want (e.g. domain expertise)\n",
    "        if self.always_keep is not None:\n",
    "            keep_features.extend(self.always_keep)\n",
    "        \n",
    "        self.keep_features_ = [f for f in self.feature_names if f in keep_features]\n",
    "        \n",
    "        return self\n",
    "    \n",
    "    def transform(self, X, y=None):\n",
    "        \n",
    "        if issparse(X) and type(X) != csc_matrix:\n",
    "            X = X.tocsc()\n",
    "        return X[:, [i for i, f in enumerate(self.feature_names) if f in self.keep_features_]]"
   ]
  },
  {
   "cell_type": "code",
   "execution_count": 18,
   "metadata": {},
   "outputs": [],
   "source": [
    "from data_tools import graphs as gt\n",
    "from collections import Counter"
   ]
  },
  {
   "cell_type": "code",
   "execution_count": 19,
   "metadata": {},
   "outputs": [],
   "source": [
    "edge_info = pd.read_csv('../metapaths/0_data/manual/edge_semtypes.csv')"
   ]
  },
  {
   "cell_type": "code",
   "execution_count": 20,
   "metadata": {},
   "outputs": [],
   "source": [
    "dir_map = edge_info.set_index('fwd_edge')['directed'].to_dict()\n",
    "rev_map = edge_info.set_index('fwd_edge')['rev_edge'].to_dict()\n",
    "direction = edge_info.set_index('fwd_edge')['rel_dir'].to_dict()"
   ]
  },
  {
   "cell_type": "code",
   "execution_count": 21,
   "metadata": {},
   "outputs": [
    {
     "data": {
      "application/vnd.jupyter.widget-view+json": {
       "model_id": "68caec5efd4a45409d9eb652e7ec41d9",
       "version_major": 2,
       "version_minor": 0
      },
      "text/plain": [
       "HBox(children=(FloatProgress(value=0.0, max=21531.0), HTML(value='')))"
      ]
     },
     "metadata": {},
     "output_type": "display_data"
    },
    {
     "name": "stdout",
     "output_type": "stream",
     "text": [
      "\n"
     ]
    }
   ],
   "source": [
    "similarity_paths_check = []\n",
    "\n",
    "for mp in tqdm(mg.metapaths):\n",
    "    if len(mp) < 2:\n",
    "        similarity_paths_check.append(True)\n",
    "        continue\n",
    "    this_path = []\n",
    "    node_count = Counter([n.abbrev for n in mp.get_nodes()])\n",
    "    for label in ['ChemicalSubstance', 'BiologicalProcessOrActivity', 'MacromolecularMachine']:\n",
    "        this_path.append(gt.is_similarity(mp, [label], dir_map, check_dir='both'))\n",
    "\n",
    "    # Disease and Phenotype nodes don't have any good interactions with BP nodes unfortunately\n",
    "    # Best to just blacklist them\n",
    "    this_path.append(node_count['D'] > 0)\n",
    "    this_path.append(node_count['P'] > 0)\n",
    "\n",
    "    # Don't want CtXaYzP edges.. Ct (and Cm) edges should be banned...\n",
    "    # Though not strictly similarity edges, they have heavy implications for Disease Phenotype similarity\n",
    "    bl_edge = ['Ct', 'Cm', 'Cdg', 'Cpl', 'Cpv']\n",
    "    for bl in bl_edge:\n",
    "        if mp.abbrev.startswith(bl) or mp.abbrev.endswith('aw'+bl+'BP'):\n",
    "            this_path.append(True)\n",
    "    \n",
    "    similarity_paths_check.append(sum(this_path) > 0)"
   ]
  },
  {
   "cell_type": "code",
   "execution_count": 22,
   "metadata": {},
   "outputs": [
    {
     "data": {
      "text/plain": [
       "2837"
      ]
     },
     "execution_count": 22,
     "metadata": {},
     "output_type": "execute_result"
    }
   ],
   "source": [
    "non_sim_mps = [mp for mp, sim in zip(mg.metapaths, similarity_paths_check) if not sim]\n",
    "len(non_sim_mps)"
   ]
  },
  {
   "cell_type": "code",
   "execution_count": 23,
   "metadata": {},
   "outputs": [
    {
     "data": {
      "text/plain": [
       "affects_CafBP     62523\n",
       "part_of_CpoBP     48991\n",
       "inhibits_CinBP    39706\n",
       "activates_CaBP    38936\n",
       "Name: type, dtype: int64"
      ]
     },
     "execution_count": 23,
     "metadata": {},
     "output_type": "execute_result"
    }
   ],
   "source": [
    "combo = gt.combine_nodes_and_edges(nodes, edges)\n",
    "combo.query('start_label == \"ChemicalSubstance\" and end_label == @tgt_node')['type'].value_counts()"
   ]
  },
  {
   "cell_type": "code",
   "execution_count": 24,
   "metadata": {},
   "outputs": [],
   "source": [
    "keep_comps = set(edges.query('type == @tgt_edge')['start_id'].tolist())\n",
    "keep_bp = set(edges.query('type == @tgt_edge')['end_id'].tolist())"
   ]
  },
  {
   "cell_type": "code",
   "execution_count": 25,
   "metadata": {},
   "outputs": [],
   "source": [
    "train_frac = 0.2\n",
    "rs = 20201116\n",
    "\n",
    "# Get compounds that have our target edge\n",
    "tgt_comps = set(edges.query('type == @tgt_edge')['start_id'])\n",
    "# Sample the comps without our target edge, then subsample\n",
    "keep_comps = set(nodes.query('id not in @tgt_comps and label == \"ChemicalSubstance\"')\n",
    "                      .sample(frac=train_frac*.01, random_state=rs)['id'])\n",
    "# Then subsample the positives\n",
    "keep_comps = keep_comps | set(nodes.query('id in @tgt_comps')\n",
    "                                   .sample(frac=train_frac, random_state=rs+1)['id'])\n",
    "\n",
    "# Get our target type \n",
    "tgt_bps = set(edges.query('type == @tgt_edge')['end_id'])\n",
    "# Sample the negatives and subsample cv\n",
    "keep_bps = set(nodes.query('label == @tgt_node and id not in @tgt_bps')\n",
    "                    .sample(frac=train_frac*.01, random_state=rs+2)['id'])\n",
    "# Take the diseases Treated by these compounds\n",
    "keep_bps = keep_bps | set(edges.query('type == @tgt_edge and start_id in @keep_comps')['end_id'])"
   ]
  },
  {
   "cell_type": "code",
   "execution_count": 26,
   "metadata": {},
   "outputs": [
    {
     "data": {
      "text/plain": [
       "(1308, 3273)"
      ]
     },
     "execution_count": 26,
     "metadata": {},
     "output_type": "execute_result"
    }
   ],
   "source": [
    "len(keep_comps), len(keep_bp)"
   ]
  },
  {
   "cell_type": "code",
   "execution_count": 29,
   "metadata": {},
   "outputs": [
    {
     "data": {
      "text/plain": [
       "(1302, 3081)"
      ]
     },
     "execution_count": 29,
     "metadata": {},
     "output_type": "execute_result"
    }
   ],
   "source": [
    "len(keep_comps), len(keep_bp)"
   ]
  },
  {
   "cell_type": "code",
   "execution_count": 27,
   "metadata": {},
   "outputs": [
    {
     "data": {
      "text/plain": [
       "4281084"
      ]
     },
     "execution_count": 27,
     "metadata": {},
     "output_type": "execute_result"
    }
   ],
   "source": [
    "len(keep_comps) * len(keep_bp)"
   ]
  },
  {
   "cell_type": "code",
   "execution_count": 30,
   "metadata": {},
   "outputs": [
    {
     "data": {
      "text/plain": [
       "4011462"
      ]
     },
     "execution_count": 30,
     "metadata": {},
     "output_type": "execute_result"
    }
   ],
   "source": [
    "len(keep_comps) * len(keep_bp)"
   ]
  },
  {
   "cell_type": "code",
   "execution_count": 28,
   "metadata": {},
   "outputs": [
    {
     "name": "stdout",
     "output_type": "stream",
     "text": [
      "7,633 Positive training examples in subset\n"
     ]
    }
   ],
   "source": [
    "print('{:,} Positive training examples in subset'.format(len(edges.query('start_id in @keep_comps and type == @tgt_edge'))))"
   ]
  },
  {
   "cell_type": "code",
   "execution_count": 31,
   "metadata": {},
   "outputs": [
    {
     "name": "stdout",
     "output_type": "stream",
     "text": [
      "8,096 Positive training examples in subset\n"
     ]
    }
   ],
   "source": [
    "print('{:,} Positive training examples in subset'.format(len(edges.query('start_id in @keep_comps and type == @tgt_edge'))))"
   ]
  },
  {
   "cell_type": "markdown",
   "metadata": {},
   "source": [
    "# Prepare a tmp output location"
   ]
  },
  {
   "cell_type": "code",
   "execution_count": 29,
   "metadata": {},
   "outputs": [],
   "source": [
    "tmp_dir = out_dir.parent.joinpath('tmp')\n",
    "tmp_dir.mkdir(parents=True, exist_ok=True)"
   ]
  },
  {
   "cell_type": "markdown",
   "metadata": {},
   "source": [
    "# Extract the features one time"
   ]
  },
  {
   "cell_type": "markdown",
   "metadata": {},
   "source": [
    "Use the pair counts to sort metapaths extaction as a niave load balancer"
   ]
  },
  {
   "cell_type": "code",
   "execution_count": 30,
   "metadata": {},
   "outputs": [],
   "source": [
    "to_xtract = [str(mp) for mp in non_sim_mps]"
   ]
  },
  {
   "cell_type": "code",
   "execution_count": 31,
   "metadata": {},
   "outputs": [
    {
     "name": "stderr",
     "output_type": "stream",
     "text": [
      "100%|██████████| 15/15 [02:40<00:00, 10.67s/it]\n"
     ]
    },
    {
     "name": "stdout",
     "output_type": "stream",
     "text": [
      "CPU times: user 1min 20s, sys: 58.4 s, total: 2min 18s\n",
      "Wall time: 2min 41s\n"
     ]
    }
   ],
   "source": [
    "%%time\n",
    "## Extract the metapaths to do some prep work\n",
    "(pairs, feats), test_dwpc = piecewise_extraction(function=mg.extract_dwpc, \n",
    "                                 to_split='metapaths', block_size=200,\n",
    "                                 axis=1,\n",
    "                                 metapaths=to_xtract, \n",
    "                                 start_nodes=list(keep_comps), \n",
    "                                 end_nodes=list(keep_bps),\n",
    "                                 return_sparse=True,\n",
    "                                 sparse_df=False,\n",
    "                                 n_jobs=30)"
   ]
  },
  {
   "cell_type": "markdown",
   "metadata": {},
   "source": [
    "# Training Targets for feature selection¶"
   ]
  },
  {
   "cell_type": "code",
   "execution_count": 32,
   "metadata": {},
   "outputs": [
    {
     "data": {
      "text/plain": [
       "[('IKEY:QIGOZTHDQZFDPY-UHFFFAOYSA-L', 'GO:0001508'),\n",
       " ('IKEY:CKYYFGUIKHUOKJ-UHFFFAOYSA-L', 'GO:0001508')]"
      ]
     },
     "execution_count": 32,
     "metadata": {},
     "output_type": "execute_result"
    }
   ],
   "source": [
    "pos_tups = edges.query('type == @tgt_edge')[['start_id', 'end_id']].apply(tuple, axis=1).tolist()\n",
    "pos_tups[:2]"
   ]
  },
  {
   "cell_type": "code",
   "execution_count": 33,
   "metadata": {},
   "outputs": [],
   "source": [
    "pos_tups = set(pos_tups)"
   ]
  },
  {
   "cell_type": "code",
   "execution_count": 34,
   "metadata": {},
   "outputs": [
    {
     "data": {
      "application/vnd.jupyter.widget-view+json": {
       "model_id": "a60dd658c0f54ca79d16c218b4eafa22",
       "version_major": 2,
       "version_minor": 0
      },
      "text/plain": [
       "HBox(children=(FloatProgress(value=0.0, max=2270688.0), HTML(value='')))"
      ]
     },
     "metadata": {},
     "output_type": "display_data"
    },
    {
     "name": "stdout",
     "output_type": "stream",
     "text": [
      "\n",
      "2270688 2270688 7633\n"
     ]
    }
   ],
   "source": [
    "y = []\n",
    "for row in tqdm(pairs.itertuples(), total=len(pairs)):\n",
    "    if set([(row.chemicalsubstance_id, getattr(row, tgt_node.lower()+'_id'))]) & pos_tups:\n",
    "        y.append(1)\n",
    "    else:\n",
    "        y.append(0)\n",
    "\n",
    "y = np.array(y)\n",
    "        \n",
    "print(len(pairs), len(y), sum(y))"
   ]
  },
  {
   "cell_type": "code",
   "execution_count": 35,
   "metadata": {},
   "outputs": [],
   "source": [
    "pairs['status'] = y"
   ]
  },
  {
   "cell_type": "markdown",
   "metadata": {},
   "source": [
    "# Subsample the potnetial training examples\n",
    "\n",
    "Our class is so imbalanced, to get a sizeable number of positive training examples, we end up with many orders of magnitude more negative examples.  Many of those examples will have no connections from the compound to the disease of interest, this providing a zero row in the matrix. We will not waste time training on those values, and instead focus on the ones that distinguish the positive from the negative training examples.\n",
    "\n",
    "As this is just hyperparameter tunings, to speed things up, we will also limit the positive examples to a small portion of the negative examples, 100x (2 orders of magnitude) larger than the number of postitives. "
   ]
  },
  {
   "cell_type": "code",
   "execution_count": 36,
   "metadata": {},
   "outputs": [],
   "source": [
    "# Get the rows that are Non-zero\n",
    "nz_index = pairs[test_dwpc.getnnz(1)>0].index\n",
    "\n",
    "# have the number of postivies to get 100x this for the negatives.\n",
    "n_pos = pairs['status'].sum()\n",
    "\n",
    "# Sample the nonzero negative examples at a rate of 100x the positive samples\n",
    "neg_index = pairs.loc[nz_index].query('status == 0').sample(n=100*n_pos, random_state=rs+10).sort_index().index\n",
    "\n",
    "# and of course take the training postivies\n",
    "pos_index = pairs.query('status == 1').index\n",
    "\n",
    "# Union the two\n",
    "train_index = pos_index.union(neg_index)"
   ]
  },
  {
   "cell_type": "code",
   "execution_count": 37,
   "metadata": {},
   "outputs": [],
   "source": [
    "feats = np.array(feats)\n",
    "nz_feats = feats[test_dwpc.getnnz(0)>0]\n",
    "feat_index = test_dwpc.getnnz(0)>0"
   ]
  },
  {
   "cell_type": "code",
   "execution_count": 38,
   "metadata": {},
   "outputs": [],
   "source": [
    "# Get our compounds as ndarrays for easy indexing with sklearns StratifiedKFold\n",
    "keep_comps = np.array(list(keep_comps))\n",
    "# Need to know how to properly stratify the split\n",
    "is_treat_comp = np.array([1 if c in tgt_comps else 0 for c in keep_comps])"
   ]
  },
  {
   "cell_type": "markdown",
   "metadata": {},
   "source": [
    "## Select the features\n",
    "\n",
    "This is a time consuming and costly step. We will do once with the initial DWPC for parameter tuning. We will perform again at the end with the selected parameters."
   ]
  },
  {
   "cell_type": "code",
   "execution_count": 39,
   "metadata": {},
   "outputs": [
    {
     "name": "stdout",
     "output_type": "stream",
     "text": [
      "CPU times: user 16.5 s, sys: 2 s, total: 18.5 s\n",
      "Wall time: 18.5 s\n"
     ]
    }
   ],
   "source": [
    "%%time\n",
    "msat = MeanScaledArcsinhTransformer()\n",
    "trans_dwpc = msat.fit_transform(test_dwpc[train_index][:, feat_index])"
   ]
  },
  {
   "cell_type": "code",
   "execution_count": 40,
   "metadata": {},
   "outputs": [
    {
     "name": "stdout",
     "output_type": "stream",
     "text": [
      "Running Cor\n"
     ]
    },
    {
     "name": "stderr",
     "output_type": "stream",
     "text": [
      "/opt/mmayers/software/anaconda3/envs/ml/lib/python3.6/site-packages/numpy/lib/function_base.py:2559: RuntimeWarning: invalid value encountered in true_divide\n",
      "  c /= stddev[:, None]\n",
      "/opt/mmayers/software/anaconda3/envs/ml/lib/python3.6/site-packages/numpy/lib/function_base.py:2560: RuntimeWarning: invalid value encountered in true_divide\n",
      "  c /= stddev[None, :]\n"
     ]
    },
    {
     "name": "stdout",
     "output_type": "stream",
     "text": [
      "Running Chi2\n",
      "Running RFE\n",
      "Fitting estimator with 2085 features.\n",
      "Fitting estimator with 1668 features.\n",
      "Fitting estimator with 1251 features.\n",
      "Fitting estimator with 834 features.\n",
      "Running LR\n",
      "Running RF\n",
      "Running XG\n",
      "CPU times: user 2h 42min 54s, sys: 55 s, total: 2h 43min 49s\n",
      "Wall time: 14min 12s\n"
     ]
    }
   ],
   "source": [
    "%%time\n",
    "\n",
    "if tmp_dir.joinpath('test_feats.txt').exists():\n",
    "    keep_features = pd.read_csv(tmp_dir.joinpath('test_feats.txt'))['0'].tolist()\n",
    "else:\n",
    "    fsel = FeatureSelector(num_features=500, min_selections=4, n_jobs=30, \n",
    "                           feature_names=nz_feats.tolist(), random_state=rs+5)\n",
    "    sel_dwpc = fsel.fit_transform(trans_dwpc, y[train_index])\n",
    "    keep_features = fsel.keep_features_\n",
    "    pd.Series(keep_features).to_csv(tmp_dir.joinpath('test_feats.txt'), index=False)\n",
    "    fsel.feature_selection_df_.to_csv(tmp_dir.joinpath('test_fs_df.csv'), index=False)"
   ]
  },
  {
   "cell_type": "markdown",
   "metadata": {},
   "source": [
    "## Prep for Hyperparam optimization"
   ]
  },
  {
   "cell_type": "code",
   "execution_count": 41,
   "metadata": {},
   "outputs": [],
   "source": [
    "def neg_log_scal(val):\n",
    "    \"\"\"Scale values logrithmicly. Larger input yields smaller result\"\"\"\n",
    "    return (1-np.log1p(val)) \n",
    "\n",
    "def pos_log_scal(val):\n",
    "    \"\"\"Scale values logrithmicly. Larger input yields larger result\"\"\"\n",
    "    return np.log1p(val)\n",
    "\n",
    "\n",
    "def auroc_mean_loss(auroc_mean, strength=2, scal_factor=.5):\n",
    "    mean_roc_shift =  (np.abs(auroc_mean - 0.5)) / scal_factor\n",
    "    baseline_roc = neg_log_scal(1)\n",
    "    return (neg_log_scal(mean_roc_shift) - baseline_roc) * strength\n",
    "\n",
    "def avg_pre_mean_loss(avg_pre_mean, strength=2.5, scal_factor=.15):\n",
    "    avg_pre_mean_scal = avg_pre_mean / scal_factor\n",
    "    baseline_prc = neg_log_scal(1)\n",
    "    return (neg_log_scal(avg_pre_mean_scal) - baseline_prc) * strength\n",
    "\n",
    "def auroc_std_loss(auroc_std, strength=2):\n",
    "    return pos_log_scal(auroc_std) * strength\n",
    "\n",
    "def avg_pre_std_loss(avg_pre_std, strength=2):\n",
    "    return pos_log_scal(avg_pre_std) * strength\n",
    "\n",
    "def sigmoid(x):\n",
    "    return 1 / (1 + np.exp(-x))\n",
    "\n",
    "def calc_loss(auroc_mean, avg_pre_mean, auroc_std, avg_pre_std):\n",
    "    mean_roc_loss = auroc_mean_loss(auroc_mean)\n",
    "    mean_pre_loss = avg_pre_mean_loss(avg_pre_mean)\n",
    "    std_roc_loss = auroc_std_loss(auroc_std)\n",
    "    std_pre_loss = avg_pre_std_loss(avg_pre_std)\n",
    "    \n",
    "    return sigmoid(mean_roc_loss + mean_pre_loss + std_roc_loss + std_pre_loss)-1\n",
    "    \n",
    "    "
   ]
  },
  {
   "cell_type": "code",
   "execution_count": 42,
   "metadata": {},
   "outputs": [],
   "source": [
    "import pickle\n",
    "from time import time\n",
    "\n",
    "def hyperopt(param_space, y, num_eval):\n",
    "\n",
    "    def objective_function(params):\n",
    "        dwpc_params = {k.split('__')[1]: v for k, v in params.items() if k.split('__')[0] == 'dwpc'}\n",
    "        enet_params = {k.split('__')[1]: v for k, v in params.items() if k.split('__')[0] == 'enet'}\n",
    "\n",
    "        # Set up the post feature extraction pipeline\n",
    "        post_extraction_pipeline = Pipeline(\n",
    "            [('e_net', LogisticRegression(penalty='elasticnet', solver='saga', max_iter=100, **enet_params,\n",
    "                                          random_state=rs+6))], verbose=True)\n",
    "\n",
    "        cv = cross_validate(post_extraction_pipeline, sel_dwpc, y, cv=5, \n",
    "                            scoring=['average_precision', 'roc_auc'], return_estimator=True)\n",
    "\n",
    "        # Write out scores for each run\n",
    "        with open(tmp_dir.joinpath('scores_C_{0:1.5f}_l1_{1:1.4f}.txt'.format(\n",
    "                                   enet_params['C'], enet_params['l1_ratio'])), 'w') as f_out:\n",
    "\n",
    "            f_out.write(', '.join([str(s) for s in cv['test_average_precision']]))\n",
    "            f_out.write('\\n')\n",
    "            f_out.write(', '.join([str(s) for s in cv['test_roc_auc']]))\n",
    "            f_out.write('\\n')\n",
    "\n",
    "        auroc_mean = cv['test_roc_auc'].mean()\n",
    "        avg_pre_mean = cv['test_average_precision'].mean()\n",
    "        auroc_std = cv['test_roc_auc'].std()\n",
    "        avg_pre_std = cv['test_average_precision'].std()\n",
    "        \n",
    "        score = calc_loss(auroc_mean, avg_pre_mean, auroc_std, avg_pre_std)\n",
    "        \n",
    "        print('Mean AUROC: {:1.4f}'.format(auroc_mean))\n",
    "        print('Mean Avg Pre: {:1.4f}'.format(avg_pre_mean))\n",
    "        print('STD AUROC: {:1.4f}'.format(auroc_std))\n",
    "        print('STD Avg Pre: {:1.4f}'.format(avg_pre_std))\n",
    "        print('Loss: {:1.4f}'.format(score))\n",
    "        \n",
    "        return {'loss': score, 'status': STATUS_OK}\n",
    "\n",
    "    start = time()\n",
    "   \n",
    "    \n",
    "    trials = Trials()\n",
    "    best_param = fmin(objective_function, \n",
    "                      param_space, \n",
    "                      algo=tpe.suggest, \n",
    "                      max_evals=num_eval, \n",
    "                      trials=trials,\n",
    "                      rstate= np.random.RandomState(1))\n",
    "    \n",
    "    print(time() - start)\n",
    "    return trials, best_param\n",
    "    "
   ]
  },
  {
   "cell_type": "code",
   "execution_count": 43,
   "metadata": {},
   "outputs": [],
   "source": [
    "# Previous best before adding new keep_features: \n",
    "# '1l_ratio': 0.10455936193818496, 'C': 0.000556880900960339, 'w': 0.2640929485381926\n",
    "param_hyperopt = {\n",
    "    'enet__C': hp.loguniform('C', np.log(0.001), np.log(1)),\n",
    "    'enet__l1_ratio': hp.uniform('l1_ratio', .01, .99),\n",
    "}"
   ]
  },
  {
   "cell_type": "code",
   "execution_count": 44,
   "metadata": {},
   "outputs": [
    {
     "name": "stdout",
     "output_type": "stream",
     "text": [
      "[Pipeline] ............. (step 1 of 1) Processing e_net, total= 2.5min\n",
      "  0%|          | 0/50 [02:32<?, ?trial/s, best loss=?]"
     ]
    },
    {
     "name": "stderr",
     "output_type": "stream",
     "text": [
      "/opt/mmayers/software/anaconda3/envs/ml/lib/python3.6/site-packages/sklearn/linear_model/_sag.py:330: ConvergenceWarning: The max_iter was reached which means the coef_ did not converge\n",
      "  \"the coef_ did not converge\", ConvergenceWarning)\n",
      "\n"
     ]
    },
    {
     "name": "stdout",
     "output_type": "stream",
     "text": [
      "[Pipeline] ............. (step 1 of 1) Processing e_net, total= 2.5min\n",
      "  0%|          | 0/50 [05:02<?, ?trial/s, best loss=?]"
     ]
    },
    {
     "name": "stderr",
     "output_type": "stream",
     "text": [
      "/opt/mmayers/software/anaconda3/envs/ml/lib/python3.6/site-packages/sklearn/linear_model/_sag.py:330: ConvergenceWarning: The max_iter was reached which means the coef_ did not converge\n",
      "  \"the coef_ did not converge\", ConvergenceWarning)\n",
      "\n"
     ]
    },
    {
     "name": "stdout",
     "output_type": "stream",
     "text": [
      "[Pipeline] ............. (step 1 of 1) Processing e_net, total= 2.5min\n",
      "  0%|          | 0/50 [07:32<?, ?trial/s, best loss=?]"
     ]
    },
    {
     "name": "stderr",
     "output_type": "stream",
     "text": [
      "/opt/mmayers/software/anaconda3/envs/ml/lib/python3.6/site-packages/sklearn/linear_model/_sag.py:330: ConvergenceWarning: The max_iter was reached which means the coef_ did not converge\n",
      "  \"the coef_ did not converge\", ConvergenceWarning)\n",
      "\n"
     ]
    },
    {
     "name": "stdout",
     "output_type": "stream",
     "text": [
      "[Pipeline] ............. (step 1 of 1) Processing e_net, total= 2.6min\n",
      "  0%|          | 0/50 [10:06<?, ?trial/s, best loss=?]"
     ]
    },
    {
     "name": "stderr",
     "output_type": "stream",
     "text": [
      "/opt/mmayers/software/anaconda3/envs/ml/lib/python3.6/site-packages/sklearn/linear_model/_sag.py:330: ConvergenceWarning: The max_iter was reached which means the coef_ did not converge\n",
      "  \"the coef_ did not converge\", ConvergenceWarning)\n",
      "\n"
     ]
    },
    {
     "name": "stdout",
     "output_type": "stream",
     "text": [
      "[Pipeline] ............. (step 1 of 1) Processing e_net, total= 2.5min\n",
      "Mean AUROC: 0.7268                                    \n",
      "Mean Avg Pre: 0.1983                                  \n",
      "STD AUROC: 0.0540                                     \n",
      "STD Avg Pre: 0.0463                                   \n",
      "Loss: -0.3868                                         \n",
      "  2%|▏         | 1/50 [12:36<10:17:43, 756.39s/trial, best loss: -0.3867710513693433]"
     ]
    },
    {
     "name": "stderr",
     "output_type": "stream",
     "text": [
      "/opt/mmayers/software/anaconda3/envs/ml/lib/python3.6/site-packages/sklearn/linear_model/_sag.py:330: ConvergenceWarning: The max_iter was reached which means the coef_ did not converge\n",
      "  \"the coef_ did not converge\", ConvergenceWarning)\n",
      "\n"
     ]
    },
    {
     "name": "stdout",
     "output_type": "stream",
     "text": [
      "[Pipeline] ............. (step 1 of 1) Processing e_net, total= 1.7min               \n",
      "  2%|▏         | 1/50 [14:24<10:17:43, 756.39s/trial, best loss: -0.3867710513693433]"
     ]
    },
    {
     "name": "stderr",
     "output_type": "stream",
     "text": [
      "/opt/mmayers/software/anaconda3/envs/ml/lib/python3.6/site-packages/sklearn/linear_model/_sag.py:330: ConvergenceWarning: The max_iter was reached which means the coef_ did not converge\n",
      "  \"the coef_ did not converge\", ConvergenceWarning)\n",
      "\n"
     ]
    },
    {
     "name": "stdout",
     "output_type": "stream",
     "text": [
      "[Pipeline] ............. (step 1 of 1) Processing e_net, total= 1.7min               \n",
      "  2%|▏         | 1/50 [16:07<10:17:43, 756.39s/trial, best loss: -0.3867710513693433]"
     ]
    },
    {
     "name": "stderr",
     "output_type": "stream",
     "text": [
      "/opt/mmayers/software/anaconda3/envs/ml/lib/python3.6/site-packages/sklearn/linear_model/_sag.py:330: ConvergenceWarning: The max_iter was reached which means the coef_ did not converge\n",
      "  \"the coef_ did not converge\", ConvergenceWarning)\n",
      "\n"
     ]
    },
    {
     "name": "stdout",
     "output_type": "stream",
     "text": [
      "[Pipeline] ............. (step 1 of 1) Processing e_net, total= 1.8min               \n",
      "  2%|▏         | 1/50 [17:53<10:17:43, 756.39s/trial, best loss: -0.3867710513693433]"
     ]
    },
    {
     "name": "stderr",
     "output_type": "stream",
     "text": [
      "/opt/mmayers/software/anaconda3/envs/ml/lib/python3.6/site-packages/sklearn/linear_model/_sag.py:330: ConvergenceWarning: The max_iter was reached which means the coef_ did not converge\n",
      "  \"the coef_ did not converge\", ConvergenceWarning)\n",
      "\n"
     ]
    },
    {
     "name": "stdout",
     "output_type": "stream",
     "text": [
      "[Pipeline] ............. (step 1 of 1) Processing e_net, total= 1.9min               \n",
      "  2%|▏         | 1/50 [19:47<10:17:43, 756.39s/trial, best loss: -0.3867710513693433]"
     ]
    },
    {
     "name": "stderr",
     "output_type": "stream",
     "text": [
      "/opt/mmayers/software/anaconda3/envs/ml/lib/python3.6/site-packages/sklearn/linear_model/_sag.py:330: ConvergenceWarning: The max_iter was reached which means the coef_ did not converge\n",
      "  \"the coef_ did not converge\", ConvergenceWarning)\n",
      "\n"
     ]
    },
    {
     "name": "stdout",
     "output_type": "stream",
     "text": [
      "[Pipeline] ............. (step 1 of 1) Processing e_net, total= 1.8min               \n",
      "Mean AUROC: 0.7763                                                                   \n",
      "Mean Avg Pre: 0.2289                                                                 \n",
      "STD AUROC: 0.0467                                                                    \n",
      "STD Avg Pre: 0.0594                                                                  \n",
      "Loss: -0.4678                                                                        \n",
      "  4%|▍         | 2/50 [21:38<9:13:36, 692.01s/trial, best loss: -0.4677988675325231] "
     ]
    },
    {
     "name": "stderr",
     "output_type": "stream",
     "text": [
      "/opt/mmayers/software/anaconda3/envs/ml/lib/python3.6/site-packages/sklearn/linear_model/_sag.py:330: ConvergenceWarning: The max_iter was reached which means the coef_ did not converge\n",
      "  \"the coef_ did not converge\", ConvergenceWarning)\n",
      "\n"
     ]
    },
    {
     "name": "stdout",
     "output_type": "stream",
     "text": [
      "[Pipeline] ............. (step 1 of 1) Processing e_net, total= 2.0min              \n",
      "  4%|▍         | 2/50 [23:40<9:13:36, 692.01s/trial, best loss: -0.4677988675325231]"
     ]
    },
    {
     "name": "stderr",
     "output_type": "stream",
     "text": [
      "/opt/mmayers/software/anaconda3/envs/ml/lib/python3.6/site-packages/sklearn/linear_model/_sag.py:330: ConvergenceWarning: The max_iter was reached which means the coef_ did not converge\n",
      "  \"the coef_ did not converge\", ConvergenceWarning)\n",
      "\n"
     ]
    },
    {
     "name": "stdout",
     "output_type": "stream",
     "text": [
      "[Pipeline] ............. (step 1 of 1) Processing e_net, total= 2.0min              \n",
      "  4%|▍         | 2/50 [25:42<9:13:36, 692.01s/trial, best loss: -0.4677988675325231]"
     ]
    },
    {
     "name": "stderr",
     "output_type": "stream",
     "text": [
      "/opt/mmayers/software/anaconda3/envs/ml/lib/python3.6/site-packages/sklearn/linear_model/_sag.py:330: ConvergenceWarning: The max_iter was reached which means the coef_ did not converge\n",
      "  \"the coef_ did not converge\", ConvergenceWarning)\n",
      "\n"
     ]
    },
    {
     "name": "stdout",
     "output_type": "stream",
     "text": [
      "[Pipeline] ............. (step 1 of 1) Processing e_net, total= 2.1min              \n",
      "  4%|▍         | 2/50 [27:45<9:13:36, 692.01s/trial, best loss: -0.4677988675325231]"
     ]
    },
    {
     "name": "stderr",
     "output_type": "stream",
     "text": [
      "/opt/mmayers/software/anaconda3/envs/ml/lib/python3.6/site-packages/sklearn/linear_model/_sag.py:330: ConvergenceWarning: The max_iter was reached which means the coef_ did not converge\n",
      "  \"the coef_ did not converge\", ConvergenceWarning)\n",
      "\n"
     ]
    },
    {
     "name": "stdout",
     "output_type": "stream",
     "text": [
      "[Pipeline] ............. (step 1 of 1) Processing e_net, total= 2.1min              \n",
      "  4%|▍         | 2/50 [29:52<9:13:36, 692.01s/trial, best loss: -0.4677988675325231]"
     ]
    },
    {
     "name": "stderr",
     "output_type": "stream",
     "text": [
      "/opt/mmayers/software/anaconda3/envs/ml/lib/python3.6/site-packages/sklearn/linear_model/_sag.py:330: ConvergenceWarning: The max_iter was reached which means the coef_ did not converge\n",
      "  \"the coef_ did not converge\", ConvergenceWarning)\n",
      "\n"
     ]
    },
    {
     "name": "stdout",
     "output_type": "stream",
     "text": [
      "[Pipeline] ............. (step 1 of 1) Processing e_net, total= 2.0min              \n",
      "Mean AUROC: 0.7407                                                                  \n",
      "Mean Avg Pre: 0.2125                                                                \n",
      "STD AUROC: 0.0542                                                                   \n",
      "STD Avg Pre: 0.0516                                                                 \n",
      "Loss: -0.4175                                                                       \n",
      "  6%|▌         | 3/50 [31:55<8:44:29, 669.57s/trial, best loss: -0.4677988675325231]"
     ]
    },
    {
     "name": "stderr",
     "output_type": "stream",
     "text": [
      "/opt/mmayers/software/anaconda3/envs/ml/lib/python3.6/site-packages/sklearn/linear_model/_sag.py:330: ConvergenceWarning: The max_iter was reached which means the coef_ did not converge\n",
      "  \"the coef_ did not converge\", ConvergenceWarning)\n",
      "\n"
     ]
    },
    {
     "name": "stdout",
     "output_type": "stream",
     "text": [
      "[Pipeline] ............. (step 1 of 1) Processing e_net, total= 1.6min              \n",
      "  6%|▌         | 3/50 [33:36<8:44:29, 669.57s/trial, best loss: -0.4677988675325231]"
     ]
    },
    {
     "name": "stderr",
     "output_type": "stream",
     "text": [
      "/opt/mmayers/software/anaconda3/envs/ml/lib/python3.6/site-packages/sklearn/linear_model/_sag.py:330: ConvergenceWarning: The max_iter was reached which means the coef_ did not converge\n",
      "  \"the coef_ did not converge\", ConvergenceWarning)\n",
      "\n"
     ]
    },
    {
     "name": "stdout",
     "output_type": "stream",
     "text": [
      "[Pipeline] ............. (step 1 of 1) Processing e_net, total= 1.6min              \n",
      "  6%|▌         | 3/50 [35:12<8:44:29, 669.57s/trial, best loss: -0.4677988675325231]"
     ]
    },
    {
     "name": "stderr",
     "output_type": "stream",
     "text": [
      "/opt/mmayers/software/anaconda3/envs/ml/lib/python3.6/site-packages/sklearn/linear_model/_sag.py:330: ConvergenceWarning: The max_iter was reached which means the coef_ did not converge\n",
      "  \"the coef_ did not converge\", ConvergenceWarning)\n",
      "\n"
     ]
    },
    {
     "name": "stdout",
     "output_type": "stream",
     "text": [
      "[Pipeline] ............. (step 1 of 1) Processing e_net, total= 1.6min              \n",
      "  6%|▌         | 3/50 [36:51<8:44:29, 669.57s/trial, best loss: -0.4677988675325231]"
     ]
    },
    {
     "name": "stderr",
     "output_type": "stream",
     "text": [
      "/opt/mmayers/software/anaconda3/envs/ml/lib/python3.6/site-packages/sklearn/linear_model/_sag.py:330: ConvergenceWarning: The max_iter was reached which means the coef_ did not converge\n",
      "  \"the coef_ did not converge\", ConvergenceWarning)\n",
      "\n"
     ]
    },
    {
     "name": "stdout",
     "output_type": "stream",
     "text": [
      "[Pipeline] ............. (step 1 of 1) Processing e_net, total= 1.8min              \n",
      "  6%|▌         | 3/50 [38:38<8:44:29, 669.57s/trial, best loss: -0.4677988675325231]"
     ]
    },
    {
     "name": "stderr",
     "output_type": "stream",
     "text": [
      "/opt/mmayers/software/anaconda3/envs/ml/lib/python3.6/site-packages/sklearn/linear_model/_sag.py:330: ConvergenceWarning: The max_iter was reached which means the coef_ did not converge\n",
      "  \"the coef_ did not converge\", ConvergenceWarning)\n",
      "\n"
     ]
    },
    {
     "name": "stdout",
     "output_type": "stream",
     "text": [
      "[Pipeline] ............. (step 1 of 1) Processing e_net, total= 1.7min              \n",
      "Mean AUROC: 0.7993                                                                  \n",
      "Mean Avg Pre: 0.2336                                                                \n",
      "STD AUROC: 0.0405                                                                   \n",
      "STD Avg Pre: 0.0629                                                                 \n",
      "Loss: -0.4913                                                                       \n",
      "  8%|▊         | 4/50 [40:21<7:55:47, 620.59s/trial, best loss: -0.49129821430140086]"
     ]
    },
    {
     "name": "stderr",
     "output_type": "stream",
     "text": [
      "/opt/mmayers/software/anaconda3/envs/ml/lib/python3.6/site-packages/sklearn/linear_model/_sag.py:330: ConvergenceWarning: The max_iter was reached which means the coef_ did not converge\n",
      "  \"the coef_ did not converge\", ConvergenceWarning)\n",
      "\n"
     ]
    },
    {
     "name": "stdout",
     "output_type": "stream",
     "text": [
      "[Pipeline] ............. (step 1 of 1) Processing e_net, total= 2.0min               \n",
      "  8%|▊         | 4/50 [42:24<7:55:47, 620.59s/trial, best loss: -0.49129821430140086]"
     ]
    },
    {
     "name": "stderr",
     "output_type": "stream",
     "text": [
      "/opt/mmayers/software/anaconda3/envs/ml/lib/python3.6/site-packages/sklearn/linear_model/_sag.py:330: ConvergenceWarning: The max_iter was reached which means the coef_ did not converge\n",
      "  \"the coef_ did not converge\", ConvergenceWarning)\n",
      "\n"
     ]
    },
    {
     "name": "stdout",
     "output_type": "stream",
     "text": [
      "[Pipeline] ............. (step 1 of 1) Processing e_net, total= 2.1min               \n",
      "  8%|▊         | 4/50 [44:28<7:55:47, 620.59s/trial, best loss: -0.49129821430140086]"
     ]
    },
    {
     "name": "stderr",
     "output_type": "stream",
     "text": [
      "/opt/mmayers/software/anaconda3/envs/ml/lib/python3.6/site-packages/sklearn/linear_model/_sag.py:330: ConvergenceWarning: The max_iter was reached which means the coef_ did not converge\n",
      "  \"the coef_ did not converge\", ConvergenceWarning)\n",
      "\n"
     ]
    },
    {
     "name": "stdout",
     "output_type": "stream",
     "text": [
      "[Pipeline] ............. (step 1 of 1) Processing e_net, total= 2.0min               \n",
      "  8%|▊         | 4/50 [46:31<7:55:47, 620.59s/trial, best loss: -0.49129821430140086]"
     ]
    },
    {
     "name": "stderr",
     "output_type": "stream",
     "text": [
      "/opt/mmayers/software/anaconda3/envs/ml/lib/python3.6/site-packages/sklearn/linear_model/_sag.py:330: ConvergenceWarning: The max_iter was reached which means the coef_ did not converge\n",
      "  \"the coef_ did not converge\", ConvergenceWarning)\n",
      "\n"
     ]
    },
    {
     "name": "stdout",
     "output_type": "stream",
     "text": [
      "[Pipeline] ............. (step 1 of 1) Processing e_net, total= 2.1min               \n",
      "  8%|▊         | 4/50 [48:40<7:55:47, 620.59s/trial, best loss: -0.49129821430140086]"
     ]
    },
    {
     "name": "stderr",
     "output_type": "stream",
     "text": [
      "/opt/mmayers/software/anaconda3/envs/ml/lib/python3.6/site-packages/sklearn/linear_model/_sag.py:330: ConvergenceWarning: The max_iter was reached which means the coef_ did not converge\n",
      "  \"the coef_ did not converge\", ConvergenceWarning)\n",
      "\n"
     ]
    },
    {
     "name": "stdout",
     "output_type": "stream",
     "text": [
      "[Pipeline] ............. (step 1 of 1) Processing e_net, total= 2.0min               \n",
      "Mean AUROC: 0.7367                                                                   \n",
      "Mean Avg Pre: 0.2092                                                                 \n",
      "STD AUROC: 0.0540                                                                    \n",
      "STD Avg Pre: 0.0501                                                                  \n",
      "Loss: -0.4099                                                                        \n",
      " 10%|█         | 5/50 [50:42<7:45:27, 620.61s/trial, best loss: -0.49129821430140086]"
     ]
    },
    {
     "name": "stderr",
     "output_type": "stream",
     "text": [
      "/opt/mmayers/software/anaconda3/envs/ml/lib/python3.6/site-packages/sklearn/linear_model/_sag.py:330: ConvergenceWarning: The max_iter was reached which means the coef_ did not converge\n",
      "  \"the coef_ did not converge\", ConvergenceWarning)\n",
      "\n"
     ]
    },
    {
     "name": "stdout",
     "output_type": "stream",
     "text": [
      "[Pipeline] ............. (step 1 of 1) Processing e_net, total= 1.7min               \n",
      " 10%|█         | 5/50 [52:26<7:45:27, 620.61s/trial, best loss: -0.49129821430140086]"
     ]
    },
    {
     "name": "stderr",
     "output_type": "stream",
     "text": [
      "/opt/mmayers/software/anaconda3/envs/ml/lib/python3.6/site-packages/sklearn/linear_model/_sag.py:330: ConvergenceWarning: The max_iter was reached which means the coef_ did not converge\n",
      "  \"the coef_ did not converge\", ConvergenceWarning)\n",
      "\n"
     ]
    },
    {
     "name": "stdout",
     "output_type": "stream",
     "text": [
      "[Pipeline] ............. (step 1 of 1) Processing e_net, total= 1.7min               \n",
      " 10%|█         | 5/50 [54:09<7:45:27, 620.61s/trial, best loss: -0.49129821430140086]"
     ]
    },
    {
     "name": "stderr",
     "output_type": "stream",
     "text": [
      "/opt/mmayers/software/anaconda3/envs/ml/lib/python3.6/site-packages/sklearn/linear_model/_sag.py:330: ConvergenceWarning: The max_iter was reached which means the coef_ did not converge\n",
      "  \"the coef_ did not converge\", ConvergenceWarning)\n",
      "\n"
     ]
    },
    {
     "name": "stdout",
     "output_type": "stream",
     "text": [
      "[Pipeline] ............. (step 1 of 1) Processing e_net, total= 1.7min               \n",
      " 10%|█         | 5/50 [55:53<7:45:27, 620.61s/trial, best loss: -0.49129821430140086]"
     ]
    },
    {
     "name": "stderr",
     "output_type": "stream",
     "text": [
      "/opt/mmayers/software/anaconda3/envs/ml/lib/python3.6/site-packages/sklearn/linear_model/_sag.py:330: ConvergenceWarning: The max_iter was reached which means the coef_ did not converge\n",
      "  \"the coef_ did not converge\", ConvergenceWarning)\n",
      "\n"
     ]
    },
    {
     "name": "stdout",
     "output_type": "stream",
     "text": [
      "[Pipeline] ............. (step 1 of 1) Processing e_net, total= 1.8min               \n",
      " 10%|█         | 5/50 [57:40<7:45:27, 620.61s/trial, best loss: -0.49129821430140086]"
     ]
    },
    {
     "name": "stderr",
     "output_type": "stream",
     "text": [
      "/opt/mmayers/software/anaconda3/envs/ml/lib/python3.6/site-packages/sklearn/linear_model/_sag.py:330: ConvergenceWarning: The max_iter was reached which means the coef_ did not converge\n",
      "  \"the coef_ did not converge\", ConvergenceWarning)\n",
      "\n"
     ]
    },
    {
     "name": "stdout",
     "output_type": "stream",
     "text": [
      "[Pipeline] ............. (step 1 of 1) Processing e_net, total= 1.7min               \n",
      "Mean AUROC: 0.7425                                                                   \n",
      "Mean Avg Pre: 0.2136                                                                 \n",
      "STD AUROC: 0.0541                                                                    \n",
      "STD Avg Pre: 0.0519                                                                  \n",
      "Loss: -0.4203                                                                        \n",
      " 12%|█▏        | 6/50 [59:23<7:13:09, 590.67s/trial, best loss: -0.49129821430140086]"
     ]
    },
    {
     "name": "stderr",
     "output_type": "stream",
     "text": [
      "/opt/mmayers/software/anaconda3/envs/ml/lib/python3.6/site-packages/sklearn/linear_model/_sag.py:330: ConvergenceWarning: The max_iter was reached which means the coef_ did not converge\n",
      "  \"the coef_ did not converge\", ConvergenceWarning)\n",
      "\n"
     ]
    },
    {
     "name": "stdout",
     "output_type": "stream",
     "text": [
      "[Pipeline] ............. (step 1 of 1) Processing e_net, total= 1.6min               \n",
      " 12%|█▏        | 6/50 [1:01:05<7:13:09, 590.67s/trial, best loss: -0.49129821430140086]"
     ]
    },
    {
     "name": "stderr",
     "output_type": "stream",
     "text": [
      "/opt/mmayers/software/anaconda3/envs/ml/lib/python3.6/site-packages/sklearn/linear_model/_sag.py:330: ConvergenceWarning: The max_iter was reached which means the coef_ did not converge\n",
      "  \"the coef_ did not converge\", ConvergenceWarning)\n",
      "\n"
     ]
    },
    {
     "name": "stdout",
     "output_type": "stream",
     "text": [
      "[Pipeline] ............. (step 1 of 1) Processing e_net, total= 1.6min                 \n",
      " 12%|█▏        | 6/50 [1:02:43<7:13:09, 590.67s/trial, best loss: -0.49129821430140086]"
     ]
    },
    {
     "name": "stderr",
     "output_type": "stream",
     "text": [
      "/opt/mmayers/software/anaconda3/envs/ml/lib/python3.6/site-packages/sklearn/linear_model/_sag.py:330: ConvergenceWarning: The max_iter was reached which means the coef_ did not converge\n",
      "  \"the coef_ did not converge\", ConvergenceWarning)\n",
      "\n"
     ]
    },
    {
     "name": "stdout",
     "output_type": "stream",
     "text": [
      "[Pipeline] ............. (step 1 of 1) Processing e_net, total= 1.7min                 \n",
      " 12%|█▏        | 6/50 [1:04:26<7:13:09, 590.67s/trial, best loss: -0.49129821430140086]"
     ]
    },
    {
     "name": "stderr",
     "output_type": "stream",
     "text": [
      "/opt/mmayers/software/anaconda3/envs/ml/lib/python3.6/site-packages/sklearn/linear_model/_sag.py:330: ConvergenceWarning: The max_iter was reached which means the coef_ did not converge\n",
      "  \"the coef_ did not converge\", ConvergenceWarning)\n",
      "\n"
     ]
    },
    {
     "name": "stdout",
     "output_type": "stream",
     "text": [
      "[Pipeline] ............. (step 1 of 1) Processing e_net, total= 1.8min                 \n",
      " 12%|█▏        | 6/50 [1:06:12<7:13:09, 590.67s/trial, best loss: -0.49129821430140086]"
     ]
    },
    {
     "name": "stderr",
     "output_type": "stream",
     "text": [
      "/opt/mmayers/software/anaconda3/envs/ml/lib/python3.6/site-packages/sklearn/linear_model/_sag.py:330: ConvergenceWarning: The max_iter was reached which means the coef_ did not converge\n",
      "  \"the coef_ did not converge\", ConvergenceWarning)\n",
      "\n"
     ]
    },
    {
     "name": "stdout",
     "output_type": "stream",
     "text": [
      "[Pipeline] ............. (step 1 of 1) Processing e_net, total= 1.7min                 \n",
      "Mean AUROC: 0.7388                                                                     \n",
      "Mean Avg Pre: 0.2107                                                                   \n",
      "STD AUROC: 0.0541                                                                      \n",
      "STD Avg Pre: 0.0507                                                                    \n",
      "Loss: -0.4136                                                                          \n",
      " 14%|█▍        | 7/50 [1:07:54<6:46:15, 566.86s/trial, best loss: -0.49129821430140086]"
     ]
    },
    {
     "name": "stderr",
     "output_type": "stream",
     "text": [
      "/opt/mmayers/software/anaconda3/envs/ml/lib/python3.6/site-packages/sklearn/linear_model/_sag.py:330: ConvergenceWarning: The max_iter was reached which means the coef_ did not converge\n",
      "  \"the coef_ did not converge\", ConvergenceWarning)\n",
      "\n"
     ]
    },
    {
     "name": "stdout",
     "output_type": "stream",
     "text": [
      "[Pipeline] ............. (step 1 of 1) Processing e_net, total= 1.8min                 \n",
      " 14%|█▍        | 7/50 [1:09:45<6:46:15, 566.86s/trial, best loss: -0.49129821430140086]"
     ]
    },
    {
     "name": "stderr",
     "output_type": "stream",
     "text": [
      "/opt/mmayers/software/anaconda3/envs/ml/lib/python3.6/site-packages/sklearn/linear_model/_sag.py:330: ConvergenceWarning: The max_iter was reached which means the coef_ did not converge\n",
      "  \"the coef_ did not converge\", ConvergenceWarning)\n",
      "\n"
     ]
    },
    {
     "name": "stdout",
     "output_type": "stream",
     "text": [
      "[Pipeline] ............. (step 1 of 1) Processing e_net, total= 1.8min                 \n",
      " 14%|█▍        | 7/50 [1:11:31<6:46:15, 566.86s/trial, best loss: -0.49129821430140086]"
     ]
    },
    {
     "name": "stderr",
     "output_type": "stream",
     "text": [
      "/opt/mmayers/software/anaconda3/envs/ml/lib/python3.6/site-packages/sklearn/linear_model/_sag.py:330: ConvergenceWarning: The max_iter was reached which means the coef_ did not converge\n",
      "  \"the coef_ did not converge\", ConvergenceWarning)\n",
      "\n"
     ]
    },
    {
     "name": "stdout",
     "output_type": "stream",
     "text": [
      "[Pipeline] ............. (step 1 of 1) Processing e_net, total= 1.8min                 \n",
      " 14%|█▍        | 7/50 [1:13:19<6:46:15, 566.86s/trial, best loss: -0.49129821430140086]"
     ]
    },
    {
     "name": "stderr",
     "output_type": "stream",
     "text": [
      "/opt/mmayers/software/anaconda3/envs/ml/lib/python3.6/site-packages/sklearn/linear_model/_sag.py:330: ConvergenceWarning: The max_iter was reached which means the coef_ did not converge\n",
      "  \"the coef_ did not converge\", ConvergenceWarning)\n",
      "\n"
     ]
    },
    {
     "name": "stdout",
     "output_type": "stream",
     "text": [
      "[Pipeline] ............. (step 1 of 1) Processing e_net, total= 1.9min                 \n",
      " 14%|█▍        | 7/50 [1:15:14<6:46:15, 566.86s/trial, best loss: -0.49129821430140086]"
     ]
    },
    {
     "name": "stderr",
     "output_type": "stream",
     "text": [
      "/opt/mmayers/software/anaconda3/envs/ml/lib/python3.6/site-packages/sklearn/linear_model/_sag.py:330: ConvergenceWarning: The max_iter was reached which means the coef_ did not converge\n",
      "  \"the coef_ did not converge\", ConvergenceWarning)\n",
      "\n"
     ]
    },
    {
     "name": "stdout",
     "output_type": "stream",
     "text": [
      "[Pipeline] ............. (step 1 of 1) Processing e_net, total= 1.9min                 \n",
      "Mean AUROC: 0.7664                                                                     \n",
      "Mean Avg Pre: 0.2258                                                                   \n",
      "STD AUROC: 0.0496                                                                      \n",
      "STD Avg Pre: 0.0576                                                                    \n",
      "Loss: -0.4558                                                                          \n",
      " 16%|█▌        | 8/50 [1:17:06<6:33:45, 562.52s/trial, best loss: -0.49129821430140086]"
     ]
    },
    {
     "name": "stderr",
     "output_type": "stream",
     "text": [
      "/opt/mmayers/software/anaconda3/envs/ml/lib/python3.6/site-packages/sklearn/linear_model/_sag.py:330: ConvergenceWarning: The max_iter was reached which means the coef_ did not converge\n",
      "  \"the coef_ did not converge\", ConvergenceWarning)\n",
      "\n"
     ]
    },
    {
     "name": "stdout",
     "output_type": "stream",
     "text": [
      "[Pipeline] ............. (step 1 of 1) Processing e_net, total= 2.4min                 \n",
      " 16%|█▌        | 8/50 [1:19:35<6:33:45, 562.52s/trial, best loss: -0.49129821430140086]"
     ]
    },
    {
     "name": "stderr",
     "output_type": "stream",
     "text": [
      "/opt/mmayers/software/anaconda3/envs/ml/lib/python3.6/site-packages/sklearn/linear_model/_sag.py:330: ConvergenceWarning: The max_iter was reached which means the coef_ did not converge\n",
      "  \"the coef_ did not converge\", ConvergenceWarning)\n",
      "\n"
     ]
    },
    {
     "name": "stdout",
     "output_type": "stream",
     "text": [
      "[Pipeline] ............. (step 1 of 1) Processing e_net, total= 2.4min                 \n",
      " 16%|█▌        | 8/50 [1:22:00<6:33:45, 562.52s/trial, best loss: -0.49129821430140086]"
     ]
    },
    {
     "name": "stderr",
     "output_type": "stream",
     "text": [
      "/opt/mmayers/software/anaconda3/envs/ml/lib/python3.6/site-packages/sklearn/linear_model/_sag.py:330: ConvergenceWarning: The max_iter was reached which means the coef_ did not converge\n",
      "  \"the coef_ did not converge\", ConvergenceWarning)\n",
      "\n"
     ]
    },
    {
     "name": "stdout",
     "output_type": "stream",
     "text": [
      "[Pipeline] ............. (step 1 of 1) Processing e_net, total= 2.5min                 \n",
      " 16%|█▌        | 8/50 [1:24:27<6:33:45, 562.52s/trial, best loss: -0.49129821430140086]"
     ]
    },
    {
     "name": "stderr",
     "output_type": "stream",
     "text": [
      "/opt/mmayers/software/anaconda3/envs/ml/lib/python3.6/site-packages/sklearn/linear_model/_sag.py:330: ConvergenceWarning: The max_iter was reached which means the coef_ did not converge\n",
      "  \"the coef_ did not converge\", ConvergenceWarning)\n",
      "\n"
     ]
    },
    {
     "name": "stdout",
     "output_type": "stream",
     "text": [
      "[Pipeline] ............. (step 1 of 1) Processing e_net, total= 2.5min                 \n",
      " 16%|█▌        | 8/50 [1:26:57<6:33:45, 562.52s/trial, best loss: -0.49129821430140086]"
     ]
    },
    {
     "name": "stderr",
     "output_type": "stream",
     "text": [
      "/opt/mmayers/software/anaconda3/envs/ml/lib/python3.6/site-packages/sklearn/linear_model/_sag.py:330: ConvergenceWarning: The max_iter was reached which means the coef_ did not converge\n",
      "  \"the coef_ did not converge\", ConvergenceWarning)\n",
      "\n"
     ]
    },
    {
     "name": "stdout",
     "output_type": "stream",
     "text": [
      "[Pipeline] ............. (step 1 of 1) Processing e_net, total= 2.4min                 \n",
      "Mean AUROC: 0.7267                                                                     \n",
      "Mean Avg Pre: 0.1980                                                                   \n",
      "STD AUROC: 0.0540                                                                      \n",
      "STD Avg Pre: 0.0462                                                                    \n",
      "Loss: -0.3863                                                                          \n",
      " 18%|█▊        | 9/50 [1:29:23<7:00:10, 614.88s/trial, best loss: -0.49129821430140086]"
     ]
    },
    {
     "name": "stderr",
     "output_type": "stream",
     "text": [
      "/opt/mmayers/software/anaconda3/envs/ml/lib/python3.6/site-packages/sklearn/linear_model/_sag.py:330: ConvergenceWarning: The max_iter was reached which means the coef_ did not converge\n",
      "  \"the coef_ did not converge\", ConvergenceWarning)\n",
      "\n"
     ]
    },
    {
     "name": "stdout",
     "output_type": "stream",
     "text": [
      "[Pipeline] ............. (step 1 of 1) Processing e_net, total= 2.3min                 \n",
      " 18%|█▊        | 9/50 [1:31:47<7:00:10, 614.88s/trial, best loss: -0.49129821430140086]"
     ]
    },
    {
     "name": "stderr",
     "output_type": "stream",
     "text": [
      "/opt/mmayers/software/anaconda3/envs/ml/lib/python3.6/site-packages/sklearn/linear_model/_sag.py:330: ConvergenceWarning: The max_iter was reached which means the coef_ did not converge\n",
      "  \"the coef_ did not converge\", ConvergenceWarning)\n",
      "\n"
     ]
    },
    {
     "name": "stdout",
     "output_type": "stream",
     "text": [
      "[Pipeline] ............. (step 1 of 1) Processing e_net, total= 2.4min                 \n",
      " 18%|█▊        | 9/50 [1:34:09<7:00:10, 614.88s/trial, best loss: -0.49129821430140086]"
     ]
    },
    {
     "name": "stderr",
     "output_type": "stream",
     "text": [
      "/opt/mmayers/software/anaconda3/envs/ml/lib/python3.6/site-packages/sklearn/linear_model/_sag.py:330: ConvergenceWarning: The max_iter was reached which means the coef_ did not converge\n",
      "  \"the coef_ did not converge\", ConvergenceWarning)\n",
      "\n"
     ]
    },
    {
     "name": "stdout",
     "output_type": "stream",
     "text": [
      "[Pipeline] ............. (step 1 of 1) Processing e_net, total= 2.3min                 \n",
      " 18%|█▊        | 9/50 [1:36:30<7:00:10, 614.88s/trial, best loss: -0.49129821430140086]"
     ]
    },
    {
     "name": "stderr",
     "output_type": "stream",
     "text": [
      "/opt/mmayers/software/anaconda3/envs/ml/lib/python3.6/site-packages/sklearn/linear_model/_sag.py:330: ConvergenceWarning: The max_iter was reached which means the coef_ did not converge\n",
      "  \"the coef_ did not converge\", ConvergenceWarning)\n",
      "\n"
     ]
    },
    {
     "name": "stdout",
     "output_type": "stream",
     "text": [
      "[Pipeline] ............. (step 1 of 1) Processing e_net, total= 2.4min                 \n",
      " 18%|█▊        | 9/50 [1:38:55<7:00:10, 614.88s/trial, best loss: -0.49129821430140086]"
     ]
    },
    {
     "name": "stderr",
     "output_type": "stream",
     "text": [
      "/opt/mmayers/software/anaconda3/envs/ml/lib/python3.6/site-packages/sklearn/linear_model/_sag.py:330: ConvergenceWarning: The max_iter was reached which means the coef_ did not converge\n",
      "  \"the coef_ did not converge\", ConvergenceWarning)\n",
      "\n"
     ]
    },
    {
     "name": "stdout",
     "output_type": "stream",
     "text": [
      "[Pipeline] ............. (step 1 of 1) Processing e_net, total= 2.3min                 \n",
      "Mean AUROC: 0.7300                                                                     \n",
      "Mean Avg Pre: 0.2024                                                                   \n",
      "STD AUROC: 0.0540                                                                      \n",
      "STD Avg Pre: 0.0478                                                                    \n",
      "Loss: -0.3953                                                                          \n",
      " 20%|██        | 10/50 [1:41:14<7:08:59, 643.48s/trial, best loss: -0.49129821430140086]"
     ]
    },
    {
     "name": "stderr",
     "output_type": "stream",
     "text": [
      "/opt/mmayers/software/anaconda3/envs/ml/lib/python3.6/site-packages/sklearn/linear_model/_sag.py:330: ConvergenceWarning: The max_iter was reached which means the coef_ did not converge\n",
      "  \"the coef_ did not converge\", ConvergenceWarning)\n",
      "\n"
     ]
    },
    {
     "name": "stdout",
     "output_type": "stream",
     "text": [
      "[Pipeline] ............. (step 1 of 1) Processing e_net, total= 2.5min                  \n",
      " 20%|██        | 10/50 [1:43:49<7:08:59, 643.48s/trial, best loss: -0.49129821430140086]"
     ]
    },
    {
     "name": "stderr",
     "output_type": "stream",
     "text": [
      "/opt/mmayers/software/anaconda3/envs/ml/lib/python3.6/site-packages/sklearn/linear_model/_sag.py:330: ConvergenceWarning: The max_iter was reached which means the coef_ did not converge\n",
      "  \"the coef_ did not converge\", ConvergenceWarning)\n",
      "\n"
     ]
    },
    {
     "name": "stdout",
     "output_type": "stream",
     "text": [
      "[Pipeline] ............. (step 1 of 1) Processing e_net, total= 2.5min                  \n",
      " 20%|██        | 10/50 [1:46:22<7:08:59, 643.48s/trial, best loss: -0.49129821430140086]"
     ]
    },
    {
     "name": "stderr",
     "output_type": "stream",
     "text": [
      "/opt/mmayers/software/anaconda3/envs/ml/lib/python3.6/site-packages/sklearn/linear_model/_sag.py:330: ConvergenceWarning: The max_iter was reached which means the coef_ did not converge\n",
      "  \"the coef_ did not converge\", ConvergenceWarning)\n",
      "\n"
     ]
    },
    {
     "name": "stdout",
     "output_type": "stream",
     "text": [
      "[Pipeline] ............. (step 1 of 1) Processing e_net, total= 2.6min                  \n",
      " 20%|██        | 10/50 [1:48:57<7:08:59, 643.48s/trial, best loss: -0.49129821430140086]"
     ]
    },
    {
     "name": "stderr",
     "output_type": "stream",
     "text": [
      "/opt/mmayers/software/anaconda3/envs/ml/lib/python3.6/site-packages/sklearn/linear_model/_sag.py:330: ConvergenceWarning: The max_iter was reached which means the coef_ did not converge\n",
      "  \"the coef_ did not converge\", ConvergenceWarning)\n",
      "\n"
     ]
    },
    {
     "name": "stdout",
     "output_type": "stream",
     "text": [
      "[Pipeline] ............. (step 1 of 1) Processing e_net, total= 2.6min                  \n",
      " 20%|██        | 10/50 [1:51:34<7:08:59, 643.48s/trial, best loss: -0.49129821430140086]"
     ]
    },
    {
     "name": "stderr",
     "output_type": "stream",
     "text": [
      "/opt/mmayers/software/anaconda3/envs/ml/lib/python3.6/site-packages/sklearn/linear_model/_sag.py:330: ConvergenceWarning: The max_iter was reached which means the coef_ did not converge\n",
      "  \"the coef_ did not converge\", ConvergenceWarning)\n",
      "\n"
     ]
    },
    {
     "name": "stdout",
     "output_type": "stream",
     "text": [
      "[Pipeline] ............. (step 1 of 1) Processing e_net, total= 2.6min                  \n",
      "Mean AUROC: 0.7263                                                                      \n",
      "Mean Avg Pre: 0.1977                                                                    \n",
      "STD AUROC: 0.0540                                                                       \n",
      "STD Avg Pre: 0.0461                                                                     \n",
      "Loss: -0.3857                                                                           \n",
      " 22%|██▏       | 11/50 [1:54:07<7:23:36, 682.47s/trial, best loss: -0.49129821430140086]"
     ]
    },
    {
     "name": "stderr",
     "output_type": "stream",
     "text": [
      "/opt/mmayers/software/anaconda3/envs/ml/lib/python3.6/site-packages/sklearn/linear_model/_sag.py:330: ConvergenceWarning: The max_iter was reached which means the coef_ did not converge\n",
      "  \"the coef_ did not converge\", ConvergenceWarning)\n",
      "\n"
     ]
    },
    {
     "name": "stdout",
     "output_type": "stream",
     "text": [
      "[Pipeline] ............. (step 1 of 1) Processing e_net, total= 2.1min                  \n",
      " 22%|██▏       | 11/50 [1:56:19<7:23:36, 682.47s/trial, best loss: -0.49129821430140086]"
     ]
    },
    {
     "name": "stderr",
     "output_type": "stream",
     "text": [
      "/opt/mmayers/software/anaconda3/envs/ml/lib/python3.6/site-packages/sklearn/linear_model/_sag.py:330: ConvergenceWarning: The max_iter was reached which means the coef_ did not converge\n",
      "  \"the coef_ did not converge\", ConvergenceWarning)\n",
      "\n"
     ]
    },
    {
     "name": "stdout",
     "output_type": "stream",
     "text": [
      "[Pipeline] ............. (step 1 of 1) Processing e_net, total= 2.1min                  \n",
      " 22%|██▏       | 11/50 [1:58:28<7:23:36, 682.47s/trial, best loss: -0.49129821430140086]"
     ]
    },
    {
     "name": "stderr",
     "output_type": "stream",
     "text": [
      "/opt/mmayers/software/anaconda3/envs/ml/lib/python3.6/site-packages/sklearn/linear_model/_sag.py:330: ConvergenceWarning: The max_iter was reached which means the coef_ did not converge\n",
      "  \"the coef_ did not converge\", ConvergenceWarning)\n",
      "\n"
     ]
    },
    {
     "name": "stdout",
     "output_type": "stream",
     "text": [
      "[Pipeline] ............. (step 1 of 1) Processing e_net, total= 2.2min                  \n",
      " 22%|██▏       | 11/50 [2:00:38<7:23:36, 682.47s/trial, best loss: -0.49129821430140086]"
     ]
    },
    {
     "name": "stderr",
     "output_type": "stream",
     "text": [
      "/opt/mmayers/software/anaconda3/envs/ml/lib/python3.6/site-packages/sklearn/linear_model/_sag.py:330: ConvergenceWarning: The max_iter was reached which means the coef_ did not converge\n",
      "  \"the coef_ did not converge\", ConvergenceWarning)\n",
      "\n"
     ]
    },
    {
     "name": "stdout",
     "output_type": "stream",
     "text": [
      "[Pipeline] ............. (step 1 of 1) Processing e_net, total= 2.2min                  \n",
      " 22%|██▏       | 11/50 [2:02:52<7:23:36, 682.47s/trial, best loss: -0.49129821430140086]"
     ]
    },
    {
     "name": "stderr",
     "output_type": "stream",
     "text": [
      "/opt/mmayers/software/anaconda3/envs/ml/lib/python3.6/site-packages/sklearn/linear_model/_sag.py:330: ConvergenceWarning: The max_iter was reached which means the coef_ did not converge\n",
      "  \"the coef_ did not converge\", ConvergenceWarning)\n",
      "\n"
     ]
    },
    {
     "name": "stdout",
     "output_type": "stream",
     "text": [
      "[Pipeline] ............. (step 1 of 1) Processing e_net, total= 2.1min                  \n",
      "Mean AUROC: 0.7295                                                                      \n",
      "Mean Avg Pre: 0.2013                                                                    \n",
      "STD AUROC: 0.0540                                                                       \n",
      "STD Avg Pre: 0.0474                                                                     \n",
      "Loss: -0.3932                                                                           \n",
      " 24%|██▍       | 12/50 [2:04:59<7:06:31, 673.45s/trial, best loss: -0.49129821430140086]"
     ]
    },
    {
     "name": "stderr",
     "output_type": "stream",
     "text": [
      "/opt/mmayers/software/anaconda3/envs/ml/lib/python3.6/site-packages/sklearn/linear_model/_sag.py:330: ConvergenceWarning: The max_iter was reached which means the coef_ did not converge\n",
      "  \"the coef_ did not converge\", ConvergenceWarning)\n",
      "\n"
     ]
    },
    {
     "name": "stdout",
     "output_type": "stream",
     "text": [
      "[Pipeline] ............. (step 1 of 1) Processing e_net, total= 2.4min                  \n",
      " 24%|██▍       | 12/50 [2:07:25<7:06:31, 673.45s/trial, best loss: -0.49129821430140086]"
     ]
    },
    {
     "name": "stderr",
     "output_type": "stream",
     "text": [
      "/opt/mmayers/software/anaconda3/envs/ml/lib/python3.6/site-packages/sklearn/linear_model/_sag.py:330: ConvergenceWarning: The max_iter was reached which means the coef_ did not converge\n",
      "  \"the coef_ did not converge\", ConvergenceWarning)\n",
      "\n"
     ]
    },
    {
     "name": "stdout",
     "output_type": "stream",
     "text": [
      "[Pipeline] ............. (step 1 of 1) Processing e_net, total= 2.3min                  \n",
      " 24%|██▍       | 12/50 [2:09:45<7:06:31, 673.45s/trial, best loss: -0.49129821430140086]"
     ]
    },
    {
     "name": "stderr",
     "output_type": "stream",
     "text": [
      "/opt/mmayers/software/anaconda3/envs/ml/lib/python3.6/site-packages/sklearn/linear_model/_sag.py:330: ConvergenceWarning: The max_iter was reached which means the coef_ did not converge\n",
      "  \"the coef_ did not converge\", ConvergenceWarning)\n",
      "\n"
     ]
    },
    {
     "name": "stdout",
     "output_type": "stream",
     "text": [
      "[Pipeline] ............. (step 1 of 1) Processing e_net, total= 2.4min                  \n",
      " 24%|██▍       | 12/50 [2:12:09<7:06:31, 673.45s/trial, best loss: -0.49129821430140086]"
     ]
    },
    {
     "name": "stderr",
     "output_type": "stream",
     "text": [
      "/opt/mmayers/software/anaconda3/envs/ml/lib/python3.6/site-packages/sklearn/linear_model/_sag.py:330: ConvergenceWarning: The max_iter was reached which means the coef_ did not converge\n",
      "  \"the coef_ did not converge\", ConvergenceWarning)\n",
      "\n"
     ]
    },
    {
     "name": "stdout",
     "output_type": "stream",
     "text": [
      "[Pipeline] ............. (step 1 of 1) Processing e_net, total= 2.4min                  \n",
      " 24%|██▍       | 12/50 [2:14:35<7:06:31, 673.45s/trial, best loss: -0.49129821430140086]"
     ]
    },
    {
     "name": "stderr",
     "output_type": "stream",
     "text": [
      "/opt/mmayers/software/anaconda3/envs/ml/lib/python3.6/site-packages/sklearn/linear_model/_sag.py:330: ConvergenceWarning: The max_iter was reached which means the coef_ did not converge\n",
      "  \"the coef_ did not converge\", ConvergenceWarning)\n",
      "\n"
     ]
    },
    {
     "name": "stdout",
     "output_type": "stream",
     "text": [
      "[Pipeline] ............. (step 1 of 1) Processing e_net, total= 2.4min                  \n",
      "Mean AUROC: 0.7267                                                                      \n",
      "Mean Avg Pre: 0.1980                                                                    \n",
      "STD AUROC: 0.0540                                                                       \n",
      "STD Avg Pre: 0.0462                                                                     \n",
      "Loss: -0.3863                                                                           \n",
      " 26%|██▌       | 13/50 [2:16:58<7:03:32, 686.83s/trial, best loss: -0.49129821430140086]"
     ]
    },
    {
     "name": "stderr",
     "output_type": "stream",
     "text": [
      "/opt/mmayers/software/anaconda3/envs/ml/lib/python3.6/site-packages/sklearn/linear_model/_sag.py:330: ConvergenceWarning: The max_iter was reached which means the coef_ did not converge\n",
      "  \"the coef_ did not converge\", ConvergenceWarning)\n",
      "\n"
     ]
    },
    {
     "name": "stdout",
     "output_type": "stream",
     "text": [
      "[Pipeline] ............. (step 1 of 1) Processing e_net, total= 2.5min                  \n",
      " 26%|██▌       | 13/50 [2:19:30<7:03:32, 686.83s/trial, best loss: -0.49129821430140086]"
     ]
    },
    {
     "name": "stderr",
     "output_type": "stream",
     "text": [
      "/opt/mmayers/software/anaconda3/envs/ml/lib/python3.6/site-packages/sklearn/linear_model/_sag.py:330: ConvergenceWarning: The max_iter was reached which means the coef_ did not converge\n",
      "  \"the coef_ did not converge\", ConvergenceWarning)\n",
      "\n"
     ]
    },
    {
     "name": "stdout",
     "output_type": "stream",
     "text": [
      "[Pipeline] ............. (step 1 of 1) Processing e_net, total= 2.4min                  \n",
      " 26%|██▌       | 13/50 [2:21:56<7:03:32, 686.83s/trial, best loss: -0.49129821430140086]"
     ]
    },
    {
     "name": "stderr",
     "output_type": "stream",
     "text": [
      "/opt/mmayers/software/anaconda3/envs/ml/lib/python3.6/site-packages/sklearn/linear_model/_sag.py:330: ConvergenceWarning: The max_iter was reached which means the coef_ did not converge\n",
      "  \"the coef_ did not converge\", ConvergenceWarning)\n",
      "\n"
     ]
    },
    {
     "name": "stdout",
     "output_type": "stream",
     "text": [
      "[Pipeline] ............. (step 1 of 1) Processing e_net, total= 2.5min                  \n",
      " 26%|██▌       | 13/50 [2:24:26<7:03:32, 686.83s/trial, best loss: -0.49129821430140086]"
     ]
    },
    {
     "name": "stderr",
     "output_type": "stream",
     "text": [
      "/opt/mmayers/software/anaconda3/envs/ml/lib/python3.6/site-packages/sklearn/linear_model/_sag.py:330: ConvergenceWarning: The max_iter was reached which means the coef_ did not converge\n",
      "  \"the coef_ did not converge\", ConvergenceWarning)\n",
      "\n"
     ]
    },
    {
     "name": "stdout",
     "output_type": "stream",
     "text": [
      "[Pipeline] ............. (step 1 of 1) Processing e_net, total= 2.5min                  \n",
      " 26%|██▌       | 13/50 [2:26:59<7:03:32, 686.83s/trial, best loss: -0.49129821430140086]"
     ]
    },
    {
     "name": "stderr",
     "output_type": "stream",
     "text": [
      "/opt/mmayers/software/anaconda3/envs/ml/lib/python3.6/site-packages/sklearn/linear_model/_sag.py:330: ConvergenceWarning: The max_iter was reached which means the coef_ did not converge\n",
      "  \"the coef_ did not converge\", ConvergenceWarning)\n",
      "\n"
     ]
    },
    {
     "name": "stdout",
     "output_type": "stream",
     "text": [
      "[Pipeline] ............. (step 1 of 1) Processing e_net, total= 2.5min                  \n",
      "Mean AUROC: 0.7303                                                                      \n",
      "Mean Avg Pre: 0.2047                                                                    \n",
      "STD AUROC: 0.0542                                                                       \n",
      "STD Avg Pre: 0.0488                                                                     \n",
      "Loss: -0.3987                                                                           \n",
      " 28%|██▊       | 14/50 [2:29:30<7:03:51, 706.42s/trial, best loss: -0.49129821430140086]"
     ]
    },
    {
     "name": "stderr",
     "output_type": "stream",
     "text": [
      "/opt/mmayers/software/anaconda3/envs/ml/lib/python3.6/site-packages/sklearn/linear_model/_sag.py:330: ConvergenceWarning: The max_iter was reached which means the coef_ did not converge\n",
      "  \"the coef_ did not converge\", ConvergenceWarning)\n",
      "\n"
     ]
    },
    {
     "name": "stdout",
     "output_type": "stream",
     "text": [
      "[Pipeline] ............. (step 1 of 1) Processing e_net, total= 2.3min                  \n",
      " 28%|██▊       | 14/50 [2:31:52<7:03:51, 706.42s/trial, best loss: -0.49129821430140086]"
     ]
    },
    {
     "name": "stderr",
     "output_type": "stream",
     "text": [
      "/opt/mmayers/software/anaconda3/envs/ml/lib/python3.6/site-packages/sklearn/linear_model/_sag.py:330: ConvergenceWarning: The max_iter was reached which means the coef_ did not converge\n",
      "  \"the coef_ did not converge\", ConvergenceWarning)\n",
      "\n"
     ]
    },
    {
     "name": "stdout",
     "output_type": "stream",
     "text": [
      "[Pipeline] ............. (step 1 of 1) Processing e_net, total= 2.3min                  \n",
      " 28%|██▊       | 14/50 [2:34:13<7:03:51, 706.42s/trial, best loss: -0.49129821430140086]"
     ]
    },
    {
     "name": "stderr",
     "output_type": "stream",
     "text": [
      "/opt/mmayers/software/anaconda3/envs/ml/lib/python3.6/site-packages/sklearn/linear_model/_sag.py:330: ConvergenceWarning: The max_iter was reached which means the coef_ did not converge\n",
      "  \"the coef_ did not converge\", ConvergenceWarning)\n",
      "\n"
     ]
    },
    {
     "name": "stdout",
     "output_type": "stream",
     "text": [
      "[Pipeline] ............. (step 1 of 1) Processing e_net, total= 2.3min                  \n",
      " 28%|██▊       | 14/50 [2:36:32<7:03:51, 706.42s/trial, best loss: -0.49129821430140086]"
     ]
    },
    {
     "name": "stderr",
     "output_type": "stream",
     "text": [
      "/opt/mmayers/software/anaconda3/envs/ml/lib/python3.6/site-packages/sklearn/linear_model/_sag.py:330: ConvergenceWarning: The max_iter was reached which means the coef_ did not converge\n",
      "  \"the coef_ did not converge\", ConvergenceWarning)\n",
      "\n"
     ]
    },
    {
     "name": "stdout",
     "output_type": "stream",
     "text": [
      "[Pipeline] ............. (step 1 of 1) Processing e_net, total= 2.4min                  \n",
      " 28%|██▊       | 14/50 [2:38:57<7:03:51, 706.42s/trial, best loss: -0.49129821430140086]"
     ]
    },
    {
     "name": "stderr",
     "output_type": "stream",
     "text": [
      "/opt/mmayers/software/anaconda3/envs/ml/lib/python3.6/site-packages/sklearn/linear_model/_sag.py:330: ConvergenceWarning: The max_iter was reached which means the coef_ did not converge\n",
      "  \"the coef_ did not converge\", ConvergenceWarning)\n",
      "\n"
     ]
    },
    {
     "name": "stdout",
     "output_type": "stream",
     "text": [
      "[Pipeline] ............. (step 1 of 1) Processing e_net, total= 2.3min                  \n",
      "Mean AUROC: 0.7311                                                                      \n",
      "Mean Avg Pre: 0.2039                                                                    \n",
      "STD AUROC: 0.0540                                                                       \n",
      "STD Avg Pre: 0.0483                                                                     \n",
      "Loss: -0.3982                                                                           \n",
      " 30%|███       | 15/50 [2:41:16<6:51:59, 706.26s/trial, best loss: -0.49129821430140086]"
     ]
    },
    {
     "name": "stderr",
     "output_type": "stream",
     "text": [
      "/opt/mmayers/software/anaconda3/envs/ml/lib/python3.6/site-packages/sklearn/linear_model/_sag.py:330: ConvergenceWarning: The max_iter was reached which means the coef_ did not converge\n",
      "  \"the coef_ did not converge\", ConvergenceWarning)\n",
      "\n"
     ]
    },
    {
     "name": "stdout",
     "output_type": "stream",
     "text": [
      "[Pipeline] ............. (step 1 of 1) Processing e_net, total= 2.4min                  \n",
      " 30%|███       | 15/50 [2:43:42<6:51:59, 706.26s/trial, best loss: -0.49129821430140086]"
     ]
    },
    {
     "name": "stderr",
     "output_type": "stream",
     "text": [
      "/opt/mmayers/software/anaconda3/envs/ml/lib/python3.6/site-packages/sklearn/linear_model/_sag.py:330: ConvergenceWarning: The max_iter was reached which means the coef_ did not converge\n",
      "  \"the coef_ did not converge\", ConvergenceWarning)\n",
      "\n"
     ]
    },
    {
     "name": "stdout",
     "output_type": "stream",
     "text": [
      "[Pipeline] ............. (step 1 of 1) Processing e_net, total= 2.3min                  \n",
      " 30%|███       | 15/50 [2:46:01<6:51:59, 706.26s/trial, best loss: -0.49129821430140086]"
     ]
    },
    {
     "name": "stderr",
     "output_type": "stream",
     "text": [
      "/opt/mmayers/software/anaconda3/envs/ml/lib/python3.6/site-packages/sklearn/linear_model/_sag.py:330: ConvergenceWarning: The max_iter was reached which means the coef_ did not converge\n",
      "  \"the coef_ did not converge\", ConvergenceWarning)\n",
      "\n"
     ]
    },
    {
     "name": "stdout",
     "output_type": "stream",
     "text": [
      "[Pipeline] ............. (step 1 of 1) Processing e_net, total= 2.4min                  \n",
      " 30%|███       | 15/50 [2:48:25<6:51:59, 706.26s/trial, best loss: -0.49129821430140086]"
     ]
    },
    {
     "name": "stderr",
     "output_type": "stream",
     "text": [
      "/opt/mmayers/software/anaconda3/envs/ml/lib/python3.6/site-packages/sklearn/linear_model/_sag.py:330: ConvergenceWarning: The max_iter was reached which means the coef_ did not converge\n",
      "  \"the coef_ did not converge\", ConvergenceWarning)\n",
      "\n"
     ]
    },
    {
     "name": "stdout",
     "output_type": "stream",
     "text": [
      "[Pipeline] ............. (step 1 of 1) Processing e_net, total= 2.4min                  \n",
      " 30%|███       | 15/50 [2:50:51<6:51:59, 706.26s/trial, best loss: -0.49129821430140086]"
     ]
    },
    {
     "name": "stderr",
     "output_type": "stream",
     "text": [
      "/opt/mmayers/software/anaconda3/envs/ml/lib/python3.6/site-packages/sklearn/linear_model/_sag.py:330: ConvergenceWarning: The max_iter was reached which means the coef_ did not converge\n",
      "  \"the coef_ did not converge\", ConvergenceWarning)\n",
      "\n"
     ]
    },
    {
     "name": "stdout",
     "output_type": "stream",
     "text": [
      "[Pipeline] ............. (step 1 of 1) Processing e_net, total= 2.4min                  \n",
      "Mean AUROC: 0.7267                                                                      \n",
      "Mean Avg Pre: 0.1979                                                                    \n",
      "STD AUROC: 0.0540                                                                       \n",
      "STD Avg Pre: 0.0462                                                                     \n",
      "Loss: -0.3862                                                                           \n",
      " 32%|███▏      | 16/50 [2:53:14<6:42:20, 710.02s/trial, best loss: -0.49129821430140086]"
     ]
    },
    {
     "name": "stderr",
     "output_type": "stream",
     "text": [
      "/opt/mmayers/software/anaconda3/envs/ml/lib/python3.6/site-packages/sklearn/linear_model/_sag.py:330: ConvergenceWarning: The max_iter was reached which means the coef_ did not converge\n",
      "  \"the coef_ did not converge\", ConvergenceWarning)\n",
      "\n"
     ]
    },
    {
     "name": "stdout",
     "output_type": "stream",
     "text": [
      "[Pipeline] ............. (step 1 of 1) Processing e_net, total= 2.0min                  \n",
      " 32%|███▏      | 16/50 [2:55:16<6:42:20, 710.02s/trial, best loss: -0.49129821430140086]"
     ]
    },
    {
     "name": "stderr",
     "output_type": "stream",
     "text": [
      "/opt/mmayers/software/anaconda3/envs/ml/lib/python3.6/site-packages/sklearn/linear_model/_sag.py:330: ConvergenceWarning: The max_iter was reached which means the coef_ did not converge\n",
      "  \"the coef_ did not converge\", ConvergenceWarning)\n",
      "\n"
     ]
    },
    {
     "name": "stdout",
     "output_type": "stream",
     "text": [
      "[Pipeline] ............. (step 1 of 1) Processing e_net, total= 2.0min                  \n",
      " 32%|███▏      | 16/50 [2:57:17<6:42:20, 710.02s/trial, best loss: -0.49129821430140086]"
     ]
    },
    {
     "name": "stderr",
     "output_type": "stream",
     "text": [
      "/opt/mmayers/software/anaconda3/envs/ml/lib/python3.6/site-packages/sklearn/linear_model/_sag.py:330: ConvergenceWarning: The max_iter was reached which means the coef_ did not converge\n",
      "  \"the coef_ did not converge\", ConvergenceWarning)\n",
      "\n"
     ]
    },
    {
     "name": "stdout",
     "output_type": "stream",
     "text": [
      "[Pipeline] ............. (step 1 of 1) Processing e_net, total= 2.0min                  \n",
      " 32%|███▏      | 16/50 [2:59:19<6:42:20, 710.02s/trial, best loss: -0.49129821430140086]"
     ]
    },
    {
     "name": "stderr",
     "output_type": "stream",
     "text": [
      "/opt/mmayers/software/anaconda3/envs/ml/lib/python3.6/site-packages/sklearn/linear_model/_sag.py:330: ConvergenceWarning: The max_iter was reached which means the coef_ did not converge\n",
      "  \"the coef_ did not converge\", ConvergenceWarning)\n",
      "\n"
     ]
    },
    {
     "name": "stdout",
     "output_type": "stream",
     "text": [
      "[Pipeline] ............. (step 1 of 1) Processing e_net, total= 2.1min                  \n",
      " 32%|███▏      | 16/50 [3:01:25<6:42:20, 710.02s/trial, best loss: -0.49129821430140086]"
     ]
    },
    {
     "name": "stderr",
     "output_type": "stream",
     "text": [
      "/opt/mmayers/software/anaconda3/envs/ml/lib/python3.6/site-packages/sklearn/linear_model/_sag.py:330: ConvergenceWarning: The max_iter was reached which means the coef_ did not converge\n",
      "  \"the coef_ did not converge\", ConvergenceWarning)\n",
      "\n"
     ]
    },
    {
     "name": "stdout",
     "output_type": "stream",
     "text": [
      "[Pipeline] ............. (step 1 of 1) Processing e_net, total= 2.0min                  \n",
      "Mean AUROC: 0.7338                                                                      \n",
      "Mean Avg Pre: 0.2065                                                                    \n",
      "STD AUROC: 0.0541                                                                       \n",
      "STD Avg Pre: 0.0492                                                                     \n",
      "Loss: -0.4039                                                                           \n",
      " 34%|███▍      | 17/50 [3:03:24<6:14:01, 680.03s/trial, best loss: -0.49129821430140086]"
     ]
    },
    {
     "name": "stderr",
     "output_type": "stream",
     "text": [
      "/opt/mmayers/software/anaconda3/envs/ml/lib/python3.6/site-packages/sklearn/linear_model/_sag.py:330: ConvergenceWarning: The max_iter was reached which means the coef_ did not converge\n",
      "  \"the coef_ did not converge\", ConvergenceWarning)\n",
      "\n"
     ]
    },
    {
     "name": "stdout",
     "output_type": "stream",
     "text": [
      "[Pipeline] ............. (step 1 of 1) Processing e_net, total= 1.7min                  \n",
      " 34%|███▍      | 17/50 [3:05:10<6:14:01, 680.03s/trial, best loss: -0.49129821430140086]"
     ]
    },
    {
     "name": "stderr",
     "output_type": "stream",
     "text": [
      "/opt/mmayers/software/anaconda3/envs/ml/lib/python3.6/site-packages/sklearn/linear_model/_sag.py:330: ConvergenceWarning: The max_iter was reached which means the coef_ did not converge\n",
      "  \"the coef_ did not converge\", ConvergenceWarning)\n",
      "\n"
     ]
    },
    {
     "name": "stdout",
     "output_type": "stream",
     "text": [
      "[Pipeline] ............. (step 1 of 1) Processing e_net, total= 1.7min                  \n",
      " 34%|███▍      | 17/50 [3:06:53<6:14:01, 680.03s/trial, best loss: -0.49129821430140086]"
     ]
    },
    {
     "name": "stderr",
     "output_type": "stream",
     "text": [
      "/opt/mmayers/software/anaconda3/envs/ml/lib/python3.6/site-packages/sklearn/linear_model/_sag.py:330: ConvergenceWarning: The max_iter was reached which means the coef_ did not converge\n",
      "  \"the coef_ did not converge\", ConvergenceWarning)\n",
      "\n"
     ]
    },
    {
     "name": "stdout",
     "output_type": "stream",
     "text": [
      "[Pipeline] ............. (step 1 of 1) Processing e_net, total= 1.8min                  \n",
      " 34%|███▍      | 17/50 [3:08:39<6:14:01, 680.03s/trial, best loss: -0.49129821430140086]"
     ]
    },
    {
     "name": "stderr",
     "output_type": "stream",
     "text": [
      "/opt/mmayers/software/anaconda3/envs/ml/lib/python3.6/site-packages/sklearn/linear_model/_sag.py:330: ConvergenceWarning: The max_iter was reached which means the coef_ did not converge\n",
      "  \"the coef_ did not converge\", ConvergenceWarning)\n",
      "\n"
     ]
    },
    {
     "name": "stdout",
     "output_type": "stream",
     "text": [
      "[Pipeline] ............. (step 1 of 1) Processing e_net, total= 1.8min                  \n",
      " 34%|███▍      | 17/50 [3:10:29<6:14:01, 680.03s/trial, best loss: -0.49129821430140086]"
     ]
    },
    {
     "name": "stderr",
     "output_type": "stream",
     "text": [
      "/opt/mmayers/software/anaconda3/envs/ml/lib/python3.6/site-packages/sklearn/linear_model/_sag.py:330: ConvergenceWarning: The max_iter was reached which means the coef_ did not converge\n",
      "  \"the coef_ did not converge\", ConvergenceWarning)\n",
      "\n"
     ]
    },
    {
     "name": "stdout",
     "output_type": "stream",
     "text": [
      "[Pipeline] ............. (step 1 of 1) Processing e_net, total= 1.8min                  \n",
      "Mean AUROC: 0.7668                                                                      \n",
      "Mean Avg Pre: 0.2272                                                                    \n",
      "STD AUROC: 0.0504                                                                       \n",
      "STD Avg Pre: 0.0578                                                                     \n",
      "Loss: -0.4578                                                                           \n",
      " 36%|███▌      | 18/50 [3:12:17<5:39:04, 635.75s/trial, best loss: -0.49129821430140086]"
     ]
    },
    {
     "name": "stderr",
     "output_type": "stream",
     "text": [
      "/opt/mmayers/software/anaconda3/envs/ml/lib/python3.6/site-packages/sklearn/linear_model/_sag.py:330: ConvergenceWarning: The max_iter was reached which means the coef_ did not converge\n",
      "  \"the coef_ did not converge\", ConvergenceWarning)\n",
      "\n"
     ]
    },
    {
     "name": "stdout",
     "output_type": "stream",
     "text": [
      "[Pipeline] ............. (step 1 of 1) Processing e_net, total= 2.3min                  \n",
      " 36%|███▌      | 18/50 [3:14:40<5:39:04, 635.75s/trial, best loss: -0.49129821430140086]"
     ]
    },
    {
     "name": "stderr",
     "output_type": "stream",
     "text": [
      "/opt/mmayers/software/anaconda3/envs/ml/lib/python3.6/site-packages/sklearn/linear_model/_sag.py:330: ConvergenceWarning: The max_iter was reached which means the coef_ did not converge\n",
      "  \"the coef_ did not converge\", ConvergenceWarning)\n",
      "\n"
     ]
    },
    {
     "name": "stdout",
     "output_type": "stream",
     "text": [
      "[Pipeline] ............. (step 1 of 1) Processing e_net, total= 2.3min                  \n",
      " 36%|███▌      | 18/50 [3:16:57<5:39:04, 635.75s/trial, best loss: -0.49129821430140086]"
     ]
    },
    {
     "name": "stderr",
     "output_type": "stream",
     "text": [
      "/opt/mmayers/software/anaconda3/envs/ml/lib/python3.6/site-packages/sklearn/linear_model/_sag.py:330: ConvergenceWarning: The max_iter was reached which means the coef_ did not converge\n",
      "  \"the coef_ did not converge\", ConvergenceWarning)\n",
      "\n"
     ]
    },
    {
     "name": "stdout",
     "output_type": "stream",
     "text": [
      "[Pipeline] ............. (step 1 of 1) Processing e_net, total= 2.3min                  \n",
      " 36%|███▌      | 18/50 [3:19:17<5:39:04, 635.75s/trial, best loss: -0.49129821430140086]"
     ]
    },
    {
     "name": "stderr",
     "output_type": "stream",
     "text": [
      "/opt/mmayers/software/anaconda3/envs/ml/lib/python3.6/site-packages/sklearn/linear_model/_sag.py:330: ConvergenceWarning: The max_iter was reached which means the coef_ did not converge\n",
      "  \"the coef_ did not converge\", ConvergenceWarning)\n",
      "\n"
     ]
    },
    {
     "name": "stdout",
     "output_type": "stream",
     "text": [
      "[Pipeline] ............. (step 1 of 1) Processing e_net, total= 2.4min                  \n",
      " 36%|███▌      | 18/50 [3:21:41<5:39:04, 635.75s/trial, best loss: -0.49129821430140086]"
     ]
    },
    {
     "name": "stderr",
     "output_type": "stream",
     "text": [
      "/opt/mmayers/software/anaconda3/envs/ml/lib/python3.6/site-packages/sklearn/linear_model/_sag.py:330: ConvergenceWarning: The max_iter was reached which means the coef_ did not converge\n",
      "  \"the coef_ did not converge\", ConvergenceWarning)\n",
      "\n"
     ]
    },
    {
     "name": "stdout",
     "output_type": "stream",
     "text": [
      "[Pipeline] ............. (step 1 of 1) Processing e_net, total= 2.3min                  \n",
      "Mean AUROC: 0.7272                                                                      \n",
      "Mean Avg Pre: 0.1984                                                                    \n",
      "STD AUROC: 0.0539                                                                       \n",
      "STD Avg Pre: 0.0463                                                                     \n",
      "Loss: -0.3873                                                                           \n",
      " 38%|███▊      | 19/50 [3:24:00<5:38:57, 656.06s/trial, best loss: -0.49129821430140086]"
     ]
    },
    {
     "name": "stderr",
     "output_type": "stream",
     "text": [
      "/opt/mmayers/software/anaconda3/envs/ml/lib/python3.6/site-packages/sklearn/linear_model/_sag.py:330: ConvergenceWarning: The max_iter was reached which means the coef_ did not converge\n",
      "  \"the coef_ did not converge\", ConvergenceWarning)\n",
      "\n"
     ]
    },
    {
     "name": "stdout",
     "output_type": "stream",
     "text": [
      "[Pipeline] ............. (step 1 of 1) Processing e_net, total= 2.4min                  \n",
      " 38%|███▊      | 19/50 [3:26:26<5:38:57, 656.06s/trial, best loss: -0.49129821430140086]"
     ]
    },
    {
     "name": "stderr",
     "output_type": "stream",
     "text": [
      "/opt/mmayers/software/anaconda3/envs/ml/lib/python3.6/site-packages/sklearn/linear_model/_sag.py:330: ConvergenceWarning: The max_iter was reached which means the coef_ did not converge\n",
      "  \"the coef_ did not converge\", ConvergenceWarning)\n",
      "\n"
     ]
    },
    {
     "name": "stdout",
     "output_type": "stream",
     "text": [
      "[Pipeline] ............. (step 1 of 1) Processing e_net, total= 2.3min                  \n",
      " 38%|███▊      | 19/50 [3:28:46<5:38:57, 656.06s/trial, best loss: -0.49129821430140086]"
     ]
    },
    {
     "name": "stderr",
     "output_type": "stream",
     "text": [
      "/opt/mmayers/software/anaconda3/envs/ml/lib/python3.6/site-packages/sklearn/linear_model/_sag.py:330: ConvergenceWarning: The max_iter was reached which means the coef_ did not converge\n",
      "  \"the coef_ did not converge\", ConvergenceWarning)\n",
      "\n"
     ]
    },
    {
     "name": "stdout",
     "output_type": "stream",
     "text": [
      "[Pipeline] ............. (step 1 of 1) Processing e_net, total= 2.4min                  \n",
      " 38%|███▊      | 19/50 [3:31:08<5:38:57, 656.06s/trial, best loss: -0.49129821430140086]"
     ]
    },
    {
     "name": "stderr",
     "output_type": "stream",
     "text": [
      "/opt/mmayers/software/anaconda3/envs/ml/lib/python3.6/site-packages/sklearn/linear_model/_sag.py:330: ConvergenceWarning: The max_iter was reached which means the coef_ did not converge\n",
      "  \"the coef_ did not converge\", ConvergenceWarning)\n",
      "\n"
     ]
    },
    {
     "name": "stdout",
     "output_type": "stream",
     "text": [
      "[Pipeline] ............. (step 1 of 1) Processing e_net, total= 2.4min                  \n",
      " 38%|███▊      | 19/50 [3:33:34<5:38:57, 656.06s/trial, best loss: -0.49129821430140086]"
     ]
    },
    {
     "name": "stderr",
     "output_type": "stream",
     "text": [
      "/opt/mmayers/software/anaconda3/envs/ml/lib/python3.6/site-packages/sklearn/linear_model/_sag.py:330: ConvergenceWarning: The max_iter was reached which means the coef_ did not converge\n",
      "  \"the coef_ did not converge\", ConvergenceWarning)\n",
      "\n"
     ]
    },
    {
     "name": "stdout",
     "output_type": "stream",
     "text": [
      "[Pipeline] ............. (step 1 of 1) Processing e_net, total= 2.4min                  \n",
      "Mean AUROC: 0.7270                                                                      \n",
      "Mean Avg Pre: 0.1982                                                                    \n",
      "STD AUROC: 0.0540                                                                       \n",
      "STD Avg Pre: 0.0463                                                                     \n",
      "Loss: -0.3868                                                                           \n",
      " 40%|████      | 20/50 [3:35:56<5:37:03, 674.10s/trial, best loss: -0.49129821430140086]"
     ]
    },
    {
     "name": "stderr",
     "output_type": "stream",
     "text": [
      "/opt/mmayers/software/anaconda3/envs/ml/lib/python3.6/site-packages/sklearn/linear_model/_sag.py:330: ConvergenceWarning: The max_iter was reached which means the coef_ did not converge\n",
      "  \"the coef_ did not converge\", ConvergenceWarning)\n",
      "\n"
     ]
    },
    {
     "name": "stdout",
     "output_type": "stream",
     "text": [
      "[Pipeline] ............. (step 1 of 1) Processing e_net, total= 1.8min                  \n",
      " 40%|████      | 20/50 [3:37:45<5:37:03, 674.10s/trial, best loss: -0.49129821430140086]"
     ]
    },
    {
     "name": "stderr",
     "output_type": "stream",
     "text": [
      "/opt/mmayers/software/anaconda3/envs/ml/lib/python3.6/site-packages/sklearn/linear_model/_sag.py:330: ConvergenceWarning: The max_iter was reached which means the coef_ did not converge\n",
      "  \"the coef_ did not converge\", ConvergenceWarning)\n",
      "\n"
     ]
    },
    {
     "name": "stdout",
     "output_type": "stream",
     "text": [
      "[Pipeline] ............. (step 1 of 1) Processing e_net, total= 1.7min                  \n",
      " 40%|████      | 20/50 [3:39:29<5:37:03, 674.10s/trial, best loss: -0.49129821430140086]"
     ]
    },
    {
     "name": "stderr",
     "output_type": "stream",
     "text": [
      "/opt/mmayers/software/anaconda3/envs/ml/lib/python3.6/site-packages/sklearn/linear_model/_sag.py:330: ConvergenceWarning: The max_iter was reached which means the coef_ did not converge\n",
      "  \"the coef_ did not converge\", ConvergenceWarning)\n",
      "\n"
     ]
    },
    {
     "name": "stdout",
     "output_type": "stream",
     "text": [
      "[Pipeline] ............. (step 1 of 1) Processing e_net, total= 1.8min                  \n",
      " 40%|████      | 20/50 [3:41:16<5:37:03, 674.10s/trial, best loss: -0.49129821430140086]"
     ]
    },
    {
     "name": "stderr",
     "output_type": "stream",
     "text": [
      "/opt/mmayers/software/anaconda3/envs/ml/lib/python3.6/site-packages/sklearn/linear_model/_sag.py:330: ConvergenceWarning: The max_iter was reached which means the coef_ did not converge\n",
      "  \"the coef_ did not converge\", ConvergenceWarning)\n",
      "\n"
     ]
    },
    {
     "name": "stdout",
     "output_type": "stream",
     "text": [
      "[Pipeline] ............. (step 1 of 1) Processing e_net, total= 1.9min                  \n",
      " 40%|████      | 20/50 [3:43:10<5:37:03, 674.10s/trial, best loss: -0.49129821430140086]"
     ]
    },
    {
     "name": "stderr",
     "output_type": "stream",
     "text": [
      "/opt/mmayers/software/anaconda3/envs/ml/lib/python3.6/site-packages/sklearn/linear_model/_sag.py:330: ConvergenceWarning: The max_iter was reached which means the coef_ did not converge\n",
      "  \"the coef_ did not converge\", ConvergenceWarning)\n",
      "\n"
     ]
    },
    {
     "name": "stdout",
     "output_type": "stream",
     "text": [
      "[Pipeline] ............. (step 1 of 1) Processing e_net, total= 1.9min                  \n",
      "Mean AUROC: 0.7702                                                                      \n",
      "Mean Avg Pre: 0.2249                                                                    \n",
      "STD AUROC: 0.0477                                                                       \n",
      "STD Avg Pre: 0.0575                                                                     \n",
      "Loss: -0.4576                                                                           \n",
      " 42%|████▏     | 21/50 [3:45:02<5:07:08, 635.47s/trial, best loss: -0.49129821430140086]"
     ]
    },
    {
     "name": "stderr",
     "output_type": "stream",
     "text": [
      "/opt/mmayers/software/anaconda3/envs/ml/lib/python3.6/site-packages/sklearn/linear_model/_sag.py:330: ConvergenceWarning: The max_iter was reached which means the coef_ did not converge\n",
      "  \"the coef_ did not converge\", ConvergenceWarning)\n",
      "\n"
     ]
    },
    {
     "name": "stdout",
     "output_type": "stream",
     "text": [
      "[Pipeline] ............. (step 1 of 1) Processing e_net, total= 1.5min                  \n",
      " 42%|████▏     | 21/50 [3:46:35<5:07:08, 635.47s/trial, best loss: -0.49129821430140086]"
     ]
    },
    {
     "name": "stderr",
     "output_type": "stream",
     "text": [
      "/opt/mmayers/software/anaconda3/envs/ml/lib/python3.6/site-packages/sklearn/linear_model/_sag.py:330: ConvergenceWarning: The max_iter was reached which means the coef_ did not converge\n",
      "  \"the coef_ did not converge\", ConvergenceWarning)\n",
      "\n"
     ]
    },
    {
     "name": "stdout",
     "output_type": "stream",
     "text": [
      "[Pipeline] ............. (step 1 of 1) Processing e_net, total= 1.5min                  \n",
      " 42%|████▏     | 21/50 [3:48:08<5:07:08, 635.47s/trial, best loss: -0.49129821430140086]"
     ]
    },
    {
     "name": "stderr",
     "output_type": "stream",
     "text": [
      "/opt/mmayers/software/anaconda3/envs/ml/lib/python3.6/site-packages/sklearn/linear_model/_sag.py:330: ConvergenceWarning: The max_iter was reached which means the coef_ did not converge\n",
      "  \"the coef_ did not converge\", ConvergenceWarning)\n",
      "\n"
     ]
    },
    {
     "name": "stdout",
     "output_type": "stream",
     "text": [
      "[Pipeline] ............. (step 1 of 1) Processing e_net, total= 1.5min                  \n",
      " 42%|████▏     | 21/50 [3:49:41<5:07:08, 635.47s/trial, best loss: -0.49129821430140086]"
     ]
    },
    {
     "name": "stderr",
     "output_type": "stream",
     "text": [
      "/opt/mmayers/software/anaconda3/envs/ml/lib/python3.6/site-packages/sklearn/linear_model/_sag.py:330: ConvergenceWarning: The max_iter was reached which means the coef_ did not converge\n",
      "  \"the coef_ did not converge\", ConvergenceWarning)\n",
      "\n"
     ]
    },
    {
     "name": "stdout",
     "output_type": "stream",
     "text": [
      "[Pipeline] ............. (step 1 of 1) Processing e_net, total= 1.6min                  \n",
      " 42%|████▏     | 21/50 [3:51:16<5:07:08, 635.47s/trial, best loss: -0.49129821430140086]"
     ]
    },
    {
     "name": "stderr",
     "output_type": "stream",
     "text": [
      "/opt/mmayers/software/anaconda3/envs/ml/lib/python3.6/site-packages/sklearn/linear_model/_sag.py:330: ConvergenceWarning: The max_iter was reached which means the coef_ did not converge\n",
      "  \"the coef_ did not converge\", ConvergenceWarning)\n",
      "\n"
     ]
    },
    {
     "name": "stdout",
     "output_type": "stream",
     "text": [
      "[Pipeline] ............. (step 1 of 1) Processing e_net, total= 1.6min                  \n",
      "Mean AUROC: 0.7644                                                                      \n",
      "Mean Avg Pre: 0.2265                                                                    \n",
      "STD AUROC: 0.0511                                                                       \n",
      "STD Avg Pre: 0.0572                                                                     \n",
      "Loss: -0.4550                                                                           \n",
      " 44%|████▍     | 22/50 [3:52:50<4:33:07, 585.26s/trial, best loss: -0.49129821430140086]"
     ]
    },
    {
     "name": "stderr",
     "output_type": "stream",
     "text": [
      "/opt/mmayers/software/anaconda3/envs/ml/lib/python3.6/site-packages/sklearn/linear_model/_sag.py:330: ConvergenceWarning: The max_iter was reached which means the coef_ did not converge\n",
      "  \"the coef_ did not converge\", ConvergenceWarning)\n",
      "\n"
     ]
    },
    {
     "name": "stdout",
     "output_type": "stream",
     "text": [
      "[Pipeline] ............. (step 1 of 1) Processing e_net, total= 1.6min                  \n",
      " 44%|████▍     | 22/50 [3:54:31<4:33:07, 585.26s/trial, best loss: -0.49129821430140086]"
     ]
    },
    {
     "name": "stderr",
     "output_type": "stream",
     "text": [
      "/opt/mmayers/software/anaconda3/envs/ml/lib/python3.6/site-packages/sklearn/linear_model/_sag.py:330: ConvergenceWarning: The max_iter was reached which means the coef_ did not converge\n",
      "  \"the coef_ did not converge\", ConvergenceWarning)\n",
      "\n"
     ]
    },
    {
     "name": "stdout",
     "output_type": "stream",
     "text": [
      "[Pipeline] ............. (step 1 of 1) Processing e_net, total= 1.6min                  \n",
      " 44%|████▍     | 22/50 [3:56:05<4:33:07, 585.26s/trial, best loss: -0.49129821430140086]"
     ]
    },
    {
     "name": "stderr",
     "output_type": "stream",
     "text": [
      "/opt/mmayers/software/anaconda3/envs/ml/lib/python3.6/site-packages/sklearn/linear_model/_sag.py:330: ConvergenceWarning: The max_iter was reached which means the coef_ did not converge\n",
      "  \"the coef_ did not converge\", ConvergenceWarning)\n",
      "\n"
     ]
    },
    {
     "name": "stdout",
     "output_type": "stream",
     "text": [
      "[Pipeline] ............. (step 1 of 1) Processing e_net, total= 1.6min                  \n",
      " 44%|████▍     | 22/50 [3:57:43<4:33:07, 585.26s/trial, best loss: -0.49129821430140086]"
     ]
    },
    {
     "name": "stderr",
     "output_type": "stream",
     "text": [
      "/opt/mmayers/software/anaconda3/envs/ml/lib/python3.6/site-packages/sklearn/linear_model/_sag.py:330: ConvergenceWarning: The max_iter was reached which means the coef_ did not converge\n",
      "  \"the coef_ did not converge\", ConvergenceWarning)\n",
      "\n"
     ]
    },
    {
     "name": "stdout",
     "output_type": "stream",
     "text": [
      "[Pipeline] ............. (step 1 of 1) Processing e_net, total= 1.7min                  \n",
      " 44%|████▍     | 22/50 [3:59:28<4:33:07, 585.26s/trial, best loss: -0.49129821430140086]"
     ]
    },
    {
     "name": "stderr",
     "output_type": "stream",
     "text": [
      "/opt/mmayers/software/anaconda3/envs/ml/lib/python3.6/site-packages/sklearn/linear_model/_sag.py:330: ConvergenceWarning: The max_iter was reached which means the coef_ did not converge\n",
      "  \"the coef_ did not converge\", ConvergenceWarning)\n",
      "\n"
     ]
    },
    {
     "name": "stdout",
     "output_type": "stream",
     "text": [
      "[Pipeline] ............. (step 1 of 1) Processing e_net, total= 1.7min                  \n",
      "Mean AUROC: 0.7980                                                                      \n",
      "Mean Avg Pre: 0.2326                                                                    \n",
      "STD AUROC: 0.0407                                                                       \n",
      "STD Avg Pre: 0.0624                                                                     \n",
      "Loss: -0.4890                                                                           \n",
      " 46%|████▌     | 23/50 [4:01:11<4:12:00, 560.01s/trial, best loss: -0.49129821430140086]"
     ]
    },
    {
     "name": "stderr",
     "output_type": "stream",
     "text": [
      "/opt/mmayers/software/anaconda3/envs/ml/lib/python3.6/site-packages/sklearn/linear_model/_sag.py:330: ConvergenceWarning: The max_iter was reached which means the coef_ did not converge\n",
      "  \"the coef_ did not converge\", ConvergenceWarning)\n",
      "\n"
     ]
    },
    {
     "name": "stdout",
     "output_type": "stream",
     "text": [
      "[Pipeline] ............. (step 1 of 1) Processing e_net, total= 1.4min                  \n",
      " 46%|████▌     | 23/50 [4:02:41<4:12:00, 560.01s/trial, best loss: -0.49129821430140086]"
     ]
    },
    {
     "name": "stderr",
     "output_type": "stream",
     "text": [
      "/opt/mmayers/software/anaconda3/envs/ml/lib/python3.6/site-packages/sklearn/linear_model/_sag.py:330: ConvergenceWarning: The max_iter was reached which means the coef_ did not converge\n",
      "  \"the coef_ did not converge\", ConvergenceWarning)\n",
      "\n"
     ]
    },
    {
     "name": "stdout",
     "output_type": "stream",
     "text": [
      "[Pipeline] ............. (step 1 of 1) Processing e_net, total= 1.5min                  \n",
      " 46%|████▌     | 23/50 [4:04:08<4:12:00, 560.01s/trial, best loss: -0.49129821430140086]"
     ]
    },
    {
     "name": "stderr",
     "output_type": "stream",
     "text": [
      "/opt/mmayers/software/anaconda3/envs/ml/lib/python3.6/site-packages/sklearn/linear_model/_sag.py:330: ConvergenceWarning: The max_iter was reached which means the coef_ did not converge\n",
      "  \"the coef_ did not converge\", ConvergenceWarning)\n",
      "\n"
     ]
    },
    {
     "name": "stdout",
     "output_type": "stream",
     "text": [
      "[Pipeline] ............. (step 1 of 1) Processing e_net, total= 1.5min                  \n",
      " 46%|████▌     | 23/50 [4:05:37<4:12:00, 560.01s/trial, best loss: -0.49129821430140086]"
     ]
    },
    {
     "name": "stderr",
     "output_type": "stream",
     "text": [
      "/opt/mmayers/software/anaconda3/envs/ml/lib/python3.6/site-packages/sklearn/linear_model/_sag.py:330: ConvergenceWarning: The max_iter was reached which means the coef_ did not converge\n",
      "  \"the coef_ did not converge\", ConvergenceWarning)\n",
      "\n"
     ]
    },
    {
     "name": "stdout",
     "output_type": "stream",
     "text": [
      "[Pipeline] ............. (step 1 of 1) Processing e_net, total= 1.5min                  \n",
      " 46%|████▌     | 23/50 [4:07:07<4:12:00, 560.01s/trial, best loss: -0.49129821430140086]"
     ]
    },
    {
     "name": "stderr",
     "output_type": "stream",
     "text": [
      "/opt/mmayers/software/anaconda3/envs/ml/lib/python3.6/site-packages/sklearn/linear_model/_sag.py:330: ConvergenceWarning: The max_iter was reached which means the coef_ did not converge\n",
      "  \"the coef_ did not converge\", ConvergenceWarning)\n",
      "\n"
     ]
    },
    {
     "name": "stdout",
     "output_type": "stream",
     "text": [
      "[Pipeline] ............. (step 1 of 1) Processing e_net, total= 1.5min                  \n",
      "Mean AUROC: 0.7622                                                                      \n",
      "Mean Avg Pre: 0.2255                                                                    \n",
      "STD AUROC: 0.0516                                                                       \n",
      "STD Avg Pre: 0.0567                                                                     \n",
      "Loss: -0.4518                                                                           \n",
      " 48%|████▊     | 24/50 [4:08:36<3:47:42, 525.50s/trial, best loss: -0.49129821430140086]"
     ]
    },
    {
     "name": "stderr",
     "output_type": "stream",
     "text": [
      "/opt/mmayers/software/anaconda3/envs/ml/lib/python3.6/site-packages/sklearn/linear_model/_sag.py:330: ConvergenceWarning: The max_iter was reached which means the coef_ did not converge\n",
      "  \"the coef_ did not converge\", ConvergenceWarning)\n",
      "\n"
     ]
    },
    {
     "name": "stdout",
     "output_type": "stream",
     "text": [
      "[Pipeline] ............. (step 1 of 1) Processing e_net, total= 1.6min                  \n",
      " 48%|████▊     | 24/50 [4:10:16<3:47:42, 525.50s/trial, best loss: -0.49129821430140086]"
     ]
    },
    {
     "name": "stderr",
     "output_type": "stream",
     "text": [
      "/opt/mmayers/software/anaconda3/envs/ml/lib/python3.6/site-packages/sklearn/linear_model/_sag.py:330: ConvergenceWarning: The max_iter was reached which means the coef_ did not converge\n",
      "  \"the coef_ did not converge\", ConvergenceWarning)\n",
      "\n"
     ]
    },
    {
     "name": "stdout",
     "output_type": "stream",
     "text": [
      "[Pipeline] ............. (step 1 of 1) Processing e_net, total= 1.6min                  \n",
      " 48%|████▊     | 24/50 [4:11:50<3:47:42, 525.50s/trial, best loss: -0.49129821430140086]"
     ]
    },
    {
     "name": "stderr",
     "output_type": "stream",
     "text": [
      "/opt/mmayers/software/anaconda3/envs/ml/lib/python3.6/site-packages/sklearn/linear_model/_sag.py:330: ConvergenceWarning: The max_iter was reached which means the coef_ did not converge\n",
      "  \"the coef_ did not converge\", ConvergenceWarning)\n",
      "\n"
     ]
    },
    {
     "name": "stdout",
     "output_type": "stream",
     "text": [
      "[Pipeline] ............. (step 1 of 1) Processing e_net, total= 1.6min                  \n",
      " 48%|████▊     | 24/50 [4:13:27<3:47:42, 525.50s/trial, best loss: -0.49129821430140086]"
     ]
    },
    {
     "name": "stderr",
     "output_type": "stream",
     "text": [
      "/opt/mmayers/software/anaconda3/envs/ml/lib/python3.6/site-packages/sklearn/linear_model/_sag.py:330: ConvergenceWarning: The max_iter was reached which means the coef_ did not converge\n",
      "  \"the coef_ did not converge\", ConvergenceWarning)\n",
      "\n"
     ]
    },
    {
     "name": "stdout",
     "output_type": "stream",
     "text": [
      "[Pipeline] ............. (step 1 of 1) Processing e_net, total= 1.7min                  \n",
      " 48%|████▊     | 24/50 [4:15:12<3:47:42, 525.50s/trial, best loss: -0.49129821430140086]"
     ]
    },
    {
     "name": "stderr",
     "output_type": "stream",
     "text": [
      "/opt/mmayers/software/anaconda3/envs/ml/lib/python3.6/site-packages/sklearn/linear_model/_sag.py:330: ConvergenceWarning: The max_iter was reached which means the coef_ did not converge\n",
      "  \"the coef_ did not converge\", ConvergenceWarning)\n",
      "\n"
     ]
    },
    {
     "name": "stdout",
     "output_type": "stream",
     "text": [
      "[Pipeline] ............. (step 1 of 1) Processing e_net, total= 1.7min                  \n",
      "Mean AUROC: 0.8002                                                                      \n",
      "Mean Avg Pre: 0.2328                                                                    \n",
      "STD AUROC: 0.0401                                                                       \n",
      "STD Avg Pre: 0.0627                                                                     \n",
      "Loss: -0.4909                                                                           \n",
      " 50%|█████     | 25/50 [4:16:53<3:35:26, 517.07s/trial, best loss: -0.49129821430140086]"
     ]
    },
    {
     "name": "stderr",
     "output_type": "stream",
     "text": [
      "/opt/mmayers/software/anaconda3/envs/ml/lib/python3.6/site-packages/sklearn/linear_model/_sag.py:330: ConvergenceWarning: The max_iter was reached which means the coef_ did not converge\n",
      "  \"the coef_ did not converge\", ConvergenceWarning)\n",
      "\n"
     ]
    },
    {
     "name": "stdout",
     "output_type": "stream",
     "text": [
      "[Pipeline] ............. (step 1 of 1) Processing e_net, total= 2.0min                  \n",
      " 50%|█████     | 25/50 [4:18:59<3:35:26, 517.07s/trial, best loss: -0.49129821430140086]"
     ]
    },
    {
     "name": "stderr",
     "output_type": "stream",
     "text": [
      "/opt/mmayers/software/anaconda3/envs/ml/lib/python3.6/site-packages/sklearn/linear_model/_sag.py:330: ConvergenceWarning: The max_iter was reached which means the coef_ did not converge\n",
      "  \"the coef_ did not converge\", ConvergenceWarning)\n",
      "\n"
     ]
    },
    {
     "name": "stdout",
     "output_type": "stream",
     "text": [
      "[Pipeline] ............. (step 1 of 1) Processing e_net, total= 2.0min                  \n",
      " 50%|█████     | 25/50 [4:20:58<3:35:26, 517.07s/trial, best loss: -0.49129821430140086]"
     ]
    },
    {
     "name": "stderr",
     "output_type": "stream",
     "text": [
      "/opt/mmayers/software/anaconda3/envs/ml/lib/python3.6/site-packages/sklearn/linear_model/_sag.py:330: ConvergenceWarning: The max_iter was reached which means the coef_ did not converge\n",
      "  \"the coef_ did not converge\", ConvergenceWarning)\n",
      "\n"
     ]
    },
    {
     "name": "stdout",
     "output_type": "stream",
     "text": [
      "[Pipeline] ............. (step 1 of 1) Processing e_net, total= 2.1min                  \n",
      " 50%|█████     | 25/50 [4:23:04<3:35:26, 517.07s/trial, best loss: -0.49129821430140086]"
     ]
    },
    {
     "name": "stderr",
     "output_type": "stream",
     "text": [
      "/opt/mmayers/software/anaconda3/envs/ml/lib/python3.6/site-packages/sklearn/linear_model/_sag.py:330: ConvergenceWarning: The max_iter was reached which means the coef_ did not converge\n",
      "  \"the coef_ did not converge\", ConvergenceWarning)\n",
      "\n"
     ]
    },
    {
     "name": "stdout",
     "output_type": "stream",
     "text": [
      "[Pipeline] ............. (step 1 of 1) Processing e_net, total= 2.1min                  \n",
      " 50%|█████     | 25/50 [4:25:10<3:35:26, 517.07s/trial, best loss: -0.49129821430140086]"
     ]
    },
    {
     "name": "stderr",
     "output_type": "stream",
     "text": [
      "/opt/mmayers/software/anaconda3/envs/ml/lib/python3.6/site-packages/sklearn/linear_model/_sag.py:330: ConvergenceWarning: The max_iter was reached which means the coef_ did not converge\n",
      "  \"the coef_ did not converge\", ConvergenceWarning)\n",
      "\n"
     ]
    },
    {
     "name": "stdout",
     "output_type": "stream",
     "text": [
      "[Pipeline] ............. (step 1 of 1) Processing e_net, total= 2.1min                  \n",
      "Mean AUROC: 0.7425                                                                      \n",
      "Mean Avg Pre: 0.2144                                                                    \n",
      "STD AUROC: 0.0535                                                                       \n",
      "STD Avg Pre: 0.0531                                                                     \n",
      "Loss: -0.4214                                                                           \n",
      " 52%|█████▏    | 26/50 [4:27:16<3:39:32, 548.85s/trial, best loss: -0.49129821430140086]"
     ]
    },
    {
     "name": "stderr",
     "output_type": "stream",
     "text": [
      "/opt/mmayers/software/anaconda3/envs/ml/lib/python3.6/site-packages/sklearn/linear_model/_sag.py:330: ConvergenceWarning: The max_iter was reached which means the coef_ did not converge\n",
      "  \"the coef_ did not converge\", ConvergenceWarning)\n",
      "\n"
     ]
    },
    {
     "name": "stdout",
     "output_type": "stream",
     "text": [
      "[Pipeline] ............. (step 1 of 1) Processing e_net, total= 2.6min                  \n",
      " 52%|█████▏    | 26/50 [4:29:55<3:39:32, 548.85s/trial, best loss: -0.49129821430140086]"
     ]
    },
    {
     "name": "stderr",
     "output_type": "stream",
     "text": [
      "/opt/mmayers/software/anaconda3/envs/ml/lib/python3.6/site-packages/sklearn/linear_model/_sag.py:330: ConvergenceWarning: The max_iter was reached which means the coef_ did not converge\n",
      "  \"the coef_ did not converge\", ConvergenceWarning)\n",
      "\n"
     ]
    },
    {
     "name": "stdout",
     "output_type": "stream",
     "text": [
      "[Pipeline] ............. (step 1 of 1) Processing e_net, total= 2.5min                  \n",
      " 52%|█████▏    | 26/50 [4:32:25<3:39:32, 548.85s/trial, best loss: -0.49129821430140086]"
     ]
    },
    {
     "name": "stderr",
     "output_type": "stream",
     "text": [
      "/opt/mmayers/software/anaconda3/envs/ml/lib/python3.6/site-packages/sklearn/linear_model/_sag.py:330: ConvergenceWarning: The max_iter was reached which means the coef_ did not converge\n",
      "  \"the coef_ did not converge\", ConvergenceWarning)\n",
      "\n"
     ]
    },
    {
     "name": "stdout",
     "output_type": "stream",
     "text": [
      "[Pipeline] ............. (step 1 of 1) Processing e_net, total= 2.6min                  \n",
      " 52%|█████▏    | 26/50 [4:35:04<3:39:32, 548.85s/trial, best loss: -0.49129821430140086]"
     ]
    },
    {
     "name": "stderr",
     "output_type": "stream",
     "text": [
      "/opt/mmayers/software/anaconda3/envs/ml/lib/python3.6/site-packages/sklearn/linear_model/_sag.py:330: ConvergenceWarning: The max_iter was reached which means the coef_ did not converge\n",
      "  \"the coef_ did not converge\", ConvergenceWarning)\n",
      "\n"
     ]
    },
    {
     "name": "stdout",
     "output_type": "stream",
     "text": [
      "[Pipeline] ............. (step 1 of 1) Processing e_net, total= 2.7min                  \n",
      " 52%|█████▏    | 26/50 [4:37:43<3:39:32, 548.85s/trial, best loss: -0.49129821430140086]"
     ]
    },
    {
     "name": "stderr",
     "output_type": "stream",
     "text": [
      "/opt/mmayers/software/anaconda3/envs/ml/lib/python3.6/site-packages/sklearn/linear_model/_sag.py:330: ConvergenceWarning: The max_iter was reached which means the coef_ did not converge\n",
      "  \"the coef_ did not converge\", ConvergenceWarning)\n",
      "\n"
     ]
    },
    {
     "name": "stdout",
     "output_type": "stream",
     "text": [
      "[Pipeline] ............. (step 1 of 1) Processing e_net, total= 2.6min                  \n",
      "Mean AUROC: 0.7262                                                                      \n",
      "Mean Avg Pre: 0.1973                                                                    \n",
      "STD AUROC: 0.0540                                                                       \n",
      "STD Avg Pre: 0.0460                                                                     \n",
      "Loss: -0.3848                                                                           \n",
      " 54%|█████▍    | 27/50 [4:40:21<3:57:32, 619.66s/trial, best loss: -0.49129821430140086]"
     ]
    },
    {
     "name": "stderr",
     "output_type": "stream",
     "text": [
      "/opt/mmayers/software/anaconda3/envs/ml/lib/python3.6/site-packages/sklearn/linear_model/_sag.py:330: ConvergenceWarning: The max_iter was reached which means the coef_ did not converge\n",
      "  \"the coef_ did not converge\", ConvergenceWarning)\n",
      "\n"
     ]
    },
    {
     "name": "stdout",
     "output_type": "stream",
     "text": [
      "[Pipeline] ............. (step 1 of 1) Processing e_net, total= 1.6min                  \n",
      " 54%|█████▍    | 27/50 [4:42:02<3:57:32, 619.66s/trial, best loss: -0.49129821430140086]"
     ]
    },
    {
     "name": "stderr",
     "output_type": "stream",
     "text": [
      "/opt/mmayers/software/anaconda3/envs/ml/lib/python3.6/site-packages/sklearn/linear_model/_sag.py:330: ConvergenceWarning: The max_iter was reached which means the coef_ did not converge\n",
      "  \"the coef_ did not converge\", ConvergenceWarning)\n",
      "\n"
     ]
    },
    {
     "name": "stdout",
     "output_type": "stream",
     "text": [
      "[Pipeline] ............. (step 1 of 1) Processing e_net, total= 1.7min                  \n",
      " 54%|█████▍    | 27/50 [4:43:43<3:57:32, 619.66s/trial, best loss: -0.49129821430140086]"
     ]
    },
    {
     "name": "stderr",
     "output_type": "stream",
     "text": [
      "/opt/mmayers/software/anaconda3/envs/ml/lib/python3.6/site-packages/sklearn/linear_model/_sag.py:330: ConvergenceWarning: The max_iter was reached which means the coef_ did not converge\n",
      "  \"the coef_ did not converge\", ConvergenceWarning)\n",
      "\n"
     ]
    },
    {
     "name": "stdout",
     "output_type": "stream",
     "text": [
      "[Pipeline] ............. (step 1 of 1) Processing e_net, total= 1.7min                  \n",
      " 54%|█████▍    | 27/50 [4:45:23<3:57:32, 619.66s/trial, best loss: -0.49129821430140086]"
     ]
    },
    {
     "name": "stderr",
     "output_type": "stream",
     "text": [
      "/opt/mmayers/software/anaconda3/envs/ml/lib/python3.6/site-packages/sklearn/linear_model/_sag.py:330: ConvergenceWarning: The max_iter was reached which means the coef_ did not converge\n",
      "  \"the coef_ did not converge\", ConvergenceWarning)\n",
      "\n"
     ]
    },
    {
     "name": "stdout",
     "output_type": "stream",
     "text": [
      "[Pipeline] ............. (step 1 of 1) Processing e_net, total= 1.7min                  \n",
      " 54%|█████▍    | 27/50 [4:47:07<3:57:32, 619.66s/trial, best loss: -0.49129821430140086]"
     ]
    },
    {
     "name": "stderr",
     "output_type": "stream",
     "text": [
      "/opt/mmayers/software/anaconda3/envs/ml/lib/python3.6/site-packages/sklearn/linear_model/_sag.py:330: ConvergenceWarning: The max_iter was reached which means the coef_ did not converge\n",
      "  \"the coef_ did not converge\", ConvergenceWarning)\n",
      "\n"
     ]
    },
    {
     "name": "stdout",
     "output_type": "stream",
     "text": [
      "[Pipeline] ............. (step 1 of 1) Processing e_net, total= 1.7min                  \n",
      "Mean AUROC: 0.7533                                                                      \n",
      "Mean Avg Pre: 0.2207                                                                    \n",
      "STD AUROC: 0.0528                                                                       \n",
      "STD Avg Pre: 0.0545                                                                     \n",
      "Loss: -0.4386                                                                           \n",
      " 56%|█████▌    | 28/50 [4:48:49<3:34:55, 586.15s/trial, best loss: -0.49129821430140086]"
     ]
    },
    {
     "name": "stderr",
     "output_type": "stream",
     "text": [
      "/opt/mmayers/software/anaconda3/envs/ml/lib/python3.6/site-packages/sklearn/linear_model/_sag.py:330: ConvergenceWarning: The max_iter was reached which means the coef_ did not converge\n",
      "  \"the coef_ did not converge\", ConvergenceWarning)\n",
      "\n"
     ]
    },
    {
     "name": "stdout",
     "output_type": "stream",
     "text": [
      "[Pipeline] ............. (step 1 of 1) Processing e_net, total= 1.6min                  \n",
      " 56%|█████▌    | 28/50 [4:50:32<3:34:55, 586.15s/trial, best loss: -0.49129821430140086]"
     ]
    },
    {
     "name": "stderr",
     "output_type": "stream",
     "text": [
      "/opt/mmayers/software/anaconda3/envs/ml/lib/python3.6/site-packages/sklearn/linear_model/_sag.py:330: ConvergenceWarning: The max_iter was reached which means the coef_ did not converge\n",
      "  \"the coef_ did not converge\", ConvergenceWarning)\n",
      "\n"
     ]
    },
    {
     "name": "stdout",
     "output_type": "stream",
     "text": [
      "[Pipeline] ............. (step 1 of 1) Processing e_net, total= 1.6min                  \n",
      " 56%|█████▌    | 28/50 [4:52:07<3:34:55, 586.15s/trial, best loss: -0.49129821430140086]"
     ]
    },
    {
     "name": "stderr",
     "output_type": "stream",
     "text": [
      "/opt/mmayers/software/anaconda3/envs/ml/lib/python3.6/site-packages/sklearn/linear_model/_sag.py:330: ConvergenceWarning: The max_iter was reached which means the coef_ did not converge\n",
      "  \"the coef_ did not converge\", ConvergenceWarning)\n",
      "\n"
     ]
    },
    {
     "name": "stdout",
     "output_type": "stream",
     "text": [
      "[Pipeline] ............. (step 1 of 1) Processing e_net, total= 1.6min                  \n",
      " 56%|█████▌    | 28/50 [4:53:46<3:34:55, 586.15s/trial, best loss: -0.49129821430140086]"
     ]
    },
    {
     "name": "stderr",
     "output_type": "stream",
     "text": [
      "/opt/mmayers/software/anaconda3/envs/ml/lib/python3.6/site-packages/sklearn/linear_model/_sag.py:330: ConvergenceWarning: The max_iter was reached which means the coef_ did not converge\n",
      "  \"the coef_ did not converge\", ConvergenceWarning)\n",
      "\n"
     ]
    },
    {
     "name": "stdout",
     "output_type": "stream",
     "text": [
      "[Pipeline] ............. (step 1 of 1) Processing e_net, total= 1.8min                  \n",
      " 56%|█████▌    | 28/50 [4:55:33<3:34:55, 586.15s/trial, best loss: -0.49129821430140086]"
     ]
    },
    {
     "name": "stderr",
     "output_type": "stream",
     "text": [
      "/opt/mmayers/software/anaconda3/envs/ml/lib/python3.6/site-packages/sklearn/linear_model/_sag.py:330: ConvergenceWarning: The max_iter was reached which means the coef_ did not converge\n",
      "  \"the coef_ did not converge\", ConvergenceWarning)\n",
      "\n"
     ]
    },
    {
     "name": "stdout",
     "output_type": "stream",
     "text": [
      "[Pipeline] ............. (step 1 of 1) Processing e_net, total= 1.7min                  \n",
      "Mean AUROC: 0.7952                                                                      \n",
      "Mean Avg Pre: 0.2320                                                                    \n",
      "STD AUROC: 0.0413                                                                       \n",
      "STD Avg Pre: 0.0620                                                                     \n",
      "Loss: -0.4861                                                                           \n",
      " 58%|█████▊    | 29/50 [4:57:17<3:16:54, 562.61s/trial, best loss: -0.49129821430140086]"
     ]
    },
    {
     "name": "stderr",
     "output_type": "stream",
     "text": [
      "/opt/mmayers/software/anaconda3/envs/ml/lib/python3.6/site-packages/sklearn/linear_model/_sag.py:330: ConvergenceWarning: The max_iter was reached which means the coef_ did not converge\n",
      "  \"the coef_ did not converge\", ConvergenceWarning)\n",
      "\n"
     ]
    },
    {
     "name": "stdout",
     "output_type": "stream",
     "text": [
      "[Pipeline] ............. (step 1 of 1) Processing e_net, total= 1.6min                  \n",
      " 58%|█████▊    | 29/50 [4:58:57<3:16:54, 562.61s/trial, best loss: -0.49129821430140086]"
     ]
    },
    {
     "name": "stderr",
     "output_type": "stream",
     "text": [
      "/opt/mmayers/software/anaconda3/envs/ml/lib/python3.6/site-packages/sklearn/linear_model/_sag.py:330: ConvergenceWarning: The max_iter was reached which means the coef_ did not converge\n",
      "  \"the coef_ did not converge\", ConvergenceWarning)\n",
      "\n"
     ]
    },
    {
     "name": "stdout",
     "output_type": "stream",
     "text": [
      "[Pipeline] ............. (step 1 of 1) Processing e_net, total= 1.6min                  \n",
      " 58%|█████▊    | 29/50 [5:00:33<3:16:54, 562.61s/trial, best loss: -0.49129821430140086]"
     ]
    },
    {
     "name": "stderr",
     "output_type": "stream",
     "text": [
      "/opt/mmayers/software/anaconda3/envs/ml/lib/python3.6/site-packages/sklearn/linear_model/_sag.py:330: ConvergenceWarning: The max_iter was reached which means the coef_ did not converge\n",
      "  \"the coef_ did not converge\", ConvergenceWarning)\n",
      "\n"
     ]
    },
    {
     "name": "stdout",
     "output_type": "stream",
     "text": [
      "[Pipeline] ............. (step 1 of 1) Processing e_net, total= 1.6min                  \n",
      " 58%|█████▊    | 29/50 [5:02:10<3:16:54, 562.61s/trial, best loss: -0.49129821430140086]"
     ]
    },
    {
     "name": "stderr",
     "output_type": "stream",
     "text": [
      "/opt/mmayers/software/anaconda3/envs/ml/lib/python3.6/site-packages/sklearn/linear_model/_sag.py:330: ConvergenceWarning: The max_iter was reached which means the coef_ did not converge\n",
      "  \"the coef_ did not converge\", ConvergenceWarning)\n",
      "\n"
     ]
    },
    {
     "name": "stdout",
     "output_type": "stream",
     "text": [
      "[Pipeline] ............. (step 1 of 1) Processing e_net, total= 1.7min                  \n",
      " 58%|█████▊    | 29/50 [5:03:54<3:16:54, 562.61s/trial, best loss: -0.49129821430140086]"
     ]
    },
    {
     "name": "stderr",
     "output_type": "stream",
     "text": [
      "/opt/mmayers/software/anaconda3/envs/ml/lib/python3.6/site-packages/sklearn/linear_model/_sag.py:330: ConvergenceWarning: The max_iter was reached which means the coef_ did not converge\n",
      "  \"the coef_ did not converge\", ConvergenceWarning)\n",
      "\n"
     ]
    },
    {
     "name": "stdout",
     "output_type": "stream",
     "text": [
      "[Pipeline] ............. (step 1 of 1) Processing e_net, total= 1.7min                  \n",
      "Mean AUROC: 0.7820                                                                      \n",
      "Mean Avg Pre: 0.2323                                                                    \n",
      "STD AUROC: 0.0456                                                                       \n",
      "STD Avg Pre: 0.0607                                                                     \n",
      "Loss: -0.4768                                                                           \n",
      " 60%|██████    | 30/50 [5:05:34<3:01:01, 543.10s/trial, best loss: -0.49129821430140086]"
     ]
    },
    {
     "name": "stderr",
     "output_type": "stream",
     "text": [
      "/opt/mmayers/software/anaconda3/envs/ml/lib/python3.6/site-packages/sklearn/linear_model/_sag.py:330: ConvergenceWarning: The max_iter was reached which means the coef_ did not converge\n",
      "  \"the coef_ did not converge\", ConvergenceWarning)\n",
      "\n"
     ]
    },
    {
     "name": "stdout",
     "output_type": "stream",
     "text": [
      "[Pipeline] ............. (step 1 of 1) Processing e_net, total= 1.7min                  \n",
      " 60%|██████    | 30/50 [5:07:19<3:01:01, 543.10s/trial, best loss: -0.49129821430140086]"
     ]
    },
    {
     "name": "stderr",
     "output_type": "stream",
     "text": [
      "/opt/mmayers/software/anaconda3/envs/ml/lib/python3.6/site-packages/sklearn/linear_model/_sag.py:330: ConvergenceWarning: The max_iter was reached which means the coef_ did not converge\n",
      "  \"the coef_ did not converge\", ConvergenceWarning)\n",
      "\n"
     ]
    },
    {
     "name": "stdout",
     "output_type": "stream",
     "text": [
      "[Pipeline] ............. (step 1 of 1) Processing e_net, total= 1.6min                  \n",
      " 60%|██████    | 30/50 [5:08:58<3:01:01, 543.10s/trial, best loss: -0.49129821430140086]"
     ]
    },
    {
     "name": "stderr",
     "output_type": "stream",
     "text": [
      "/opt/mmayers/software/anaconda3/envs/ml/lib/python3.6/site-packages/sklearn/linear_model/_sag.py:330: ConvergenceWarning: The max_iter was reached which means the coef_ did not converge\n",
      "  \"the coef_ did not converge\", ConvergenceWarning)\n",
      "\n"
     ]
    },
    {
     "name": "stdout",
     "output_type": "stream",
     "text": [
      "[Pipeline] ............. (step 1 of 1) Processing e_net, total= 1.7min                  \n",
      " 60%|██████    | 30/50 [5:10:41<3:01:01, 543.10s/trial, best loss: -0.49129821430140086]"
     ]
    },
    {
     "name": "stderr",
     "output_type": "stream",
     "text": [
      "/opt/mmayers/software/anaconda3/envs/ml/lib/python3.6/site-packages/sklearn/linear_model/_sag.py:330: ConvergenceWarning: The max_iter was reached which means the coef_ did not converge\n",
      "  \"the coef_ did not converge\", ConvergenceWarning)\n",
      "\n"
     ]
    },
    {
     "name": "stdout",
     "output_type": "stream",
     "text": [
      "[Pipeline] ............. (step 1 of 1) Processing e_net, total= 1.8min                  \n",
      " 60%|██████    | 30/50 [5:12:30<3:01:01, 543.10s/trial, best loss: -0.49129821430140086]"
     ]
    },
    {
     "name": "stderr",
     "output_type": "stream",
     "text": [
      "/opt/mmayers/software/anaconda3/envs/ml/lib/python3.6/site-packages/sklearn/linear_model/_sag.py:330: ConvergenceWarning: The max_iter was reached which means the coef_ did not converge\n",
      "  \"the coef_ did not converge\", ConvergenceWarning)\n",
      "\n"
     ]
    },
    {
     "name": "stdout",
     "output_type": "stream",
     "text": [
      "[Pipeline] ............. (step 1 of 1) Processing e_net, total= 1.8min                  \n",
      "Mean AUROC: 0.7818                                                                      \n",
      "Mean Avg Pre: 0.2308                                                                    \n",
      "STD AUROC: 0.0452                                                                       \n",
      "STD Avg Pre: 0.0603                                                                     \n",
      "Loss: -0.4746                                                                           \n",
      " 62%|██████▏   | 31/50 [5:14:17<2:50:02, 536.98s/trial, best loss: -0.49129821430140086]"
     ]
    },
    {
     "name": "stderr",
     "output_type": "stream",
     "text": [
      "/opt/mmayers/software/anaconda3/envs/ml/lib/python3.6/site-packages/sklearn/linear_model/_sag.py:330: ConvergenceWarning: The max_iter was reached which means the coef_ did not converge\n",
      "  \"the coef_ did not converge\", ConvergenceWarning)\n",
      "\n"
     ]
    },
    {
     "name": "stdout",
     "output_type": "stream",
     "text": [
      "[Pipeline] ............. (step 1 of 1) Processing e_net, total= 2.7min                  \n",
      " 62%|██████▏   | 31/50 [5:17:01<2:50:02, 536.98s/trial, best loss: -0.49129821430140086]"
     ]
    },
    {
     "name": "stderr",
     "output_type": "stream",
     "text": [
      "/opt/mmayers/software/anaconda3/envs/ml/lib/python3.6/site-packages/sklearn/linear_model/_sag.py:330: ConvergenceWarning: The max_iter was reached which means the coef_ did not converge\n",
      "  \"the coef_ did not converge\", ConvergenceWarning)\n",
      "\n"
     ]
    },
    {
     "name": "stdout",
     "output_type": "stream",
     "text": [
      "[Pipeline] ............. (step 1 of 1) Processing e_net, total= 2.7min                  \n",
      " 62%|██████▏   | 31/50 [5:19:44<2:50:02, 536.98s/trial, best loss: -0.49129821430140086]"
     ]
    },
    {
     "name": "stderr",
     "output_type": "stream",
     "text": [
      "/opt/mmayers/software/anaconda3/envs/ml/lib/python3.6/site-packages/sklearn/linear_model/_sag.py:330: ConvergenceWarning: The max_iter was reached which means the coef_ did not converge\n",
      "  \"the coef_ did not converge\", ConvergenceWarning)\n",
      "\n"
     ]
    },
    {
     "name": "stdout",
     "output_type": "stream",
     "text": [
      "[Pipeline] ............. (step 1 of 1) Processing e_net, total= 2.7min                  \n",
      " 62%|██████▏   | 31/50 [5:22:26<2:50:02, 536.98s/trial, best loss: -0.49129821430140086]"
     ]
    },
    {
     "name": "stderr",
     "output_type": "stream",
     "text": [
      "/opt/mmayers/software/anaconda3/envs/ml/lib/python3.6/site-packages/sklearn/linear_model/_sag.py:330: ConvergenceWarning: The max_iter was reached which means the coef_ did not converge\n",
      "  \"the coef_ did not converge\", ConvergenceWarning)\n",
      "\n"
     ]
    },
    {
     "name": "stdout",
     "output_type": "stream",
     "text": [
      "[Pipeline] ............. (step 1 of 1) Processing e_net, total= 2.8min                  \n",
      " 62%|██████▏   | 31/50 [5:25:12<2:50:02, 536.98s/trial, best loss: -0.49129821430140086]"
     ]
    },
    {
     "name": "stderr",
     "output_type": "stream",
     "text": [
      "/opt/mmayers/software/anaconda3/envs/ml/lib/python3.6/site-packages/sklearn/linear_model/_sag.py:330: ConvergenceWarning: The max_iter was reached which means the coef_ did not converge\n",
      "  \"the coef_ did not converge\", ConvergenceWarning)\n",
      "\n"
     ]
    },
    {
     "name": "stdout",
     "output_type": "stream",
     "text": [
      "[Pipeline] ............. (step 1 of 1) Processing e_net, total= 2.7min                  \n",
      "Mean AUROC: 0.7261                                                                      \n",
      "Mean Avg Pre: 0.1979                                                                    \n",
      "STD AUROC: 0.0540                                                                       \n",
      "STD Avg Pre: 0.0462                                                                     \n",
      "Loss: -0.3857                                                                           \n",
      " 64%|██████▍   | 32/50 [5:27:53<3:06:12, 620.67s/trial, best loss: -0.49129821430140086]"
     ]
    },
    {
     "name": "stderr",
     "output_type": "stream",
     "text": [
      "/opt/mmayers/software/anaconda3/envs/ml/lib/python3.6/site-packages/sklearn/linear_model/_sag.py:330: ConvergenceWarning: The max_iter was reached which means the coef_ did not converge\n",
      "  \"the coef_ did not converge\", ConvergenceWarning)\n",
      "\n"
     ]
    },
    {
     "name": "stdout",
     "output_type": "stream",
     "text": [
      "[Pipeline] ............. (step 1 of 1) Processing e_net, total= 1.7min                  \n",
      " 64%|██████▍   | 32/50 [5:29:40<3:06:12, 620.67s/trial, best loss: -0.49129821430140086]"
     ]
    },
    {
     "name": "stderr",
     "output_type": "stream",
     "text": [
      "/opt/mmayers/software/anaconda3/envs/ml/lib/python3.6/site-packages/sklearn/linear_model/_sag.py:330: ConvergenceWarning: The max_iter was reached which means the coef_ did not converge\n",
      "  \"the coef_ did not converge\", ConvergenceWarning)\n",
      "\n"
     ]
    },
    {
     "name": "stdout",
     "output_type": "stream",
     "text": [
      "[Pipeline] ............. (step 1 of 1) Processing e_net, total= 1.7min                  \n",
      " 64%|██████▍   | 32/50 [5:31:25<3:06:12, 620.67s/trial, best loss: -0.49129821430140086]"
     ]
    },
    {
     "name": "stderr",
     "output_type": "stream",
     "text": [
      "/opt/mmayers/software/anaconda3/envs/ml/lib/python3.6/site-packages/sklearn/linear_model/_sag.py:330: ConvergenceWarning: The max_iter was reached which means the coef_ did not converge\n",
      "  \"the coef_ did not converge\", ConvergenceWarning)\n",
      "\n"
     ]
    },
    {
     "name": "stdout",
     "output_type": "stream",
     "text": [
      "[Pipeline] ............. (step 1 of 1) Processing e_net, total= 1.8min                  \n",
      " 64%|██████▍   | 32/50 [5:33:12<3:06:12, 620.67s/trial, best loss: -0.49129821430140086]"
     ]
    },
    {
     "name": "stderr",
     "output_type": "stream",
     "text": [
      "/opt/mmayers/software/anaconda3/envs/ml/lib/python3.6/site-packages/sklearn/linear_model/_sag.py:330: ConvergenceWarning: The max_iter was reached which means the coef_ did not converge\n",
      "  \"the coef_ did not converge\", ConvergenceWarning)\n",
      "\n"
     ]
    },
    {
     "name": "stdout",
     "output_type": "stream",
     "text": [
      "[Pipeline] ............. (step 1 of 1) Processing e_net, total= 1.8min                  \n",
      " 64%|██████▍   | 32/50 [5:35:02<3:06:12, 620.67s/trial, best loss: -0.49129821430140086]"
     ]
    },
    {
     "name": "stderr",
     "output_type": "stream",
     "text": [
      "/opt/mmayers/software/anaconda3/envs/ml/lib/python3.6/site-packages/sklearn/linear_model/_sag.py:330: ConvergenceWarning: The max_iter was reached which means the coef_ did not converge\n",
      "  \"the coef_ did not converge\", ConvergenceWarning)\n",
      "\n"
     ]
    },
    {
     "name": "stdout",
     "output_type": "stream",
     "text": [
      "[Pipeline] ............. (step 1 of 1) Processing e_net, total= 1.8min                  \n",
      "Mean AUROC: 0.7506                                                                      \n",
      "Mean Avg Pre: 0.2191                                                                    \n",
      "STD AUROC: 0.0531                                                                       \n",
      "STD Avg Pre: 0.0538                                                                     \n",
      "Loss: -0.4344                                                                           \n",
      " 66%|██████▌   | 33/50 [5:36:50<2:48:44, 595.53s/trial, best loss: -0.49129821430140086]"
     ]
    },
    {
     "name": "stderr",
     "output_type": "stream",
     "text": [
      "/opt/mmayers/software/anaconda3/envs/ml/lib/python3.6/site-packages/sklearn/linear_model/_sag.py:330: ConvergenceWarning: The max_iter was reached which means the coef_ did not converge\n",
      "  \"the coef_ did not converge\", ConvergenceWarning)\n",
      "\n"
     ]
    },
    {
     "name": "stdout",
     "output_type": "stream",
     "text": [
      "[Pipeline] ............. (step 1 of 1) Processing e_net, total= 1.9min                  \n",
      " 66%|██████▌   | 33/50 [5:38:47<2:48:44, 595.53s/trial, best loss: -0.49129821430140086]"
     ]
    },
    {
     "name": "stderr",
     "output_type": "stream",
     "text": [
      "/opt/mmayers/software/anaconda3/envs/ml/lib/python3.6/site-packages/sklearn/linear_model/_sag.py:330: ConvergenceWarning: The max_iter was reached which means the coef_ did not converge\n",
      "  \"the coef_ did not converge\", ConvergenceWarning)\n",
      "\n"
     ]
    },
    {
     "name": "stdout",
     "output_type": "stream",
     "text": [
      "[Pipeline] ............. (step 1 of 1) Processing e_net, total= 1.9min                  \n",
      " 66%|██████▌   | 33/50 [5:40:39<2:48:44, 595.53s/trial, best loss: -0.49129821430140086]"
     ]
    },
    {
     "name": "stderr",
     "output_type": "stream",
     "text": [
      "/opt/mmayers/software/anaconda3/envs/ml/lib/python3.6/site-packages/sklearn/linear_model/_sag.py:330: ConvergenceWarning: The max_iter was reached which means the coef_ did not converge\n",
      "  \"the coef_ did not converge\", ConvergenceWarning)\n",
      "\n"
     ]
    },
    {
     "name": "stdout",
     "output_type": "stream",
     "text": [
      "[Pipeline] ............. (step 1 of 1) Processing e_net, total= 1.9min                  \n",
      " 66%|██████▌   | 33/50 [5:42:35<2:48:44, 595.53s/trial, best loss: -0.49129821430140086]"
     ]
    },
    {
     "name": "stderr",
     "output_type": "stream",
     "text": [
      "/opt/mmayers/software/anaconda3/envs/ml/lib/python3.6/site-packages/sklearn/linear_model/_sag.py:330: ConvergenceWarning: The max_iter was reached which means the coef_ did not converge\n",
      "  \"the coef_ did not converge\", ConvergenceWarning)\n",
      "\n"
     ]
    },
    {
     "name": "stdout",
     "output_type": "stream",
     "text": [
      "[Pipeline] ............. (step 1 of 1) Processing e_net, total= 2.0min                  \n",
      " 66%|██████▌   | 33/50 [5:44:32<2:48:44, 595.53s/trial, best loss: -0.49129821430140086]"
     ]
    },
    {
     "name": "stderr",
     "output_type": "stream",
     "text": [
      "/opt/mmayers/software/anaconda3/envs/ml/lib/python3.6/site-packages/sklearn/linear_model/_sag.py:330: ConvergenceWarning: The max_iter was reached which means the coef_ did not converge\n",
      "  \"the coef_ did not converge\", ConvergenceWarning)\n",
      "\n"
     ]
    },
    {
     "name": "stdout",
     "output_type": "stream",
     "text": [
      "[Pipeline] ............. (step 1 of 1) Processing e_net, total= 2.0min                  \n",
      "Mean AUROC: 0.7532                                                                      \n",
      "Mean Avg Pre: 0.2204                                                                    \n",
      "STD AUROC: 0.0529                                                                       \n",
      "STD Avg Pre: 0.0552                                                                     \n",
      "Loss: -0.4378                                                                           \n",
      " 68%|██████▊   | 34/50 [5:46:31<2:37:40, 591.27s/trial, best loss: -0.49129821430140086]"
     ]
    },
    {
     "name": "stderr",
     "output_type": "stream",
     "text": [
      "/opt/mmayers/software/anaconda3/envs/ml/lib/python3.6/site-packages/sklearn/linear_model/_sag.py:330: ConvergenceWarning: The max_iter was reached which means the coef_ did not converge\n",
      "  \"the coef_ did not converge\", ConvergenceWarning)\n",
      "\n"
     ]
    },
    {
     "name": "stdout",
     "output_type": "stream",
     "text": [
      "[Pipeline] ............. (step 1 of 1) Processing e_net, total= 1.9min                  \n",
      " 68%|██████▊   | 34/50 [5:48:30<2:37:40, 591.27s/trial, best loss: -0.49129821430140086]"
     ]
    },
    {
     "name": "stderr",
     "output_type": "stream",
     "text": [
      "/opt/mmayers/software/anaconda3/envs/ml/lib/python3.6/site-packages/sklearn/linear_model/_sag.py:330: ConvergenceWarning: The max_iter was reached which means the coef_ did not converge\n",
      "  \"the coef_ did not converge\", ConvergenceWarning)\n",
      "\n"
     ]
    },
    {
     "name": "stdout",
     "output_type": "stream",
     "text": [
      "[Pipeline] ............. (step 1 of 1) Processing e_net, total= 1.9min                  \n",
      " 68%|██████▊   | 34/50 [5:50:27<2:37:40, 591.27s/trial, best loss: -0.49129821430140086]"
     ]
    },
    {
     "name": "stderr",
     "output_type": "stream",
     "text": [
      "/opt/mmayers/software/anaconda3/envs/ml/lib/python3.6/site-packages/sklearn/linear_model/_sag.py:330: ConvergenceWarning: The max_iter was reached which means the coef_ did not converge\n",
      "  \"the coef_ did not converge\", ConvergenceWarning)\n",
      "\n"
     ]
    },
    {
     "name": "stdout",
     "output_type": "stream",
     "text": [
      "[Pipeline] ............. (step 1 of 1) Processing e_net, total= 2.0min                  \n",
      " 68%|██████▊   | 34/50 [5:52:26<2:37:40, 591.27s/trial, best loss: -0.49129821430140086]"
     ]
    },
    {
     "name": "stderr",
     "output_type": "stream",
     "text": [
      "/opt/mmayers/software/anaconda3/envs/ml/lib/python3.6/site-packages/sklearn/linear_model/_sag.py:330: ConvergenceWarning: The max_iter was reached which means the coef_ did not converge\n",
      "  \"the coef_ did not converge\", ConvergenceWarning)\n",
      "\n"
     ]
    },
    {
     "name": "stdout",
     "output_type": "stream",
     "text": [
      "[Pipeline] ............. (step 1 of 1) Processing e_net, total= 2.1min                  \n",
      " 68%|██████▊   | 34/50 [5:54:30<2:37:40, 591.27s/trial, best loss: -0.49129821430140086]"
     ]
    },
    {
     "name": "stderr",
     "output_type": "stream",
     "text": [
      "/opt/mmayers/software/anaconda3/envs/ml/lib/python3.6/site-packages/sklearn/linear_model/_sag.py:330: ConvergenceWarning: The max_iter was reached which means the coef_ did not converge\n",
      "  \"the coef_ did not converge\", ConvergenceWarning)\n",
      "\n"
     ]
    },
    {
     "name": "stdout",
     "output_type": "stream",
     "text": [
      "[Pipeline] ............. (step 1 of 1) Processing e_net, total= 2.0min                  \n",
      "Mean AUROC: 0.7395                                                                      \n",
      "Mean Avg Pre: 0.2116                                                                    \n",
      "STD AUROC: 0.0542                                                                       \n",
      "STD Avg Pre: 0.0512                                                                     \n",
      "Loss: -0.4153                                                                           \n",
      " 70%|███████   | 35/50 [5:56:28<2:28:15, 593.02s/trial, best loss: -0.49129821430140086]"
     ]
    },
    {
     "name": "stderr",
     "output_type": "stream",
     "text": [
      "/opt/mmayers/software/anaconda3/envs/ml/lib/python3.6/site-packages/sklearn/linear_model/_sag.py:330: ConvergenceWarning: The max_iter was reached which means the coef_ did not converge\n",
      "  \"the coef_ did not converge\", ConvergenceWarning)\n",
      "\n"
     ]
    },
    {
     "name": "stdout",
     "output_type": "stream",
     "text": [
      "[Pipeline] ............. (step 1 of 1) Processing e_net, total= 1.4min                  \n",
      " 70%|███████   | 35/50 [5:57:54<2:28:15, 593.02s/trial, best loss: -0.49129821430140086]"
     ]
    },
    {
     "name": "stderr",
     "output_type": "stream",
     "text": [
      "/opt/mmayers/software/anaconda3/envs/ml/lib/python3.6/site-packages/sklearn/linear_model/_sag.py:330: ConvergenceWarning: The max_iter was reached which means the coef_ did not converge\n",
      "  \"the coef_ did not converge\", ConvergenceWarning)\n",
      "\n"
     ]
    },
    {
     "name": "stdout",
     "output_type": "stream",
     "text": [
      "[Pipeline] ............. (step 1 of 1) Processing e_net, total= 1.4min                  \n",
      " 70%|███████   | 35/50 [5:59:16<2:28:15, 593.02s/trial, best loss: -0.49129821430140086]"
     ]
    },
    {
     "name": "stderr",
     "output_type": "stream",
     "text": [
      "/opt/mmayers/software/anaconda3/envs/ml/lib/python3.6/site-packages/sklearn/linear_model/_sag.py:330: ConvergenceWarning: The max_iter was reached which means the coef_ did not converge\n",
      "  \"the coef_ did not converge\", ConvergenceWarning)\n",
      "\n"
     ]
    },
    {
     "name": "stdout",
     "output_type": "stream",
     "text": [
      "[Pipeline] ............. (step 1 of 1) Processing e_net, total= 1.4min                  \n",
      " 70%|███████   | 35/50 [6:00:40<2:28:15, 593.02s/trial, best loss: -0.49129821430140086]"
     ]
    },
    {
     "name": "stderr",
     "output_type": "stream",
     "text": [
      "/opt/mmayers/software/anaconda3/envs/ml/lib/python3.6/site-packages/sklearn/linear_model/_sag.py:330: ConvergenceWarning: The max_iter was reached which means the coef_ did not converge\n",
      "  \"the coef_ did not converge\", ConvergenceWarning)\n",
      "\n"
     ]
    },
    {
     "name": "stdout",
     "output_type": "stream",
     "text": [
      "[Pipeline] ............. (step 1 of 1) Processing e_net, total= 1.5min                  \n",
      " 70%|███████   | 35/50 [6:02:08<2:28:15, 593.02s/trial, best loss: -0.49129821430140086]"
     ]
    },
    {
     "name": "stderr",
     "output_type": "stream",
     "text": [
      "/opt/mmayers/software/anaconda3/envs/ml/lib/python3.6/site-packages/sklearn/linear_model/_sag.py:330: ConvergenceWarning: The max_iter was reached which means the coef_ did not converge\n",
      "  \"the coef_ did not converge\", ConvergenceWarning)\n",
      "\n"
     ]
    },
    {
     "name": "stdout",
     "output_type": "stream",
     "text": [
      "[Pipeline] ............. (step 1 of 1) Processing e_net, total= 1.4min                  \n",
      "Mean AUROC: 0.8017                                                                      \n",
      "Mean Avg Pre: 0.2368                                                                    \n",
      "STD AUROC: 0.0400                                                                       \n",
      "STD Avg Pre: 0.0642                                                                     \n",
      "Loss: -0.4976                                                                           \n",
      " 72%|███████▏  | 36/50 [6:03:36<2:06:45, 543.29s/trial, best loss: -0.49755962665480535]"
     ]
    },
    {
     "name": "stderr",
     "output_type": "stream",
     "text": [
      "/opt/mmayers/software/anaconda3/envs/ml/lib/python3.6/site-packages/sklearn/linear_model/_sag.py:330: ConvergenceWarning: The max_iter was reached which means the coef_ did not converge\n",
      "  \"the coef_ did not converge\", ConvergenceWarning)\n",
      "\n"
     ]
    },
    {
     "name": "stdout",
     "output_type": "stream",
     "text": [
      "[Pipeline] ............. (step 1 of 1) Processing e_net, total= 1.5min                  \n",
      " 72%|███████▏  | 36/50 [6:05:10<2:06:45, 543.29s/trial, best loss: -0.49755962665480535]"
     ]
    },
    {
     "name": "stderr",
     "output_type": "stream",
     "text": [
      "/opt/mmayers/software/anaconda3/envs/ml/lib/python3.6/site-packages/sklearn/linear_model/_sag.py:330: ConvergenceWarning: The max_iter was reached which means the coef_ did not converge\n",
      "  \"the coef_ did not converge\", ConvergenceWarning)\n",
      "\n"
     ]
    },
    {
     "name": "stdout",
     "output_type": "stream",
     "text": [
      "[Pipeline] ............. (step 1 of 1) Processing e_net, total= 1.5min                  \n",
      " 72%|███████▏  | 36/50 [6:06:39<2:06:45, 543.29s/trial, best loss: -0.49755962665480535]"
     ]
    },
    {
     "name": "stderr",
     "output_type": "stream",
     "text": [
      "/opt/mmayers/software/anaconda3/envs/ml/lib/python3.6/site-packages/sklearn/linear_model/_sag.py:330: ConvergenceWarning: The max_iter was reached which means the coef_ did not converge\n",
      "  \"the coef_ did not converge\", ConvergenceWarning)\n",
      "\n"
     ]
    },
    {
     "name": "stdout",
     "output_type": "stream",
     "text": [
      "[Pipeline] ............. (step 1 of 1) Processing e_net, total= 1.5min                  \n",
      " 72%|███████▏  | 36/50 [6:08:11<2:06:45, 543.29s/trial, best loss: -0.49755962665480535]"
     ]
    },
    {
     "name": "stderr",
     "output_type": "stream",
     "text": [
      "/opt/mmayers/software/anaconda3/envs/ml/lib/python3.6/site-packages/sklearn/linear_model/_sag.py:330: ConvergenceWarning: The max_iter was reached which means the coef_ did not converge\n",
      "  \"the coef_ did not converge\", ConvergenceWarning)\n",
      "\n"
     ]
    },
    {
     "name": "stdout",
     "output_type": "stream",
     "text": [
      "[Pipeline] ............. (step 1 of 1) Processing e_net, total= 1.6min                  \n",
      " 72%|███████▏  | 36/50 [6:09:47<2:06:45, 543.29s/trial, best loss: -0.49755962665480535]"
     ]
    },
    {
     "name": "stderr",
     "output_type": "stream",
     "text": [
      "/opt/mmayers/software/anaconda3/envs/ml/lib/python3.6/site-packages/sklearn/linear_model/_sag.py:330: ConvergenceWarning: The max_iter was reached which means the coef_ did not converge\n",
      "  \"the coef_ did not converge\", ConvergenceWarning)\n",
      "\n"
     ]
    },
    {
     "name": "stdout",
     "output_type": "stream",
     "text": [
      "[Pipeline] ............. (step 1 of 1) Processing e_net, total= 1.6min                  \n",
      "Mean AUROC: 0.7870                                                                      \n",
      "Mean Avg Pre: 0.2340                                                                    \n",
      "STD AUROC: 0.0441                                                                       \n",
      "STD Avg Pre: 0.0616                                                                     \n",
      "Loss: -0.4831                                                                           \n",
      " 74%|███████▍  | 37/50 [6:11:21<1:52:38, 519.91s/trial, best loss: -0.49755962665480535]"
     ]
    },
    {
     "name": "stderr",
     "output_type": "stream",
     "text": [
      "/opt/mmayers/software/anaconda3/envs/ml/lib/python3.6/site-packages/sklearn/linear_model/_sag.py:330: ConvergenceWarning: The max_iter was reached which means the coef_ did not converge\n",
      "  \"the coef_ did not converge\", ConvergenceWarning)\n",
      "\n"
     ]
    },
    {
     "name": "stdout",
     "output_type": "stream",
     "text": [
      "[Pipeline] ............. (step 1 of 1) Processing e_net, total= 1.5min                  \n",
      " 74%|███████▍  | 37/50 [6:12:52<1:52:38, 519.91s/trial, best loss: -0.49755962665480535]"
     ]
    },
    {
     "name": "stderr",
     "output_type": "stream",
     "text": [
      "/opt/mmayers/software/anaconda3/envs/ml/lib/python3.6/site-packages/sklearn/linear_model/_sag.py:330: ConvergenceWarning: The max_iter was reached which means the coef_ did not converge\n",
      "  \"the coef_ did not converge\", ConvergenceWarning)\n",
      "\n"
     ]
    },
    {
     "name": "stdout",
     "output_type": "stream",
     "text": [
      "[Pipeline] ............. (step 1 of 1) Processing e_net, total= 1.5min                  \n",
      " 74%|███████▍  | 37/50 [6:14:20<1:52:38, 519.91s/trial, best loss: -0.49755962665480535]"
     ]
    },
    {
     "name": "stderr",
     "output_type": "stream",
     "text": [
      "/opt/mmayers/software/anaconda3/envs/ml/lib/python3.6/site-packages/sklearn/linear_model/_sag.py:330: ConvergenceWarning: The max_iter was reached which means the coef_ did not converge\n",
      "  \"the coef_ did not converge\", ConvergenceWarning)\n",
      "\n"
     ]
    },
    {
     "name": "stdout",
     "output_type": "stream",
     "text": [
      "[Pipeline] ............. (step 1 of 1) Processing e_net, total= 1.5min                  \n",
      " 74%|███████▍  | 37/50 [6:15:52<1:52:38, 519.91s/trial, best loss: -0.49755962665480535]"
     ]
    },
    {
     "name": "stderr",
     "output_type": "stream",
     "text": [
      "/opt/mmayers/software/anaconda3/envs/ml/lib/python3.6/site-packages/sklearn/linear_model/_sag.py:330: ConvergenceWarning: The max_iter was reached which means the coef_ did not converge\n",
      "  \"the coef_ did not converge\", ConvergenceWarning)\n",
      "\n"
     ]
    },
    {
     "name": "stdout",
     "output_type": "stream",
     "text": [
      "[Pipeline] ............. (step 1 of 1) Processing e_net, total= 1.5min                  \n",
      " 74%|███████▍  | 37/50 [6:17:25<1:52:38, 519.91s/trial, best loss: -0.49755962665480535]"
     ]
    },
    {
     "name": "stderr",
     "output_type": "stream",
     "text": [
      "/opt/mmayers/software/anaconda3/envs/ml/lib/python3.6/site-packages/sklearn/linear_model/_sag.py:330: ConvergenceWarning: The max_iter was reached which means the coef_ did not converge\n",
      "  \"the coef_ did not converge\", ConvergenceWarning)\n",
      "\n"
     ]
    },
    {
     "name": "stdout",
     "output_type": "stream",
     "text": [
      "[Pipeline] ............. (step 1 of 1) Processing e_net, total= 1.5min                  \n",
      "Mean AUROC: 0.7507                                                                      \n",
      "Mean Avg Pre: 0.2190                                                                    \n",
      "STD AUROC: 0.0531                                                                       \n",
      "STD Avg Pre: 0.0537                                                                     \n",
      "Loss: -0.4344                                                                           \n",
      " 76%|███████▌  | 38/50 [6:18:56<1:40:06, 500.56s/trial, best loss: -0.49755962665480535]"
     ]
    },
    {
     "name": "stderr",
     "output_type": "stream",
     "text": [
      "/opt/mmayers/software/anaconda3/envs/ml/lib/python3.6/site-packages/sklearn/linear_model/_sag.py:330: ConvergenceWarning: The max_iter was reached which means the coef_ did not converge\n",
      "  \"the coef_ did not converge\", ConvergenceWarning)\n",
      "\n"
     ]
    },
    {
     "name": "stdout",
     "output_type": "stream",
     "text": [
      "[Pipeline] ............. (step 1 of 1) Processing e_net, total= 2.4min                  \n",
      " 76%|███████▌  | 38/50 [6:21:26<1:40:06, 500.56s/trial, best loss: -0.49755962665480535]"
     ]
    },
    {
     "name": "stderr",
     "output_type": "stream",
     "text": [
      "/opt/mmayers/software/anaconda3/envs/ml/lib/python3.6/site-packages/sklearn/linear_model/_sag.py:330: ConvergenceWarning: The max_iter was reached which means the coef_ did not converge\n",
      "  \"the coef_ did not converge\", ConvergenceWarning)\n",
      "\n"
     ]
    },
    {
     "name": "stdout",
     "output_type": "stream",
     "text": [
      "[Pipeline] ............. (step 1 of 1) Processing e_net, total= 2.4min                  \n",
      " 76%|███████▌  | 38/50 [6:23:51<1:40:06, 500.56s/trial, best loss: -0.49755962665480535]"
     ]
    },
    {
     "name": "stderr",
     "output_type": "stream",
     "text": [
      "/opt/mmayers/software/anaconda3/envs/ml/lib/python3.6/site-packages/sklearn/linear_model/_sag.py:330: ConvergenceWarning: The max_iter was reached which means the coef_ did not converge\n",
      "  \"the coef_ did not converge\", ConvergenceWarning)\n",
      "\n"
     ]
    },
    {
     "name": "stdout",
     "output_type": "stream",
     "text": [
      "[Pipeline] ............. (step 1 of 1) Processing e_net, total= 2.4min                  \n",
      " 76%|███████▌  | 38/50 [6:26:17<1:40:06, 500.56s/trial, best loss: -0.49755962665480535]"
     ]
    },
    {
     "name": "stderr",
     "output_type": "stream",
     "text": [
      "/opt/mmayers/software/anaconda3/envs/ml/lib/python3.6/site-packages/sklearn/linear_model/_sag.py:330: ConvergenceWarning: The max_iter was reached which means the coef_ did not converge\n",
      "  \"the coef_ did not converge\", ConvergenceWarning)\n",
      "\n"
     ]
    },
    {
     "name": "stdout",
     "output_type": "stream",
     "text": [
      "[Pipeline] ............. (step 1 of 1) Processing e_net, total= 2.5min                  \n",
      " 76%|███████▌  | 38/50 [6:28:48<1:40:06, 500.56s/trial, best loss: -0.49755962665480535]"
     ]
    },
    {
     "name": "stderr",
     "output_type": "stream",
     "text": [
      "/opt/mmayers/software/anaconda3/envs/ml/lib/python3.6/site-packages/sklearn/linear_model/_sag.py:330: ConvergenceWarning: The max_iter was reached which means the coef_ did not converge\n",
      "  \"the coef_ did not converge\", ConvergenceWarning)\n",
      "\n"
     ]
    },
    {
     "name": "stdout",
     "output_type": "stream",
     "text": [
      "[Pipeline] ............. (step 1 of 1) Processing e_net, total= 2.4min                  \n",
      "Mean AUROC: 0.7313                                                                      \n",
      "Mean Avg Pre: 0.2047                                                                    \n",
      "STD AUROC: 0.0541                                                                       \n",
      "STD Avg Pre: 0.0487                                                                     \n",
      "Loss: -0.3994                                                                           \n",
      " 78%|███████▊  | 39/50 [6:31:15<1:44:51, 571.93s/trial, best loss: -0.49755962665480535]"
     ]
    },
    {
     "name": "stderr",
     "output_type": "stream",
     "text": [
      "/opt/mmayers/software/anaconda3/envs/ml/lib/python3.6/site-packages/sklearn/linear_model/_sag.py:330: ConvergenceWarning: The max_iter was reached which means the coef_ did not converge\n",
      "  \"the coef_ did not converge\", ConvergenceWarning)\n",
      "\n"
     ]
    },
    {
     "name": "stdout",
     "output_type": "stream",
     "text": [
      "[Pipeline] ............. (step 1 of 1) Processing e_net, total= 1.4min                  \n",
      " 78%|███████▊  | 39/50 [6:32:41<1:44:51, 571.93s/trial, best loss: -0.49755962665480535]"
     ]
    },
    {
     "name": "stderr",
     "output_type": "stream",
     "text": [
      "/opt/mmayers/software/anaconda3/envs/ml/lib/python3.6/site-packages/sklearn/linear_model/_sag.py:330: ConvergenceWarning: The max_iter was reached which means the coef_ did not converge\n",
      "  \"the coef_ did not converge\", ConvergenceWarning)\n",
      "\n"
     ]
    },
    {
     "name": "stdout",
     "output_type": "stream",
     "text": [
      "[Pipeline] ............. (step 1 of 1) Processing e_net, total= 1.4min                  \n",
      " 78%|███████▊  | 39/50 [6:34:02<1:44:51, 571.93s/trial, best loss: -0.49755962665480535]"
     ]
    },
    {
     "name": "stderr",
     "output_type": "stream",
     "text": [
      "/opt/mmayers/software/anaconda3/envs/ml/lib/python3.6/site-packages/sklearn/linear_model/_sag.py:330: ConvergenceWarning: The max_iter was reached which means the coef_ did not converge\n",
      "  \"the coef_ did not converge\", ConvergenceWarning)\n",
      "\n"
     ]
    },
    {
     "name": "stdout",
     "output_type": "stream",
     "text": [
      "[Pipeline] ............. (step 1 of 1) Processing e_net, total= 1.4min                  \n",
      " 78%|███████▊  | 39/50 [6:35:26<1:44:51, 571.93s/trial, best loss: -0.49755962665480535]"
     ]
    },
    {
     "name": "stderr",
     "output_type": "stream",
     "text": [
      "/opt/mmayers/software/anaconda3/envs/ml/lib/python3.6/site-packages/sklearn/linear_model/_sag.py:330: ConvergenceWarning: The max_iter was reached which means the coef_ did not converge\n",
      "  \"the coef_ did not converge\", ConvergenceWarning)\n",
      "\n"
     ]
    },
    {
     "name": "stdout",
     "output_type": "stream",
     "text": [
      "[Pipeline] ............. (step 1 of 1) Processing e_net, total= 1.5min                  \n",
      " 78%|███████▊  | 39/50 [6:36:54<1:44:51, 571.93s/trial, best loss: -0.49755962665480535]"
     ]
    },
    {
     "name": "stderr",
     "output_type": "stream",
     "text": [
      "/opt/mmayers/software/anaconda3/envs/ml/lib/python3.6/site-packages/sklearn/linear_model/_sag.py:330: ConvergenceWarning: The max_iter was reached which means the coef_ did not converge\n",
      "  \"the coef_ did not converge\", ConvergenceWarning)\n",
      "\n"
     ]
    },
    {
     "name": "stdout",
     "output_type": "stream",
     "text": [
      "[Pipeline] ............. (step 1 of 1) Processing e_net, total= 1.4min                  \n",
      "Mean AUROC: 0.8006                                                                      \n",
      "Mean Avg Pre: 0.2366                                                                    \n",
      "STD AUROC: 0.0402                                                                       \n",
      "STD Avg Pre: 0.0640                                                                     \n",
      "Loss: -0.4966                                                                           \n",
      " 80%|████████  | 40/50 [6:38:21<1:28:02, 528.29s/trial, best loss: -0.49755962665480535]"
     ]
    },
    {
     "name": "stderr",
     "output_type": "stream",
     "text": [
      "/opt/mmayers/software/anaconda3/envs/ml/lib/python3.6/site-packages/sklearn/linear_model/_sag.py:330: ConvergenceWarning: The max_iter was reached which means the coef_ did not converge\n",
      "  \"the coef_ did not converge\", ConvergenceWarning)\n",
      "\n"
     ]
    },
    {
     "name": "stdout",
     "output_type": "stream",
     "text": [
      "[Pipeline] ............. (step 1 of 1) Processing e_net, total= 1.6min                  \n",
      " 80%|████████  | 40/50 [6:39:59<1:28:02, 528.29s/trial, best loss: -0.49755962665480535]"
     ]
    },
    {
     "name": "stderr",
     "output_type": "stream",
     "text": [
      "/opt/mmayers/software/anaconda3/envs/ml/lib/python3.6/site-packages/sklearn/linear_model/_sag.py:330: ConvergenceWarning: The max_iter was reached which means the coef_ did not converge\n",
      "  \"the coef_ did not converge\", ConvergenceWarning)\n",
      "\n"
     ]
    },
    {
     "name": "stdout",
     "output_type": "stream",
     "text": [
      "[Pipeline] ............. (step 1 of 1) Processing e_net, total= 1.6min                  \n",
      " 80%|████████  | 40/50 [6:41:36<1:28:02, 528.29s/trial, best loss: -0.49755962665480535]"
     ]
    },
    {
     "name": "stderr",
     "output_type": "stream",
     "text": [
      "/opt/mmayers/software/anaconda3/envs/ml/lib/python3.6/site-packages/sklearn/linear_model/_sag.py:330: ConvergenceWarning: The max_iter was reached which means the coef_ did not converge\n",
      "  \"the coef_ did not converge\", ConvergenceWarning)\n",
      "\n"
     ]
    },
    {
     "name": "stdout",
     "output_type": "stream",
     "text": [
      "[Pipeline] ............. (step 1 of 1) Processing e_net, total= 1.6min                  \n",
      " 80%|████████  | 40/50 [6:43:12<1:28:02, 528.29s/trial, best loss: -0.49755962665480535]"
     ]
    },
    {
     "name": "stderr",
     "output_type": "stream",
     "text": [
      "/opt/mmayers/software/anaconda3/envs/ml/lib/python3.6/site-packages/sklearn/linear_model/_sag.py:330: ConvergenceWarning: The max_iter was reached which means the coef_ did not converge\n",
      "  \"the coef_ did not converge\", ConvergenceWarning)\n",
      "\n"
     ]
    },
    {
     "name": "stdout",
     "output_type": "stream",
     "text": [
      "[Pipeline] ............. (step 1 of 1) Processing e_net, total= 1.6min                  \n",
      " 80%|████████  | 40/50 [6:44:51<1:28:02, 528.29s/trial, best loss: -0.49755962665480535]"
     ]
    },
    {
     "name": "stderr",
     "output_type": "stream",
     "text": [
      "/opt/mmayers/software/anaconda3/envs/ml/lib/python3.6/site-packages/sklearn/linear_model/_sag.py:330: ConvergenceWarning: The max_iter was reached which means the coef_ did not converge\n",
      "  \"the coef_ did not converge\", ConvergenceWarning)\n",
      "\n"
     ]
    },
    {
     "name": "stdout",
     "output_type": "stream",
     "text": [
      "[Pipeline] ............. (step 1 of 1) Processing e_net, total= 1.6min                  \n",
      "Mean AUROC: 0.7611                                                                      \n",
      "Mean Avg Pre: 0.2249                                                                    \n",
      "STD AUROC: 0.0519                                                                       \n",
      "STD Avg Pre: 0.0565                                                                     \n",
      "Loss: -0.4501                                                                           \n",
      " 82%|████████▏ | 41/50 [6:46:28<1:17:22, 515.86s/trial, best loss: -0.49755962665480535]"
     ]
    },
    {
     "name": "stderr",
     "output_type": "stream",
     "text": [
      "/opt/mmayers/software/anaconda3/envs/ml/lib/python3.6/site-packages/sklearn/linear_model/_sag.py:330: ConvergenceWarning: The max_iter was reached which means the coef_ did not converge\n",
      "  \"the coef_ did not converge\", ConvergenceWarning)\n",
      "\n"
     ]
    },
    {
     "name": "stdout",
     "output_type": "stream",
     "text": [
      "[Pipeline] ............. (step 1 of 1) Processing e_net, total= 1.4min                  \n",
      " 82%|████████▏ | 41/50 [6:47:54<1:17:22, 515.86s/trial, best loss: -0.49755962665480535]"
     ]
    },
    {
     "name": "stderr",
     "output_type": "stream",
     "text": [
      "/opt/mmayers/software/anaconda3/envs/ml/lib/python3.6/site-packages/sklearn/linear_model/_sag.py:330: ConvergenceWarning: The max_iter was reached which means the coef_ did not converge\n",
      "  \"the coef_ did not converge\", ConvergenceWarning)\n",
      "\n"
     ]
    },
    {
     "name": "stdout",
     "output_type": "stream",
     "text": [
      "[Pipeline] ............. (step 1 of 1) Processing e_net, total= 1.4min                  \n",
      " 82%|████████▏ | 41/50 [6:49:17<1:17:22, 515.86s/trial, best loss: -0.49755962665480535]"
     ]
    },
    {
     "name": "stderr",
     "output_type": "stream",
     "text": [
      "/opt/mmayers/software/anaconda3/envs/ml/lib/python3.6/site-packages/sklearn/linear_model/_sag.py:330: ConvergenceWarning: The max_iter was reached which means the coef_ did not converge\n",
      "  \"the coef_ did not converge\", ConvergenceWarning)\n",
      "\n"
     ]
    },
    {
     "name": "stdout",
     "output_type": "stream",
     "text": [
      "[Pipeline] ............. (step 1 of 1) Processing e_net, total= 1.4min                  \n",
      " 82%|████████▏ | 41/50 [6:50:41<1:17:22, 515.86s/trial, best loss: -0.49755962665480535]"
     ]
    },
    {
     "name": "stderr",
     "output_type": "stream",
     "text": [
      "/opt/mmayers/software/anaconda3/envs/ml/lib/python3.6/site-packages/sklearn/linear_model/_sag.py:330: ConvergenceWarning: The max_iter was reached which means the coef_ did not converge\n",
      "  \"the coef_ did not converge\", ConvergenceWarning)\n",
      "\n"
     ]
    },
    {
     "name": "stdout",
     "output_type": "stream",
     "text": [
      "[Pipeline] ............. (step 1 of 1) Processing e_net, total= 1.5min                  \n",
      " 82%|████████▏ | 41/50 [6:52:09<1:17:22, 515.86s/trial, best loss: -0.49755962665480535]"
     ]
    },
    {
     "name": "stderr",
     "output_type": "stream",
     "text": [
      "/opt/mmayers/software/anaconda3/envs/ml/lib/python3.6/site-packages/sklearn/linear_model/_sag.py:330: ConvergenceWarning: The max_iter was reached which means the coef_ did not converge\n",
      "  \"the coef_ did not converge\", ConvergenceWarning)\n",
      "\n"
     ]
    },
    {
     "name": "stdout",
     "output_type": "stream",
     "text": [
      "[Pipeline] ............. (step 1 of 1) Processing e_net, total= 1.5min                  \n",
      "Mean AUROC: 0.7985                                                                      \n",
      "Mean Avg Pre: 0.2364                                                                    \n",
      "STD AUROC: 0.0409                                                                       \n",
      "STD Avg Pre: 0.0637                                                                     \n",
      "Loss: -0.4948                                                                           \n",
      " 84%|████████▍ | 42/50 [6:53:37<1:05:17, 489.69s/trial, best loss: -0.49755962665480535]"
     ]
    },
    {
     "name": "stderr",
     "output_type": "stream",
     "text": [
      "/opt/mmayers/software/anaconda3/envs/ml/lib/python3.6/site-packages/sklearn/linear_model/_sag.py:330: ConvergenceWarning: The max_iter was reached which means the coef_ did not converge\n",
      "  \"the coef_ did not converge\", ConvergenceWarning)\n",
      "\n"
     ]
    },
    {
     "name": "stdout",
     "output_type": "stream",
     "text": [
      "[Pipeline] ............. (step 1 of 1) Processing e_net, total= 2.5min                  \n",
      " 84%|████████▍ | 42/50 [6:56:11<1:05:17, 489.69s/trial, best loss: -0.49755962665480535]"
     ]
    },
    {
     "name": "stderr",
     "output_type": "stream",
     "text": [
      "/opt/mmayers/software/anaconda3/envs/ml/lib/python3.6/site-packages/sklearn/linear_model/_sag.py:330: ConvergenceWarning: The max_iter was reached which means the coef_ did not converge\n",
      "  \"the coef_ did not converge\", ConvergenceWarning)\n",
      "\n"
     ]
    },
    {
     "name": "stdout",
     "output_type": "stream",
     "text": [
      "[Pipeline] ............. (step 1 of 1) Processing e_net, total= 2.6min                  \n",
      " 84%|████████▍ | 42/50 [6:58:45<1:05:17, 489.69s/trial, best loss: -0.49755962665480535]"
     ]
    },
    {
     "name": "stderr",
     "output_type": "stream",
     "text": [
      "/opt/mmayers/software/anaconda3/envs/ml/lib/python3.6/site-packages/sklearn/linear_model/_sag.py:330: ConvergenceWarning: The max_iter was reached which means the coef_ did not converge\n",
      "  \"the coef_ did not converge\", ConvergenceWarning)\n",
      "\n"
     ]
    },
    {
     "name": "stdout",
     "output_type": "stream",
     "text": [
      "[Pipeline] ............. (step 1 of 1) Processing e_net, total= 2.5min                  \n",
      " 84%|████████▍ | 42/50 [7:01:17<1:05:17, 489.69s/trial, best loss: -0.49755962665480535]"
     ]
    },
    {
     "name": "stderr",
     "output_type": "stream",
     "text": [
      "/opt/mmayers/software/anaconda3/envs/ml/lib/python3.6/site-packages/sklearn/linear_model/_sag.py:330: ConvergenceWarning: The max_iter was reached which means the coef_ did not converge\n",
      "  \"the coef_ did not converge\", ConvergenceWarning)\n",
      "\n"
     ]
    },
    {
     "name": "stdout",
     "output_type": "stream",
     "text": [
      "[Pipeline] ............. (step 1 of 1) Processing e_net, total= 2.6min                  \n",
      " 84%|████████▍ | 42/50 [7:03:52<1:05:17, 489.69s/trial, best loss: -0.49755962665480535]"
     ]
    },
    {
     "name": "stderr",
     "output_type": "stream",
     "text": [
      "/opt/mmayers/software/anaconda3/envs/ml/lib/python3.6/site-packages/sklearn/linear_model/_sag.py:330: ConvergenceWarning: The max_iter was reached which means the coef_ did not converge\n",
      "  \"the coef_ did not converge\", ConvergenceWarning)\n",
      "\n"
     ]
    },
    {
     "name": "stdout",
     "output_type": "stream",
     "text": [
      "[Pipeline] ............. (step 1 of 1) Processing e_net, total= 2.5min                  \n",
      "Mean AUROC: 0.7278                                                                      \n",
      "Mean Avg Pre: 0.1999                                                                    \n",
      "STD AUROC: 0.0541                                                                       \n",
      "STD Avg Pre: 0.0469                                                                     \n",
      "Loss: -0.3899                                                                           \n",
      " 86%|████████▌ | 43/50 [7:06:23<1:06:48, 572.60s/trial, best loss: -0.49755962665480535]"
     ]
    },
    {
     "name": "stderr",
     "output_type": "stream",
     "text": [
      "/opt/mmayers/software/anaconda3/envs/ml/lib/python3.6/site-packages/sklearn/linear_model/_sag.py:330: ConvergenceWarning: The max_iter was reached which means the coef_ did not converge\n",
      "  \"the coef_ did not converge\", ConvergenceWarning)\n",
      "\n"
     ]
    },
    {
     "name": "stdout",
     "output_type": "stream",
     "text": [
      "[Pipeline] ............. (step 1 of 1) Processing e_net, total= 2.1min                  \n",
      " 86%|████████▌ | 43/50 [7:08:31<1:06:48, 572.60s/trial, best loss: -0.49755962665480535]"
     ]
    },
    {
     "name": "stderr",
     "output_type": "stream",
     "text": [
      "/opt/mmayers/software/anaconda3/envs/ml/lib/python3.6/site-packages/sklearn/linear_model/_sag.py:330: ConvergenceWarning: The max_iter was reached which means the coef_ did not converge\n",
      "  \"the coef_ did not converge\", ConvergenceWarning)\n",
      "\n"
     ]
    },
    {
     "name": "stdout",
     "output_type": "stream",
     "text": [
      "[Pipeline] ............. (step 1 of 1) Processing e_net, total= 2.1min                  \n",
      " 86%|████████▌ | 43/50 [7:10:35<1:06:48, 572.60s/trial, best loss: -0.49755962665480535]"
     ]
    },
    {
     "name": "stderr",
     "output_type": "stream",
     "text": [
      "/opt/mmayers/software/anaconda3/envs/ml/lib/python3.6/site-packages/sklearn/linear_model/_sag.py:330: ConvergenceWarning: The max_iter was reached which means the coef_ did not converge\n",
      "  \"the coef_ did not converge\", ConvergenceWarning)\n",
      "\n"
     ]
    },
    {
     "name": "stdout",
     "output_type": "stream",
     "text": [
      "[Pipeline] ............. (step 1 of 1) Processing e_net, total= 2.1min                  \n",
      " 86%|████████▌ | 43/50 [7:12:41<1:06:48, 572.60s/trial, best loss: -0.49755962665480535]"
     ]
    },
    {
     "name": "stderr",
     "output_type": "stream",
     "text": [
      "/opt/mmayers/software/anaconda3/envs/ml/lib/python3.6/site-packages/sklearn/linear_model/_sag.py:330: ConvergenceWarning: The max_iter was reached which means the coef_ did not converge\n",
      "  \"the coef_ did not converge\", ConvergenceWarning)\n",
      "\n"
     ]
    },
    {
     "name": "stdout",
     "output_type": "stream",
     "text": [
      "[Pipeline] ............. (step 1 of 1) Processing e_net, total= 2.2min                  \n",
      " 86%|████████▌ | 43/50 [7:14:52<1:06:48, 572.60s/trial, best loss: -0.49755962665480535]"
     ]
    },
    {
     "name": "stderr",
     "output_type": "stream",
     "text": [
      "/opt/mmayers/software/anaconda3/envs/ml/lib/python3.6/site-packages/sklearn/linear_model/_sag.py:330: ConvergenceWarning: The max_iter was reached which means the coef_ did not converge\n",
      "  \"the coef_ did not converge\", ConvergenceWarning)\n",
      "\n"
     ]
    },
    {
     "name": "stdout",
     "output_type": "stream",
     "text": [
      "[Pipeline] ............. (step 1 of 1) Processing e_net, total= 2.1min                  \n",
      "Mean AUROC: 0.7292                                                                      \n",
      "Mean Avg Pre: 0.2009                                                                    \n",
      "STD AUROC: 0.0540                                                                       \n",
      "STD Avg Pre: 0.0472                                                                     \n",
      "Loss: -0.3925                                                                           \n",
      " 88%|████████▊ | 44/50 [7:16:56<59:05, 590.89s/trial, best loss: -0.49755962665480535]  "
     ]
    },
    {
     "name": "stderr",
     "output_type": "stream",
     "text": [
      "/opt/mmayers/software/anaconda3/envs/ml/lib/python3.6/site-packages/sklearn/linear_model/_sag.py:330: ConvergenceWarning: The max_iter was reached which means the coef_ did not converge\n",
      "  \"the coef_ did not converge\", ConvergenceWarning)\n",
      "\n"
     ]
    },
    {
     "name": "stdout",
     "output_type": "stream",
     "text": [
      "[Pipeline] ............. (step 1 of 1) Processing e_net, total= 2.3min                \n",
      " 88%|████████▊ | 44/50 [7:19:17<59:05, 590.89s/trial, best loss: -0.49755962665480535]"
     ]
    },
    {
     "name": "stderr",
     "output_type": "stream",
     "text": [
      "/opt/mmayers/software/anaconda3/envs/ml/lib/python3.6/site-packages/sklearn/linear_model/_sag.py:330: ConvergenceWarning: The max_iter was reached which means the coef_ did not converge\n",
      "  \"the coef_ did not converge\", ConvergenceWarning)\n",
      "\n"
     ]
    },
    {
     "name": "stdout",
     "output_type": "stream",
     "text": [
      "[Pipeline] ............. (step 1 of 1) Processing e_net, total= 2.3min                \n",
      " 88%|████████▊ | 44/50 [7:21:34<59:05, 590.89s/trial, best loss: -0.49755962665480535]"
     ]
    },
    {
     "name": "stderr",
     "output_type": "stream",
     "text": [
      "/opt/mmayers/software/anaconda3/envs/ml/lib/python3.6/site-packages/sklearn/linear_model/_sag.py:330: ConvergenceWarning: The max_iter was reached which means the coef_ did not converge\n",
      "  \"the coef_ did not converge\", ConvergenceWarning)\n",
      "\n"
     ]
    },
    {
     "name": "stdout",
     "output_type": "stream",
     "text": [
      "[Pipeline] ............. (step 1 of 1) Processing e_net, total= 2.4min                \n",
      " 88%|████████▊ | 44/50 [7:23:56<59:05, 590.89s/trial, best loss: -0.49755962665480535]"
     ]
    },
    {
     "name": "stderr",
     "output_type": "stream",
     "text": [
      "/opt/mmayers/software/anaconda3/envs/ml/lib/python3.6/site-packages/sklearn/linear_model/_sag.py:330: ConvergenceWarning: The max_iter was reached which means the coef_ did not converge\n",
      "  \"the coef_ did not converge\", ConvergenceWarning)\n",
      "\n"
     ]
    },
    {
     "name": "stdout",
     "output_type": "stream",
     "text": [
      "[Pipeline] ............. (step 1 of 1) Processing e_net, total= 2.4min                \n",
      " 88%|████████▊ | 44/50 [7:26:21<59:05, 590.89s/trial, best loss: -0.49755962665480535]"
     ]
    },
    {
     "name": "stderr",
     "output_type": "stream",
     "text": [
      "/opt/mmayers/software/anaconda3/envs/ml/lib/python3.6/site-packages/sklearn/linear_model/_sag.py:330: ConvergenceWarning: The max_iter was reached which means the coef_ did not converge\n",
      "  \"the coef_ did not converge\", ConvergenceWarning)\n",
      "\n"
     ]
    },
    {
     "name": "stdout",
     "output_type": "stream",
     "text": [
      "[Pipeline] ............. (step 1 of 1) Processing e_net, total= 2.4min                \n",
      "Mean AUROC: 0.7281                                                                    \n",
      "Mean Avg Pre: 0.2054                                                                  \n",
      "STD AUROC: 0.0545                                                                     \n",
      "STD Avg Pre: 0.0503                                                                   \n",
      "Loss: -0.3977                                                                         \n",
      " 90%|█████████ | 45/50 [7:28:42<52:07, 625.42s/trial, best loss: -0.49755962665480535]"
     ]
    },
    {
     "name": "stderr",
     "output_type": "stream",
     "text": [
      "/opt/mmayers/software/anaconda3/envs/ml/lib/python3.6/site-packages/sklearn/linear_model/_sag.py:330: ConvergenceWarning: The max_iter was reached which means the coef_ did not converge\n",
      "  \"the coef_ did not converge\", ConvergenceWarning)\n",
      "\n"
     ]
    },
    {
     "name": "stdout",
     "output_type": "stream",
     "text": [
      "[Pipeline] ............. (step 1 of 1) Processing e_net, total= 2.6min                \n",
      " 90%|█████████ | 45/50 [7:31:20<52:07, 625.42s/trial, best loss: -0.49755962665480535]"
     ]
    },
    {
     "name": "stderr",
     "output_type": "stream",
     "text": [
      "/opt/mmayers/software/anaconda3/envs/ml/lib/python3.6/site-packages/sklearn/linear_model/_sag.py:330: ConvergenceWarning: The max_iter was reached which means the coef_ did not converge\n",
      "  \"the coef_ did not converge\", ConvergenceWarning)\n",
      "\n"
     ]
    },
    {
     "name": "stdout",
     "output_type": "stream",
     "text": [
      "[Pipeline] ............. (step 1 of 1) Processing e_net, total= 2.5min                \n",
      " 90%|█████████ | 45/50 [7:33:50<52:07, 625.42s/trial, best loss: -0.49755962665480535]"
     ]
    },
    {
     "name": "stderr",
     "output_type": "stream",
     "text": [
      "/opt/mmayers/software/anaconda3/envs/ml/lib/python3.6/site-packages/sklearn/linear_model/_sag.py:330: ConvergenceWarning: The max_iter was reached which means the coef_ did not converge\n",
      "  \"the coef_ did not converge\", ConvergenceWarning)\n",
      "\n"
     ]
    },
    {
     "name": "stdout",
     "output_type": "stream",
     "text": [
      "[Pipeline] ............. (step 1 of 1) Processing e_net, total= 2.6min                \n",
      " 90%|█████████ | 45/50 [7:36:28<52:07, 625.42s/trial, best loss: -0.49755962665480535]"
     ]
    },
    {
     "name": "stderr",
     "output_type": "stream",
     "text": [
      "/opt/mmayers/software/anaconda3/envs/ml/lib/python3.6/site-packages/sklearn/linear_model/_sag.py:330: ConvergenceWarning: The max_iter was reached which means the coef_ did not converge\n",
      "  \"the coef_ did not converge\", ConvergenceWarning)\n",
      "\n"
     ]
    },
    {
     "name": "stdout",
     "output_type": "stream",
     "text": [
      "[Pipeline] ............. (step 1 of 1) Processing e_net, total= 2.6min                \n",
      " 90%|█████████ | 45/50 [7:39:06<52:07, 625.42s/trial, best loss: -0.49755962665480535]"
     ]
    },
    {
     "name": "stderr",
     "output_type": "stream",
     "text": [
      "/opt/mmayers/software/anaconda3/envs/ml/lib/python3.6/site-packages/sklearn/linear_model/_sag.py:330: ConvergenceWarning: The max_iter was reached which means the coef_ did not converge\n",
      "  \"the coef_ did not converge\", ConvergenceWarning)\n",
      "\n"
     ]
    },
    {
     "name": "stdout",
     "output_type": "stream",
     "text": [
      "[Pipeline] ............. (step 1 of 1) Processing e_net, total= 2.6min                \n",
      "Mean AUROC: 0.7262                                                                    \n",
      "Mean Avg Pre: 0.1973                                                                  \n",
      "STD AUROC: 0.0540                                                                     \n",
      "STD Avg Pre: 0.0460                                                                   \n",
      "Loss: -0.3848                                                                         \n",
      " 92%|█████████▏| 46/50 [7:41:43<44:48, 672.06s/trial, best loss: -0.49755962665480535]"
     ]
    },
    {
     "name": "stderr",
     "output_type": "stream",
     "text": [
      "/opt/mmayers/software/anaconda3/envs/ml/lib/python3.6/site-packages/sklearn/linear_model/_sag.py:330: ConvergenceWarning: The max_iter was reached which means the coef_ did not converge\n",
      "  \"the coef_ did not converge\", ConvergenceWarning)\n",
      "\n"
     ]
    },
    {
     "name": "stdout",
     "output_type": "stream",
     "text": [
      "[Pipeline] ............. (step 1 of 1) Processing e_net, total= 2.8min                \n",
      " 92%|█████████▏| 46/50 [7:44:33<44:48, 672.06s/trial, best loss: -0.49755962665480535]"
     ]
    },
    {
     "name": "stderr",
     "output_type": "stream",
     "text": [
      "/opt/mmayers/software/anaconda3/envs/ml/lib/python3.6/site-packages/sklearn/linear_model/_sag.py:330: ConvergenceWarning: The max_iter was reached which means the coef_ did not converge\n",
      "  \"the coef_ did not converge\", ConvergenceWarning)\n",
      "\n"
     ]
    },
    {
     "name": "stdout",
     "output_type": "stream",
     "text": [
      "[Pipeline] ............. (step 1 of 1) Processing e_net, total= 2.8min                \n",
      " 92%|█████████▏| 46/50 [7:47:19<44:48, 672.06s/trial, best loss: -0.49755962665480535]"
     ]
    },
    {
     "name": "stderr",
     "output_type": "stream",
     "text": [
      "/opt/mmayers/software/anaconda3/envs/ml/lib/python3.6/site-packages/sklearn/linear_model/_sag.py:330: ConvergenceWarning: The max_iter was reached which means the coef_ did not converge\n",
      "  \"the coef_ did not converge\", ConvergenceWarning)\n",
      "\n"
     ]
    },
    {
     "name": "stdout",
     "output_type": "stream",
     "text": [
      "[Pipeline] ............. (step 1 of 1) Processing e_net, total= 2.8min                \n",
      " 92%|█████████▏| 46/50 [7:50:05<44:48, 672.06s/trial, best loss: -0.49755962665480535]"
     ]
    },
    {
     "name": "stderr",
     "output_type": "stream",
     "text": [
      "/opt/mmayers/software/anaconda3/envs/ml/lib/python3.6/site-packages/sklearn/linear_model/_sag.py:330: ConvergenceWarning: The max_iter was reached which means the coef_ did not converge\n",
      "  \"the coef_ did not converge\", ConvergenceWarning)\n",
      "\n"
     ]
    },
    {
     "name": "stdout",
     "output_type": "stream",
     "text": [
      "[Pipeline] ............. (step 1 of 1) Processing e_net, total= 2.8min                \n",
      " 92%|█████████▏| 46/50 [7:52:53<44:48, 672.06s/trial, best loss: -0.49755962665480535]"
     ]
    },
    {
     "name": "stderr",
     "output_type": "stream",
     "text": [
      "/opt/mmayers/software/anaconda3/envs/ml/lib/python3.6/site-packages/sklearn/linear_model/_sag.py:330: ConvergenceWarning: The max_iter was reached which means the coef_ did not converge\n",
      "  \"the coef_ did not converge\", ConvergenceWarning)\n",
      "\n"
     ]
    },
    {
     "name": "stdout",
     "output_type": "stream",
     "text": [
      "[Pipeline] ............. (step 1 of 1) Processing e_net, total= 2.8min                \n",
      "Mean AUROC: 0.7260                                                                    \n",
      "Mean Avg Pre: 0.1985                                                                  \n",
      "STD AUROC: 0.0541                                                                     \n",
      "STD Avg Pre: 0.0465                                                                   \n",
      "Loss: -0.3865                                                                         \n",
      " 94%|█████████▍| 47/50 [7:55:39<36:03, 721.13s/trial, best loss: -0.49755962665480535]"
     ]
    },
    {
     "name": "stderr",
     "output_type": "stream",
     "text": [
      "/opt/mmayers/software/anaconda3/envs/ml/lib/python3.6/site-packages/sklearn/linear_model/_sag.py:330: ConvergenceWarning: The max_iter was reached which means the coef_ did not converge\n",
      "  \"the coef_ did not converge\", ConvergenceWarning)\n",
      "\n"
     ]
    },
    {
     "name": "stdout",
     "output_type": "stream",
     "text": [
      "[Pipeline] ............. (step 1 of 1) Processing e_net, total= 2.2min                \n",
      " 94%|█████████▍| 47/50 [7:57:57<36:03, 721.13s/trial, best loss: -0.49755962665480535]"
     ]
    },
    {
     "name": "stderr",
     "output_type": "stream",
     "text": [
      "/opt/mmayers/software/anaconda3/envs/ml/lib/python3.6/site-packages/sklearn/linear_model/_sag.py:330: ConvergenceWarning: The max_iter was reached which means the coef_ did not converge\n",
      "  \"the coef_ did not converge\", ConvergenceWarning)\n",
      "\n"
     ]
    },
    {
     "name": "stdout",
     "output_type": "stream",
     "text": [
      "[Pipeline] ............. (step 1 of 1) Processing e_net, total= 2.3min                \n",
      " 94%|█████████▍| 47/50 [8:00:14<36:03, 721.13s/trial, best loss: -0.49755962665480535]"
     ]
    },
    {
     "name": "stderr",
     "output_type": "stream",
     "text": [
      "/opt/mmayers/software/anaconda3/envs/ml/lib/python3.6/site-packages/sklearn/linear_model/_sag.py:330: ConvergenceWarning: The max_iter was reached which means the coef_ did not converge\n",
      "  \"the coef_ did not converge\", ConvergenceWarning)\n",
      "\n"
     ]
    },
    {
     "name": "stdout",
     "output_type": "stream",
     "text": [
      "[Pipeline] ............. (step 1 of 1) Processing e_net, total= 2.3min                \n",
      " 94%|█████████▍| 47/50 [8:02:32<36:03, 721.13s/trial, best loss: -0.49755962665480535]"
     ]
    },
    {
     "name": "stderr",
     "output_type": "stream",
     "text": [
      "/opt/mmayers/software/anaconda3/envs/ml/lib/python3.6/site-packages/sklearn/linear_model/_sag.py:330: ConvergenceWarning: The max_iter was reached which means the coef_ did not converge\n",
      "  \"the coef_ did not converge\", ConvergenceWarning)\n",
      "\n"
     ]
    },
    {
     "name": "stdout",
     "output_type": "stream",
     "text": [
      "[Pipeline] ............. (step 1 of 1) Processing e_net, total= 2.3min                \n",
      " 94%|█████████▍| 47/50 [8:04:51<36:03, 721.13s/trial, best loss: -0.49755962665480535]"
     ]
    },
    {
     "name": "stderr",
     "output_type": "stream",
     "text": [
      "/opt/mmayers/software/anaconda3/envs/ml/lib/python3.6/site-packages/sklearn/linear_model/_sag.py:330: ConvergenceWarning: The max_iter was reached which means the coef_ did not converge\n",
      "  \"the coef_ did not converge\", ConvergenceWarning)\n",
      "\n"
     ]
    },
    {
     "name": "stdout",
     "output_type": "stream",
     "text": [
      "[Pipeline] ............. (step 1 of 1) Processing e_net, total= 2.3min                \n",
      "Mean AUROC: 0.7349                                                                    \n",
      "Mean Avg Pre: 0.2079                                                                  \n",
      "STD AUROC: 0.0540                                                                     \n",
      "STD Avg Pre: 0.0497                                                                   \n",
      "Loss: -0.4068                                                                         \n",
      " 96%|█████████▌| 48/50 [8:07:08<23:42, 711.45s/trial, best loss: -0.49755962665480535]"
     ]
    },
    {
     "name": "stderr",
     "output_type": "stream",
     "text": [
      "/opt/mmayers/software/anaconda3/envs/ml/lib/python3.6/site-packages/sklearn/linear_model/_sag.py:330: ConvergenceWarning: The max_iter was reached which means the coef_ did not converge\n",
      "  \"the coef_ did not converge\", ConvergenceWarning)\n",
      "\n"
     ]
    },
    {
     "name": "stdout",
     "output_type": "stream",
     "text": [
      "[Pipeline] ............. (step 1 of 1) Processing e_net, total= 2.3min                \n",
      " 96%|█████████▌| 48/50 [8:09:31<23:42, 711.45s/trial, best loss: -0.49755962665480535]"
     ]
    },
    {
     "name": "stderr",
     "output_type": "stream",
     "text": [
      "/opt/mmayers/software/anaconda3/envs/ml/lib/python3.6/site-packages/sklearn/linear_model/_sag.py:330: ConvergenceWarning: The max_iter was reached which means the coef_ did not converge\n",
      "  \"the coef_ did not converge\", ConvergenceWarning)\n",
      "\n"
     ]
    },
    {
     "name": "stdout",
     "output_type": "stream",
     "text": [
      "[Pipeline] ............. (step 1 of 1) Processing e_net, total= 2.3min                \n",
      " 96%|█████████▌| 48/50 [8:11:50<23:42, 711.45s/trial, best loss: -0.49755962665480535]"
     ]
    },
    {
     "name": "stderr",
     "output_type": "stream",
     "text": [
      "/opt/mmayers/software/anaconda3/envs/ml/lib/python3.6/site-packages/sklearn/linear_model/_sag.py:330: ConvergenceWarning: The max_iter was reached which means the coef_ did not converge\n",
      "  \"the coef_ did not converge\", ConvergenceWarning)\n",
      "\n"
     ]
    },
    {
     "name": "stdout",
     "output_type": "stream",
     "text": [
      "[Pipeline] ............. (step 1 of 1) Processing e_net, total= 2.4min                \n",
      " 96%|█████████▌| 48/50 [8:14:12<23:42, 711.45s/trial, best loss: -0.49755962665480535]"
     ]
    },
    {
     "name": "stderr",
     "output_type": "stream",
     "text": [
      "/opt/mmayers/software/anaconda3/envs/ml/lib/python3.6/site-packages/sklearn/linear_model/_sag.py:330: ConvergenceWarning: The max_iter was reached which means the coef_ did not converge\n",
      "  \"the coef_ did not converge\", ConvergenceWarning)\n",
      "\n"
     ]
    },
    {
     "name": "stdout",
     "output_type": "stream",
     "text": [
      "[Pipeline] ............. (step 1 of 1) Processing e_net, total= 2.4min                \n",
      " 96%|█████████▌| 48/50 [8:16:38<23:42, 711.45s/trial, best loss: -0.49755962665480535]"
     ]
    },
    {
     "name": "stderr",
     "output_type": "stream",
     "text": [
      "/opt/mmayers/software/anaconda3/envs/ml/lib/python3.6/site-packages/sklearn/linear_model/_sag.py:330: ConvergenceWarning: The max_iter was reached which means the coef_ did not converge\n",
      "  \"the coef_ did not converge\", ConvergenceWarning)\n",
      "\n"
     ]
    },
    {
     "name": "stdout",
     "output_type": "stream",
     "text": [
      "[Pipeline] ............. (step 1 of 1) Processing e_net, total= 2.4min                \n",
      "Mean AUROC: 0.7340                                                                    \n",
      "Mean Avg Pre: 0.2075                                                                  \n",
      "STD AUROC: 0.0541                                                                     \n",
      "STD Avg Pre: 0.0497                                                                   \n",
      "Loss: -0.4055                                                                         \n",
      " 98%|█████████▊| 49/50 [8:19:00<11:51, 711.63s/trial, best loss: -0.49755962665480535]"
     ]
    },
    {
     "name": "stderr",
     "output_type": "stream",
     "text": [
      "/opt/mmayers/software/anaconda3/envs/ml/lib/python3.6/site-packages/sklearn/linear_model/_sag.py:330: ConvergenceWarning: The max_iter was reached which means the coef_ did not converge\n",
      "  \"the coef_ did not converge\", ConvergenceWarning)\n",
      "\n"
     ]
    },
    {
     "name": "stdout",
     "output_type": "stream",
     "text": [
      "[Pipeline] ............. (step 1 of 1) Processing e_net, total= 1.9min                \n",
      " 98%|█████████▊| 49/50 [8:20:57<11:51, 711.63s/trial, best loss: -0.49755962665480535]"
     ]
    },
    {
     "name": "stderr",
     "output_type": "stream",
     "text": [
      "/opt/mmayers/software/anaconda3/envs/ml/lib/python3.6/site-packages/sklearn/linear_model/_sag.py:330: ConvergenceWarning: The max_iter was reached which means the coef_ did not converge\n",
      "  \"the coef_ did not converge\", ConvergenceWarning)\n",
      "\n"
     ]
    },
    {
     "name": "stdout",
     "output_type": "stream",
     "text": [
      "[Pipeline] ............. (step 1 of 1) Processing e_net, total= 1.9min                \n",
      " 98%|█████████▊| 49/50 [8:22:50<11:51, 711.63s/trial, best loss: -0.49755962665480535]"
     ]
    },
    {
     "name": "stderr",
     "output_type": "stream",
     "text": [
      "/opt/mmayers/software/anaconda3/envs/ml/lib/python3.6/site-packages/sklearn/linear_model/_sag.py:330: ConvergenceWarning: The max_iter was reached which means the coef_ did not converge\n",
      "  \"the coef_ did not converge\", ConvergenceWarning)\n",
      "\n"
     ]
    },
    {
     "name": "stdout",
     "output_type": "stream",
     "text": [
      "[Pipeline] ............. (step 1 of 1) Processing e_net, total= 1.9min                \n",
      " 98%|█████████▊| 49/50 [8:24:47<11:51, 711.63s/trial, best loss: -0.49755962665480535]"
     ]
    },
    {
     "name": "stderr",
     "output_type": "stream",
     "text": [
      "/opt/mmayers/software/anaconda3/envs/ml/lib/python3.6/site-packages/sklearn/linear_model/_sag.py:330: ConvergenceWarning: The max_iter was reached which means the coef_ did not converge\n",
      "  \"the coef_ did not converge\", ConvergenceWarning)\n",
      "\n"
     ]
    },
    {
     "name": "stdout",
     "output_type": "stream",
     "text": [
      "[Pipeline] ............. (step 1 of 1) Processing e_net, total= 2.0min                \n",
      " 98%|█████████▊| 49/50 [8:26:48<11:51, 711.63s/trial, best loss: -0.49755962665480535]"
     ]
    },
    {
     "name": "stderr",
     "output_type": "stream",
     "text": [
      "/opt/mmayers/software/anaconda3/envs/ml/lib/python3.6/site-packages/sklearn/linear_model/_sag.py:330: ConvergenceWarning: The max_iter was reached which means the coef_ did not converge\n",
      "  \"the coef_ did not converge\", ConvergenceWarning)\n",
      "\n"
     ]
    },
    {
     "name": "stdout",
     "output_type": "stream",
     "text": [
      "[Pipeline] ............. (step 1 of 1) Processing e_net, total= 2.0min                \n",
      "Mean AUROC: 0.7512                                                                    \n",
      "Mean Avg Pre: 0.2177                                                                  \n",
      "STD AUROC: 0.0525                                                                     \n",
      "STD Avg Pre: 0.0554                                                                   \n",
      "Loss: -0.4320                                                                         \n",
      "100%|██████████| 50/50 [8:28:47<00:00, 610.56s/trial, best loss: -0.49755962665480535]\n",
      "30527.861714601517\n"
     ]
    },
    {
     "name": "stderr",
     "output_type": "stream",
     "text": [
      "/opt/mmayers/software/anaconda3/envs/ml/lib/python3.6/site-packages/sklearn/linear_model/_sag.py:330: ConvergenceWarning: The max_iter was reached which means the coef_ did not converge\n",
      "  \"the coef_ did not converge\", ConvergenceWarning)\n",
      "\n"
     ]
    }
   ],
   "source": [
    "trials, best_param = hyperopt(param_hyperopt, y[train_index], 50)"
   ]
  },
  {
   "cell_type": "code",
   "execution_count": 45,
   "metadata": {},
   "outputs": [
    {
     "data": {
      "text/plain": [
       "{'C': 0.0014351562349983393, 'l1_ratio': 0.9871439566131671}"
      ]
     },
     "execution_count": 45,
     "metadata": {},
     "output_type": "execute_result"
    }
   ],
   "source": [
    "best_param"
   ]
  },
  {
   "cell_type": "code",
   "execution_count": 46,
   "metadata": {},
   "outputs": [
    {
     "data": {
      "text/plain": [
       "{'state': 2,\n",
       " 'tid': 35,\n",
       " 'spec': None,\n",
       " 'result': {'loss': -0.49755962665480535, 'status': 'ok'},\n",
       " 'misc': {'tid': 35,\n",
       "  'cmd': ('domain_attachment', 'FMinIter_Domain'),\n",
       "  'workdir': None,\n",
       "  'idxs': {'C': [35], 'l1_ratio': [35]},\n",
       "  'vals': {'C': [0.0014351562349983393], 'l1_ratio': [0.9871439566131671]}},\n",
       " 'exp_key': None,\n",
       " 'owner': None,\n",
       " 'version': 0,\n",
       " 'book_time': datetime.datetime(2020, 11, 18, 1, 30, 10, 711000),\n",
       " 'refresh_time': datetime.datetime(2020, 11, 18, 1, 37, 17, 928000)}"
      ]
     },
     "execution_count": 46,
     "metadata": {},
     "output_type": "execute_result"
    }
   ],
   "source": [
    "trials.best_trial"
   ]
  },
  {
   "cell_type": "code",
   "execution_count": 47,
   "metadata": {},
   "outputs": [],
   "source": [
    "best_param['w'] = mg.w"
   ]
  },
  {
   "cell_type": "code",
   "execution_count": 48,
   "metadata": {},
   "outputs": [],
   "source": [
    "utils.save_hyperparam(best_param, fsel.keep_features_, out_dir)"
   ]
  },
  {
   "cell_type": "code",
   "execution_count": null,
   "metadata": {},
   "outputs": [],
   "source": []
  }
 ],
 "metadata": {
  "kernelspec": {
   "display_name": "Python 3",
   "language": "python",
   "name": "python3"
  },
  "language_info": {
   "codemirror_mode": {
    "name": "ipython",
    "version": 3
   },
   "file_extension": ".py",
   "mimetype": "text/x-python",
   "name": "python",
   "nbconvert_exporter": "python",
   "pygments_lexer": "ipython3",
   "version": "3.6.8"
  }
 },
 "nbformat": 4,
 "nbformat_minor": 2
}
