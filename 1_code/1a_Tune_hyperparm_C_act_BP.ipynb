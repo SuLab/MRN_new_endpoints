{
 "cells": [
  {
   "cell_type": "code",
   "execution_count": 1,
   "metadata": {},
   "outputs": [
    {
     "name": "stderr",
     "output_type": "stream",
     "text": [
      "/opt/mmayers/software/anaconda3/envs/ml/lib/python3.6/site-packages/data_tools/df_processing.py:4: TqdmExperimentalWarning: Using `tqdm.autonotebook.tqdm` in notebook mode. Use `tqdm.tqdm` instead to force console mode (e.g. in jupyter console)\n",
      "  from tqdm.autonotebook import tqdm\n"
     ]
    }
   ],
   "source": [
    "import numpy as np\n",
    "import pandas as pd\n",
    "from copy import copy\n",
    "from pathlib import Path\n",
    "from itertools import chain\n",
    "from tqdm.notebook import tqdm\n",
    "\n",
    "import data_tools.graphs as gt\n",
    "from hetnet_ml.extractor import MatrixFormattedGraph, piecewise_extraction"
   ]
  },
  {
   "cell_type": "code",
   "execution_count": 2,
   "metadata": {},
   "outputs": [],
   "source": [
    "import utils"
   ]
  },
  {
   "cell_type": "code",
   "execution_count": 3,
   "metadata": {},
   "outputs": [],
   "source": [
    "param_file = 'CaBP_param.json'\n",
    "param_file = Path('../0_data/manual').resolve().joinpath(param_file)"
   ]
  },
  {
   "cell_type": "code",
   "execution_count": 4,
   "metadata": {},
   "outputs": [],
   "source": [
    "nodes, edges = utils.load_network(param_file)"
   ]
  },
  {
   "cell_type": "code",
   "execution_count": 5,
   "metadata": {},
   "outputs": [],
   "source": [
    "p = utils.read_param_file(param_file)"
   ]
  },
  {
   "cell_type": "code",
   "execution_count": 6,
   "metadata": {},
   "outputs": [],
   "source": [
    "# Hyperparameter tuning is param #2 (network is 1, model trainig is 3)\n",
    "out_dir = utils.read_param_file(param_file)['hyperp_dir']"
   ]
  },
  {
   "cell_type": "code",
   "execution_count": 7,
   "metadata": {},
   "outputs": [
    {
     "data": {
      "text/html": [
       "<div>\n",
       "<style scoped>\n",
       "    .dataframe tbody tr th:only-of-type {\n",
       "        vertical-align: middle;\n",
       "    }\n",
       "\n",
       "    .dataframe tbody tr th {\n",
       "        vertical-align: top;\n",
       "    }\n",
       "\n",
       "    .dataframe thead th {\n",
       "        text-align: right;\n",
       "    }\n",
       "</style>\n",
       "<table border=\"1\" class=\"dataframe\">\n",
       "  <thead>\n",
       "    <tr style=\"text-align: right;\">\n",
       "      <th></th>\n",
       "      <th>id</th>\n",
       "      <th>name</th>\n",
       "      <th>label</th>\n",
       "      <th>xrefs</th>\n",
       "      <th>source</th>\n",
       "      <th>synonyms</th>\n",
       "      <th>alt_ids</th>\n",
       "      <th>subsets</th>\n",
       "    </tr>\n",
       "  </thead>\n",
       "  <tbody>\n",
       "    <tr>\n",
       "      <th>0</th>\n",
       "      <td>UBERON:0000002</td>\n",
       "      <td>cervix</td>\n",
       "      <td>AnatomicalEntity</td>\n",
       "      <td>MESH:D002584|UBERON:0000002</td>\n",
       "      <td>NaN</td>\n",
       "      <td>NaN</td>\n",
       "      <td>NaN</td>\n",
       "      <td>NaN</td>\n",
       "    </tr>\n",
       "    <tr>\n",
       "      <th>1</th>\n",
       "      <td>UBERON:0000004</td>\n",
       "      <td>human nose</td>\n",
       "      <td>AnatomicalEntity</td>\n",
       "      <td>MESH:D009666|UBERON:0000004</td>\n",
       "      <td>NaN</td>\n",
       "      <td>NaN</td>\n",
       "      <td>NaN</td>\n",
       "      <td>NaN</td>\n",
       "    </tr>\n",
       "    <tr>\n",
       "      <th>2</th>\n",
       "      <td>UBERON:0000006</td>\n",
       "      <td>islet of Langerhans</td>\n",
       "      <td>AnatomicalEntity</td>\n",
       "      <td>MESH:D007515|UBERON:0000006</td>\n",
       "      <td>NaN</td>\n",
       "      <td>NaN</td>\n",
       "      <td>NaN</td>\n",
       "      <td>NaN</td>\n",
       "    </tr>\n",
       "    <tr>\n",
       "      <th>3</th>\n",
       "      <td>UBERON:0000007</td>\n",
       "      <td>pituitary gland</td>\n",
       "      <td>AnatomicalEntity</td>\n",
       "      <td>MESH:D010902|UBERON:0000007</td>\n",
       "      <td>NaN</td>\n",
       "      <td>NaN</td>\n",
       "      <td>NaN</td>\n",
       "      <td>NaN</td>\n",
       "    </tr>\n",
       "    <tr>\n",
       "      <th>4</th>\n",
       "      <td>UBERON:0000010</td>\n",
       "      <td>peripheral nervous system</td>\n",
       "      <td>AnatomicalEntity</td>\n",
       "      <td>MESH:D017933|UBERON:0000010</td>\n",
       "      <td>NaN</td>\n",
       "      <td>NaN</td>\n",
       "      <td>NaN</td>\n",
       "      <td>NaN</td>\n",
       "    </tr>\n",
       "  </tbody>\n",
       "</table>\n",
       "</div>"
      ],
      "text/plain": [
       "               id                       name             label  \\\n",
       "0  UBERON:0000002                     cervix  AnatomicalEntity   \n",
       "1  UBERON:0000004                 human nose  AnatomicalEntity   \n",
       "2  UBERON:0000006        islet of Langerhans  AnatomicalEntity   \n",
       "3  UBERON:0000007            pituitary gland  AnatomicalEntity   \n",
       "4  UBERON:0000010  peripheral nervous system  AnatomicalEntity   \n",
       "\n",
       "                         xrefs source synonyms alt_ids subsets  \n",
       "0  MESH:D002584|UBERON:0000002    NaN      NaN     NaN     NaN  \n",
       "1  MESH:D009666|UBERON:0000004    NaN      NaN     NaN     NaN  \n",
       "2  MESH:D007515|UBERON:0000006    NaN      NaN     NaN     NaN  \n",
       "3  MESH:D010902|UBERON:0000007    NaN      NaN     NaN     NaN  \n",
       "4  MESH:D017933|UBERON:0000010    NaN      NaN     NaN     NaN  "
      ]
     },
     "execution_count": 7,
     "metadata": {},
     "output_type": "execute_result"
    }
   ],
   "source": [
    "nodes.head()"
   ]
  },
  {
   "cell_type": "code",
   "execution_count": 8,
   "metadata": {},
   "outputs": [],
   "source": [
    "# load the params from the original model to get the W\n",
    "# Won't be using the old features...\n",
    "params, old_feats = utils.load_hyperparameters()"
   ]
  },
  {
   "cell_type": "code",
   "execution_count": 24,
   "metadata": {},
   "outputs": [],
   "source": [
    "tgt_edge = 'activates_CaBP'\n",
    "tgt_node = \"BiologicalProcessOrActivity\""
   ]
  },
  {
   "cell_type": "code",
   "execution_count": 6,
   "metadata": {},
   "outputs": [
    {
     "name": "stdout",
     "output_type": "stream",
     "text": [
      "Processing node and edge data...\n",
      "Initializing metagraph...\n",
      "Generating adjacency matrices...\n"
     ]
    },
    {
     "name": "stderr",
     "output_type": "stream",
     "text": [
      "100%|██████████| 68/68 [00:55<00:00,  1.22it/s]\n"
     ]
    },
    {
     "name": "stdout",
     "output_type": "stream",
     "text": [
      "\n",
      "Determining degrees for each node and metaedge\n"
     ]
    },
    {
     "name": "stderr",
     "output_type": "stream",
     "text": [
      "100%|██████████| 68/68 [00:31<00:00,  2.14it/s]\n"
     ]
    },
    {
     "name": "stdout",
     "output_type": "stream",
     "text": [
      "\n",
      "Weighting matrices by degree with dampening factor 0.5665616931869023...\n"
     ]
    },
    {
     "name": "stderr",
     "output_type": "stream",
     "text": [
      "100%|██████████| 68/68 [00:00<00:00, 123.66it/s]\n"
     ]
    }
   ],
   "source": [
    "mg = MatrixFormattedGraph(nodes, edges, 'ChemicalSubstance', tgt_node, \n",
    "                          max_length=4, w=params['w'], n_jobs=30)"
   ]
  },
  {
   "cell_type": "markdown",
   "metadata": {},
   "source": [
    "# Data Transformer\n",
    "\n",
    "We use an inverse hyperbolic sine transformation to transform the features.\n",
    "\n",
    "The transormation is thus:\n",
    "\n",
    "$$sinh^{-1} \\left( \\frac{X_{mp}}{\\sigma_{mp}} \\right)$$\n",
    "\n",
    "where $X_{mp}$ is the column in the dwpc feature matrix $X$ coreesponding to metapath $mp$ and $\\sigma_{mp}$ is the mean of the column."
   ]
  },
  {
   "cell_type": "code",
   "execution_count": 7,
   "metadata": {},
   "outputs": [],
   "source": [
    "from data_tools.ml import MeanScaledArcsinhTransformer, get_model_coefs"
   ]
  },
  {
   "cell_type": "markdown",
   "metadata": {},
   "source": [
    "# Homegrown Feature Selector\n",
    "\n",
    "Runs 6 analysis on the traning data to select features.\n",
    "\n",
    "1. Correlation to the output\n",
    "2. Chi_squared test\n",
    "3. Recurssive Feature Elimantion on a Ridge Regressor\n",
    "4. Embedded Feature Selection from a Lasso Regressor\n",
    "5. Embedded Feature Selection from a Randomn Forest Classifier\n",
    "6. Embedded Feature Selection from a Gradient Boosting Classifier\n",
    "\n",
    "Each analysis will select `num_feats` best features. The selected features will then by chosen via a voting method with `min_selections` out of the 6 elements required to for a feature to be kept. \n",
    "\n",
    "\n",
    "We have also added an option for `always_keep`:  This allows for domain expertise to be factored into the feature selection process.  In our case, we know some metapaths are specifically mechanistic, so we want to include those wherever possible"
   ]
  },
  {
   "cell_type": "code",
   "execution_count": 8,
   "metadata": {},
   "outputs": [],
   "source": [
    "from scipy.sparse import issparse, csc_matrix, csr_matrix\n",
    "\n",
    "from sklearn.pipeline import Pipeline\n",
    "from sklearn.preprocessing import MaxAbsScaler\n",
    "from sklearn.model_selection import cross_validate\n",
    "from sklearn.linear_model import LogisticRegression\n",
    "from sklearn.ensemble import RandomForestClassifier\n",
    "from sklearn.base import BaseEstimator, TransformerMixin\n",
    "from sklearn.feature_selection import SelectKBest, chi2, RFE, SelectFromModel\n",
    "\n",
    "from xgboost import XGBClassifier\n",
    "\n",
    "from hyperopt import fmin, tpe, hp, STATUS_OK, Trials"
   ]
  },
  {
   "cell_type": "code",
   "execution_count": 9,
   "metadata": {},
   "outputs": [],
   "source": [
    "def cor_selector(X, y, feature_names, num_feats):\n",
    "    cor_list = []\n",
    "    # calculate the correlation with y for each feature\n",
    "    for i in range(X.shape[1]):\n",
    "        if issparse(X):\n",
    "            x = X[:, i].A.reshape(len(y))\n",
    "        else:\n",
    "            x = X[:, i]\n",
    "        cor = np.corrcoef(x, y)[0, 1]\n",
    "        cor_list.append(cor)\n",
    "    # replace NaN with 0\n",
    "    cor_list = [0 if np.isnan(i) else i for i in cor_list]\n",
    "    # feature name\n",
    "    cor_feature = np.array(feature_names)[np.argsort(np.abs(cor_list))[-num_feats:].tolist()].tolist()    \n",
    "    # feature selection? 0 for not select, 1 for select\n",
    "    return [True if i in cor_feature else False for i in feature_names]\n",
    "\n",
    "def chi2_selector(X, y, num_feats):\n",
    "    this_selector = SelectKBest(chi2, k=num_feats)\n",
    "    this_selector.fit(X, y)\n",
    "    return this_selector.get_support()\n",
    "\n",
    "def rfe_selector(X, y, num_feats, random_state=None):\n",
    "    this_selector = RFE(estimator=LogisticRegression(C=.1, solver='liblinear', random_state=random_state), \n",
    "                        n_features_to_select=num_feats, step=.2, verbose=5)\n",
    "    this_selector.fit(X, y)\n",
    "    return this_selector.get_support()\n",
    "\n",
    "def embeded_lr_selector(X, y, num_feats, random_state=None):\n",
    "    this_selector = SelectFromModel(LogisticRegression(penalty=\"l1\", solver='liblinear', random_state=random_state), \n",
    "                                    max_features=num_feats)\n",
    "    this_selector.fit(X, y)\n",
    "\n",
    "    return this_selector.get_support()\n",
    "\n",
    "def embeded_rf_selector(X, y, num_feats, n_jobs, random_state=None):\n",
    "    rfc = RandomForestClassifier(n_estimators=100, max_depth=50, n_jobs=n_jobs, random_state=random_state)\n",
    "    this_selector = SelectFromModel(rfc, max_features=num_feats)\n",
    "    this_selector.fit(X, y)\n",
    "    return this_selector.get_support()\n",
    "\n",
    "def embeded_xgb_selector(X, y, num_feats, n_jobs=1, random_state=None):\n",
    "    # XGBoost takes 0 as default random state\n",
    "    if random_state is None:\n",
    "        random_state = 0\n",
    "    # Paramaters optimized for speed, rather than accuracy (as we have 5 other estimators also providing votes)\n",
    "    xgbc = XGBClassifier(max_depth=5, n_estimators=200, learning_rate=.16, min_child_weight=1, colsample_bytree=.8,\n",
    "                         n_jobs=n_jobs, random_state=random_state)\n",
    "    this_selector = SelectFromModel(xgbc, max_features=num_feats)\n",
    "    this_selector.fit(X, y)\n",
    "    return this_selector.get_support()\n",
    "\n",
    "\n",
    "class FeatureSelector(BaseEstimator, TransformerMixin):\n",
    "    \n",
    "    def __init__(self, num_features=100, min_selections=4, n_jobs=1, feature_names=None, always_keep=None,\n",
    "                 random_state=None):\n",
    "        self.num_features = num_features\n",
    "        self.min_selections = min_selections\n",
    "        self.n_jobs = n_jobs\n",
    "        self.feature_names = feature_names\n",
    "        self.always_keep = always_keep\n",
    "        self.random_state = random_state\n",
    "        \n",
    "    def fit(self, X, y=None):\n",
    "                \n",
    "        X_norm = MaxAbsScaler().fit_transform(X)\n",
    "        if issparse(X):\n",
    "            if type(X) != csc_matrix:\n",
    "                X = X.tocsc()\n",
    "            X_norm = X_norm.tocsc()\n",
    "        \n",
    "        print('Running Cor')\n",
    "        cor_support = cor_selector(X, y, self.feature_names, self.num_features)\n",
    "        print('Running Chi2')\n",
    "        chi_support = chi2_selector(X_norm, y, self.num_features)\n",
    "        print('Running RFE')\n",
    "        rfe_support = rfe_selector(X_norm, y, self.num_features, self.random_state)\n",
    "        print('Running LR')\n",
    "        embeded_lr_support = embeded_lr_selector(X_norm, y, self.num_features, self.random_state)\n",
    "        print('Running RF')\n",
    "        embeded_rf_support = embeded_rf_selector(X, y, self.num_features, \n",
    "                                                 n_jobs=self.n_jobs, random_state=self.random_state)\n",
    "        print('Running XG')\n",
    "        embeded_xgb_support = embeded_xgb_selector(X, y, self.num_features, \n",
    "                                                   n_jobs=self.n_jobs, random_state=self.random_state)\n",
    "        \n",
    "        feature_selection_df = pd.DataFrame({'feature':self.feature_names, 'pearson':cor_support, 'chi_2':chi_support, \n",
    "                                             'rfe':rfe_support, 'logistics':embeded_lr_support,\n",
    "                                             'random_forest':embeded_rf_support, 'xgboost':embeded_xgb_support})  \n",
    "\n",
    "        feature_selection_df['total'] = np.sum(feature_selection_df, axis=1)\n",
    "        self.feature_selection_df_ = feature_selection_df\n",
    "        \n",
    "        keep_features = feature_selection_df.query('total >= {}'.format(self.min_selections))['feature'].tolist()\n",
    "        \n",
    "        # Keep the features that we always want (e.g. domain expertise)\n",
    "        if self.always_keep is not None:\n",
    "            keep_features.extend(self.always_keep)\n",
    "        \n",
    "        self.keep_features_ = [f for f in self.feature_names if f in keep_features]\n",
    "        \n",
    "        return self\n",
    "    \n",
    "    def transform(self, X, y=None):\n",
    "        \n",
    "        if issparse(X) and type(X) != csc_matrix:\n",
    "            X = X.tocsc()\n",
    "        return X[:, [i for i, f in enumerate(self.feature_names) if f in self.keep_features_]]"
   ]
  },
  {
   "cell_type": "code",
   "execution_count": 10,
   "metadata": {},
   "outputs": [],
   "source": [
    "from data_tools import graphs as gt\n",
    "from collections import Counter"
   ]
  },
  {
   "cell_type": "code",
   "execution_count": 13,
   "metadata": {},
   "outputs": [],
   "source": [
    "edge_info = pd.read_csv('../metapaths/0_data/manual/edge_semtypes.csv')"
   ]
  },
  {
   "cell_type": "code",
   "execution_count": 14,
   "metadata": {},
   "outputs": [],
   "source": [
    "dir_map = edge_info.set_index('fwd_edge')['directed'].to_dict()\n",
    "rev_map = edge_info.set_index('fwd_edge')['rev_edge'].to_dict()\n",
    "direction = edge_info.set_index('fwd_edge')['rel_dir'].to_dict()"
   ]
  },
  {
   "cell_type": "code",
   "execution_count": 15,
   "metadata": {},
   "outputs": [
    {
     "data": {
      "application/vnd.jupyter.widget-view+json": {
       "model_id": "0e585f14c6ab4b22be455ba43366301f",
       "version_major": 2,
       "version_minor": 0
      },
      "text/plain": [
       "HBox(children=(FloatProgress(value=0.0, max=21531.0), HTML(value='')))"
      ]
     },
     "metadata": {},
     "output_type": "display_data"
    },
    {
     "name": "stdout",
     "output_type": "stream",
     "text": [
      "\n"
     ]
    }
   ],
   "source": [
    "similarity_paths_check = []\n",
    "\n",
    "for mp in tqdm(mg.metapaths):\n",
    "    if len(mp) < 2:\n",
    "        similarity_paths_check.append(True)\n",
    "        continue\n",
    "    this_path = []\n",
    "    node_count = Counter([n.abbrev for n in mp.get_nodes()])\n",
    "    for label in ['ChemicalSubstance', 'BiologicalProcessOrActivity', 'MacromolecularMachine']:\n",
    "        this_path.append(gt.is_similarity(mp, [label], dir_map, check_dir='both'))\n",
    "\n",
    "    # Disease and Phenotype nodes don't have any good interactions with BP nodes unfortunately\n",
    "    # Best to just blacklist them\n",
    "    this_path.append(node_count['D'] > 0)\n",
    "    this_path.append(node_count['P'] > 0)\n",
    "\n",
    "    # Don't want CtXaYzP edges.. Ct (and Cm) edges should be banned...\n",
    "    # Though not strictly similarity edges, they have heavy implications for Disease Phenotype similarity\n",
    "    bl_edge = ['Ct', 'Cm', 'Cdg', 'Cpl', 'Cpv']\n",
    "    for bl in bl_edge:\n",
    "        if mp.abbrev.startswith(bl) or mp.abbrev.endswith('aw'+bl+'BP'):\n",
    "            this_path.append(True)\n",
    "    \n",
    "    similarity_paths_check.append(sum(this_path) > 0)"
   ]
  },
  {
   "cell_type": "code",
   "execution_count": 16,
   "metadata": {},
   "outputs": [
    {
     "data": {
      "text/plain": [
       "2837"
      ]
     },
     "execution_count": 16,
     "metadata": {},
     "output_type": "execute_result"
    }
   ],
   "source": [
    "non_sim_mps = [mp for mp, sim in zip(mg.metapaths, similarity_paths_check) if not sim]\n",
    "len(non_sim_mps)"
   ]
  },
  {
   "cell_type": "code",
   "execution_count": 17,
   "metadata": {},
   "outputs": [
    {
     "data": {
      "text/plain": [
       "affects_CafBP     62523\n",
       "part_of_CpoBP     48991\n",
       "inhibits_CinBP    39706\n",
       "activates_CaBP    38936\n",
       "Name: type, dtype: int64"
      ]
     },
     "execution_count": 17,
     "metadata": {},
     "output_type": "execute_result"
    }
   ],
   "source": [
    "combo = gt.combine_nodes_and_edges(nodes, edges)\n",
    "combo.query('start_label == \"ChemicalSubstance\" and end_label == @tgt_node')['type'].value_counts()"
   ]
  },
  {
   "cell_type": "code",
   "execution_count": 19,
   "metadata": {},
   "outputs": [],
   "source": [
    "keep_comps = set(edges.query('type == @tgt_edge')['start_id'].tolist())\n",
    "keep_bp = set(edges.query('type == @tgt_edge')['end_id'].tolist())"
   ]
  },
  {
   "cell_type": "code",
   "execution_count": 28,
   "metadata": {},
   "outputs": [],
   "source": [
    "train_frac = 0.2\n",
    "rs = 20201116\n",
    "\n",
    "# Get compounds that have our target edge\n",
    "tgt_comps = set(edges.query('type == @tgt_edge')['start_id'])\n",
    "# Sample the comps without our target edge, then subsample\n",
    "keep_comps = set(nodes.query('id not in @tgt_comps and label == \"ChemicalSubstance\"')\n",
    "                      .sample(frac=train_frac*.01, random_state=rs)['id'])\n",
    "# Then subsample the positives\n",
    "keep_comps = keep_comps | set(nodes.query('id in @tgt_comps')\n",
    "                                   .sample(frac=train_frac, random_state=rs+1)['id'])\n",
    "\n",
    "# Get our target type \n",
    "tgt_bps = set(edges.query('type == @tgt_edge')['end_id'])\n",
    "# Sample the negatives and subsample cv\n",
    "keep_bps = set(nodes.query('label == @tgt_node and id not in @tgt_bps')\n",
    "                    .sample(frac=train_frac*.01, random_state=rs+2)['id'])\n",
    "# Take the diseases Treated by these compounds\n",
    "keep_bps = keep_bps | set(edges.query('type == @tgt_edge and start_id in @keep_comps')['end_id'])"
   ]
  },
  {
   "cell_type": "code",
   "execution_count": 29,
   "metadata": {},
   "outputs": [
    {
     "data": {
      "text/plain": [
       "(1302, 3081)"
      ]
     },
     "execution_count": 29,
     "metadata": {},
     "output_type": "execute_result"
    }
   ],
   "source": [
    "len(keep_comps), len(keep_bp)"
   ]
  },
  {
   "cell_type": "code",
   "execution_count": 30,
   "metadata": {},
   "outputs": [
    {
     "data": {
      "text/plain": [
       "4011462"
      ]
     },
     "execution_count": 30,
     "metadata": {},
     "output_type": "execute_result"
    }
   ],
   "source": [
    "len(keep_comps) * len(keep_bp)"
   ]
  },
  {
   "cell_type": "code",
   "execution_count": 31,
   "metadata": {},
   "outputs": [
    {
     "name": "stdout",
     "output_type": "stream",
     "text": [
      "8,096 Positive training examples in subset\n"
     ]
    }
   ],
   "source": [
    "print('{:,} Positive training examples in subset'.format(len(edges.query('start_id in @keep_comps and type == @tgt_edge'))))"
   ]
  },
  {
   "cell_type": "markdown",
   "metadata": {},
   "source": [
    "# Prepare a tmp output location"
   ]
  },
  {
   "cell_type": "code",
   "execution_count": 32,
   "metadata": {},
   "outputs": [],
   "source": [
    "tmp_dir = out_dir.parent.joinpath('tmp')\n",
    "tmp_dir.mkdir(parents=True, exist_ok=True)"
   ]
  },
  {
   "cell_type": "markdown",
   "metadata": {},
   "source": [
    "# Extract the features one time"
   ]
  },
  {
   "cell_type": "markdown",
   "metadata": {},
   "source": [
    "Use the pair counts to sort metapaths extaction as a niave load balancer"
   ]
  },
  {
   "cell_type": "code",
   "execution_count": 34,
   "metadata": {},
   "outputs": [],
   "source": [
    "to_xtract = [str(mp) for mp in non_sim_mps]"
   ]
  },
  {
   "cell_type": "code",
   "execution_count": 35,
   "metadata": {},
   "outputs": [
    {
     "name": "stderr",
     "output_type": "stream",
     "text": [
      "100%|██████████| 15/15 [02:36<00:00, 10.42s/it]\n"
     ]
    },
    {
     "name": "stdout",
     "output_type": "stream",
     "text": [
      "CPU times: user 1min 23s, sys: 52.1 s, total: 2min 15s\n",
      "Wall time: 2min 37s\n"
     ]
    }
   ],
   "source": [
    "%%time\n",
    "## Extract the metapaths to do some prep work\n",
    "(pairs, feats), test_dwpc = piecewise_extraction(function=mg.extract_dwpc, \n",
    "                                 to_split='metapaths', block_size=200,\n",
    "                                 axis=1,\n",
    "                                 metapaths=to_xtract, \n",
    "                                 start_nodes=list(keep_comps), \n",
    "                                 end_nodes=list(keep_bps),\n",
    "                                 return_sparse=True,\n",
    "                                 sparse_df=False,\n",
    "                                 n_jobs=30)"
   ]
  },
  {
   "cell_type": "markdown",
   "metadata": {},
   "source": [
    "# Training Targets for feature selection¶"
   ]
  },
  {
   "cell_type": "code",
   "execution_count": 36,
   "metadata": {},
   "outputs": [
    {
     "data": {
      "text/plain": [
       "[('IKEY:HQQUTGFAWJNQIP-UHFFFAOYSA-K', 'GO:0042310'),\n",
       " ('IKEY:SNWOMTHWKCRLGO-UHFFFAOYSA-A', 'GO:0042310')]"
      ]
     },
     "execution_count": 36,
     "metadata": {},
     "output_type": "execute_result"
    }
   ],
   "source": [
    "pos_tups = edges.query('type == @tgt_edge')[['start_id', 'end_id']].apply(tuple, axis=1).tolist()\n",
    "pos_tups[:2]"
   ]
  },
  {
   "cell_type": "code",
   "execution_count": 37,
   "metadata": {},
   "outputs": [],
   "source": [
    "pos_tups = set(pos_tups)"
   ]
  },
  {
   "cell_type": "code",
   "execution_count": 38,
   "metadata": {},
   "outputs": [
    {
     "data": {
      "application/vnd.jupyter.widget-view+json": {
       "model_id": "b4aad3710fe6469db20164ec952f3ec7",
       "version_major": 2,
       "version_minor": 0
      },
      "text/plain": [
       "HBox(children=(FloatProgress(value=0.0, max=2372244.0), HTML(value='')))"
      ]
     },
     "metadata": {},
     "output_type": "display_data"
    },
    {
     "name": "stdout",
     "output_type": "stream",
     "text": [
      "\n",
      "2372244 2372244 8096\n"
     ]
    }
   ],
   "source": [
    "y = []\n",
    "for row in tqdm(pairs.itertuples(), total=len(pairs)):\n",
    "    if set([(row.chemicalsubstance_id, getattr(row, tgt_node.lower()+'_id'))]) & pos_tups:\n",
    "        y.append(1)\n",
    "    else:\n",
    "        y.append(0)\n",
    "\n",
    "y = np.array(y)\n",
    "        \n",
    "print(len(pairs), len(y), sum(y))"
   ]
  },
  {
   "cell_type": "code",
   "execution_count": 39,
   "metadata": {},
   "outputs": [],
   "source": [
    "pairs['status'] = y"
   ]
  },
  {
   "cell_type": "markdown",
   "metadata": {},
   "source": [
    "# Subsample the potnetial training examples\n",
    "\n",
    "Our class is so imbalanced, to get a sizeable number of positive training examples, we end up with many orders of magnitude more negative examples.  Many of those examples will have no connections from the compound to the disease of interest, this providing a zero row in the matrix. We will not waste time training on those values, and instead focus on the ones that distinguish the positive from the negative training examples.\n",
    "\n",
    "As this is just hyperparameter tunings, to speed things up, we will also limit the positive examples to a small portion of the negative examples, 100x (2 orders of magnitude) larger than the number of postitives. "
   ]
  },
  {
   "cell_type": "code",
   "execution_count": 40,
   "metadata": {},
   "outputs": [],
   "source": [
    "# Get the rows that are Non-zero\n",
    "nz_index = pairs[test_dwpc.getnnz(1)>0].index\n",
    "\n",
    "# have the number of postivies to get 100x this for the negatives.\n",
    "n_pos = pairs['status'].sum()\n",
    "\n",
    "# Sample the nonzero negative examples at a rate of 100x the positive samples\n",
    "neg_index = pairs.loc[nz_index].query('status == 0').sample(n=100*n_pos, random_state=rs+10).sort_index().index\n",
    "\n",
    "# and of course take the training postivies\n",
    "pos_index = pairs.query('status == 1').index\n",
    "\n",
    "# Union the two\n",
    "train_index = pos_index.union(neg_index)"
   ]
  },
  {
   "cell_type": "code",
   "execution_count": 41,
   "metadata": {},
   "outputs": [],
   "source": [
    "feats = np.array(feats)\n",
    "nz_feats = feats[test_dwpc.getnnz(0)>0]\n",
    "feat_index = test_dwpc.getnnz(0)>0"
   ]
  },
  {
   "cell_type": "code",
   "execution_count": 43,
   "metadata": {},
   "outputs": [],
   "source": [
    "# Get our compounds as ndarrays for easy indexing with sklearns StratifiedKFold\n",
    "keep_comps = np.array(list(keep_comps))\n",
    "# Need to know how to properly stratify the split\n",
    "is_treat_comp = np.array([1 if c in tgt_comps else 0 for c in keep_comps])"
   ]
  },
  {
   "cell_type": "markdown",
   "metadata": {},
   "source": [
    "## Select the features\n",
    "\n",
    "This is a time consuming and costly step. We will do once with the initial DWPC for parameter tuning. We will perform again at the end with the selected parameters."
   ]
  },
  {
   "cell_type": "code",
   "execution_count": 44,
   "metadata": {},
   "outputs": [
    {
     "name": "stdout",
     "output_type": "stream",
     "text": [
      "CPU times: user 17 s, sys: 1.92 s, total: 18.9 s\n",
      "Wall time: 18.9 s\n"
     ]
    }
   ],
   "source": [
    "%%time\n",
    "msat = MeanScaledArcsinhTransformer()\n",
    "trans_dwpc = msat.fit_transform(test_dwpc[train_index][:, feat_index])"
   ]
  },
  {
   "cell_type": "code",
   "execution_count": 46,
   "metadata": {},
   "outputs": [
    {
     "name": "stdout",
     "output_type": "stream",
     "text": [
      "Running Cor\n"
     ]
    },
    {
     "name": "stderr",
     "output_type": "stream",
     "text": [
      "/opt/mmayers/software/anaconda3/envs/ml/lib/python3.6/site-packages/numpy/lib/function_base.py:2559: RuntimeWarning: invalid value encountered in true_divide\n",
      "  c /= stddev[:, None]\n",
      "/opt/mmayers/software/anaconda3/envs/ml/lib/python3.6/site-packages/numpy/lib/function_base.py:2560: RuntimeWarning: invalid value encountered in true_divide\n",
      "  c /= stddev[None, :]\n"
     ]
    },
    {
     "name": "stdout",
     "output_type": "stream",
     "text": [
      "Running Chi2\n",
      "Running RFE\n",
      "Fitting estimator with 2033 features.\n",
      "Fitting estimator with 1627 features.\n",
      "Fitting estimator with 1221 features.\n",
      "Fitting estimator with 815 features.\n",
      "Running LR\n",
      "Running RF\n",
      "Running XG\n",
      "CPU times: user 2h 48min 56s, sys: 59.7 s, total: 2h 49min 55s\n",
      "Wall time: 13min 43s\n"
     ]
    }
   ],
   "source": [
    "%%time\n",
    "\n",
    "if tmp_dir.joinpath('test_feats.txt').exists():\n",
    "    keep_features = pd.read_csv(tmp_dir.joinpath('test_feats.txt'))['0'].tolist()\n",
    "else:\n",
    "    fsel = FeatureSelector(num_features=500, min_selections=4, n_jobs=30, \n",
    "                           feature_names=nz_feats.tolist(), random_state=rs+5)\n",
    "    sel_dwpc = fsel.fit_transform(trans_dwpc, y[train_index])\n",
    "    keep_features = fsel.keep_features_\n",
    "    pd.Series(keep_features).to_csv(tmp_dir.joinpath('test_feats.txt'), index=False)\n",
    "    fsel.feature_selection_df_.to_csv(tmp_dir.joinpath('test_fs_df.csv'), index=False)"
   ]
  },
  {
   "cell_type": "markdown",
   "metadata": {},
   "source": [
    "## Prep for Hyperparam optimization"
   ]
  },
  {
   "cell_type": "code",
   "execution_count": 48,
   "metadata": {},
   "outputs": [],
   "source": [
    "def neg_log_scal(val):\n",
    "    \"\"\"Scale values logrithmicly. Larger input yields smaller result\"\"\"\n",
    "    return (1-np.log1p(val)) \n",
    "\n",
    "def pos_log_scal(val):\n",
    "    \"\"\"Scale values logrithmicly. Larger input yields larger result\"\"\"\n",
    "    return np.log1p(val)\n",
    "\n",
    "\n",
    "def auroc_mean_loss(auroc_mean, strength=2, scal_factor=.5):\n",
    "    mean_roc_shift =  (np.abs(auroc_mean - 0.5)) / scal_factor\n",
    "    baseline_roc = neg_log_scal(1)\n",
    "    return (neg_log_scal(mean_roc_shift) - baseline_roc) * strength\n",
    "\n",
    "def avg_pre_mean_loss(avg_pre_mean, strength=2.5, scal_factor=.15):\n",
    "    avg_pre_mean_scal = avg_pre_mean / scal_factor\n",
    "    baseline_prc = neg_log_scal(1)\n",
    "    return (neg_log_scal(avg_pre_mean_scal) - baseline_prc) * strength\n",
    "\n",
    "def auroc_std_loss(auroc_std, strength=2):\n",
    "    return pos_log_scal(auroc_std) * strength\n",
    "\n",
    "def avg_pre_std_loss(avg_pre_std, strength=2):\n",
    "    return pos_log_scal(avg_pre_std) * strength\n",
    "\n",
    "def sigmoid(x):\n",
    "    return 1 / (1 + np.exp(-x))\n",
    "\n",
    "def calc_loss(auroc_mean, avg_pre_mean, auroc_std, avg_pre_std):\n",
    "    mean_roc_loss = auroc_mean_loss(auroc_mean)\n",
    "    mean_pre_loss = avg_pre_mean_loss(avg_pre_mean)\n",
    "    std_roc_loss = auroc_std_loss(auroc_std)\n",
    "    std_pre_loss = avg_pre_std_loss(avg_pre_std)\n",
    "    \n",
    "    return sigmoid(mean_roc_loss + mean_pre_loss + std_roc_loss + std_pre_loss)-1\n",
    "    \n",
    "    "
   ]
  },
  {
   "cell_type": "code",
   "execution_count": 54,
   "metadata": {},
   "outputs": [],
   "source": [
    "import pickle\n",
    "from time import time\n",
    "\n",
    "def hyperopt(param_space, y, num_eval):\n",
    "\n",
    "    def objective_function(params):\n",
    "        dwpc_params = {k.split('__')[1]: v for k, v in params.items() if k.split('__')[0] == 'dwpc'}\n",
    "        enet_params = {k.split('__')[1]: v for k, v in params.items() if k.split('__')[0] == 'enet'}\n",
    "\n",
    "        # Set up the post feature extraction pipeline\n",
    "        post_extraction_pipeline = Pipeline(\n",
    "            [('e_net', LogisticRegression(penalty='elasticnet', solver='saga', max_iter=100, **enet_params,\n",
    "                                          random_state=rs+6))], verbose=True)\n",
    "\n",
    "        cv = cross_validate(post_extraction_pipeline, sel_dwpc, y, cv=5, \n",
    "                            scoring=['average_precision', 'roc_auc'], return_estimator=True)\n",
    "\n",
    "        # Write out scores for each run\n",
    "        with open(tmp_dir.joinpath('scores_C_{0:1.5f}_l1_{1:1.4f}.txt'.format(\n",
    "                                   enet_params['C'], enet_params['l1_ratio'])), 'w') as f_out:\n",
    "\n",
    "            f_out.write(', '.join([str(s) for s in cv['test_average_precision']]))\n",
    "            f_out.write('\\n')\n",
    "            f_out.write(', '.join([str(s) for s in cv['test_roc_auc']]))\n",
    "            f_out.write('\\n')\n",
    "\n",
    "        auroc_mean = cv['test_roc_auc'].mean()\n",
    "        avg_pre_mean = cv['test_average_precision'].mean()\n",
    "        auroc_std = cv['test_roc_auc'].std()\n",
    "        avg_pre_std = cv['test_average_precision'].std()\n",
    "        \n",
    "        score = calc_loss(auroc_mean, avg_pre_mean, auroc_std, avg_pre_std)\n",
    "        \n",
    "        print('Mean AUROC: {:1.4f}'.format(auroc_mean))\n",
    "        print('Mean Avg Pre: {:1.4f}'.format(avg_pre_mean))\n",
    "        print('STD AUROC: {:1.4f}'.format(auroc_std))\n",
    "        print('STD Avg Pre: {:1.4f}'.format(avg_pre_std))\n",
    "        print('Loss: {:1.4f}'.format(score))\n",
    "        \n",
    "        return {'loss': score, 'status': STATUS_OK}\n",
    "\n",
    "    start = time()\n",
    "   \n",
    "    \n",
    "    trials = Trials()\n",
    "    best_param = fmin(objective_function, \n",
    "                      param_space, \n",
    "                      algo=tpe.suggest, \n",
    "                      max_evals=num_eval, \n",
    "                      trials=trials,\n",
    "                      rstate= np.random.RandomState(1))\n",
    "    \n",
    "    print(time() - start)\n",
    "    return trials, best_param\n",
    "    "
   ]
  },
  {
   "cell_type": "code",
   "execution_count": 50,
   "metadata": {},
   "outputs": [],
   "source": [
    "# Previous best before adding new keep_features: \n",
    "# '1l_ratio': 0.10455936193818496, 'C': 0.000556880900960339, 'w': 0.2640929485381926\n",
    "param_hyperopt = {\n",
    "    'enet__C': hp.loguniform('C', np.log(0.001), np.log(1)),\n",
    "    'enet__l1_ratio': hp.uniform('l1_ratio', .01, .99),\n",
    "}"
   ]
  },
  {
   "cell_type": "code",
   "execution_count": null,
   "metadata": {},
   "outputs": [
    {
     "name": "stdout",
     "output_type": "stream",
     "text": [
      "[Pipeline] ............. (step 1 of 1) Processing e_net, total= 3.0min\n",
      "  0%|          | 0/50 [03:03<?, ?trial/s, best loss=?]"
     ]
    },
    {
     "name": "stderr",
     "output_type": "stream",
     "text": [
      "/opt/mmayers/software/anaconda3/envs/ml/lib/python3.6/site-packages/sklearn/linear_model/_sag.py:330: ConvergenceWarning: The max_iter was reached which means the coef_ did not converge\n",
      "  \"the coef_ did not converge\", ConvergenceWarning)\n",
      "\n"
     ]
    },
    {
     "name": "stdout",
     "output_type": "stream",
     "text": [
      "[Pipeline] ............. (step 1 of 1) Processing e_net, total= 3.2min\n",
      "  0%|          | 0/50 [06:14<?, ?trial/s, best loss=?]"
     ]
    },
    {
     "name": "stderr",
     "output_type": "stream",
     "text": [
      "/opt/mmayers/software/anaconda3/envs/ml/lib/python3.6/site-packages/sklearn/linear_model/_sag.py:330: ConvergenceWarning: The max_iter was reached which means the coef_ did not converge\n",
      "  \"the coef_ did not converge\", ConvergenceWarning)\n",
      "\n"
     ]
    },
    {
     "name": "stdout",
     "output_type": "stream",
     "text": [
      "[Pipeline] ............. (step 1 of 1) Processing e_net, total= 3.0min\n",
      "  0%|          | 0/50 [09:14<?, ?trial/s, best loss=?]"
     ]
    },
    {
     "name": "stderr",
     "output_type": "stream",
     "text": [
      "/opt/mmayers/software/anaconda3/envs/ml/lib/python3.6/site-packages/sklearn/linear_model/_sag.py:330: ConvergenceWarning: The max_iter was reached which means the coef_ did not converge\n",
      "  \"the coef_ did not converge\", ConvergenceWarning)\n",
      "\n"
     ]
    },
    {
     "name": "stdout",
     "output_type": "stream",
     "text": [
      "[Pipeline] ............. (step 1 of 1) Processing e_net, total= 3.1min\n",
      "  0%|          | 0/50 [12:19<?, ?trial/s, best loss=?]"
     ]
    },
    {
     "name": "stderr",
     "output_type": "stream",
     "text": [
      "/opt/mmayers/software/anaconda3/envs/ml/lib/python3.6/site-packages/sklearn/linear_model/_sag.py:330: ConvergenceWarning: The max_iter was reached which means the coef_ did not converge\n",
      "  \"the coef_ did not converge\", ConvergenceWarning)\n",
      "\n"
     ]
    },
    {
     "name": "stdout",
     "output_type": "stream",
     "text": [
      "[Pipeline] ............. (step 1 of 1) Processing e_net, total= 3.0min\n",
      "Mean AUROC: 0.7271                                    \n",
      "Mean Avg Pre: 0.2058                                  \n",
      "STD AUROC: 0.0609                                     \n",
      "STD Avg Pre: 0.0350                                   \n",
      "Loss: -0.4017                                         \n",
      "  2%|▏         | 1/50 [15:21<12:32:10, 921.04s/trial, best loss: -0.4017353163789785]"
     ]
    },
    {
     "name": "stderr",
     "output_type": "stream",
     "text": [
      "/opt/mmayers/software/anaconda3/envs/ml/lib/python3.6/site-packages/sklearn/linear_model/_sag.py:330: ConvergenceWarning: The max_iter was reached which means the coef_ did not converge\n",
      "  \"the coef_ did not converge\", ConvergenceWarning)\n",
      "\n"
     ]
    },
    {
     "name": "stdout",
     "output_type": "stream",
     "text": [
      "[Pipeline] ............. (step 1 of 1) Processing e_net, total= 2.2min               \n",
      "  2%|▏         | 1/50 [17:39<12:32:10, 921.04s/trial, best loss: -0.4017353163789785]"
     ]
    },
    {
     "name": "stderr",
     "output_type": "stream",
     "text": [
      "/opt/mmayers/software/anaconda3/envs/ml/lib/python3.6/site-packages/sklearn/linear_model/_sag.py:330: ConvergenceWarning: The max_iter was reached which means the coef_ did not converge\n",
      "  \"the coef_ did not converge\", ConvergenceWarning)\n",
      "\n"
     ]
    },
    {
     "name": "stdout",
     "output_type": "stream",
     "text": [
      "[Pipeline] ............. (step 1 of 1) Processing e_net, total= 2.4min               \n",
      "  2%|▏         | 1/50 [20:03<12:32:10, 921.04s/trial, best loss: -0.4017353163789785]"
     ]
    },
    {
     "name": "stderr",
     "output_type": "stream",
     "text": [
      "/opt/mmayers/software/anaconda3/envs/ml/lib/python3.6/site-packages/sklearn/linear_model/_sag.py:330: ConvergenceWarning: The max_iter was reached which means the coef_ did not converge\n",
      "  \"the coef_ did not converge\", ConvergenceWarning)\n",
      "\n"
     ]
    },
    {
     "name": "stdout",
     "output_type": "stream",
     "text": [
      "[Pipeline] ............. (step 1 of 1) Processing e_net, total= 2.2min               \n",
      "  2%|▏         | 1/50 [22:16<12:32:10, 921.04s/trial, best loss: -0.4017353163789785]"
     ]
    },
    {
     "name": "stderr",
     "output_type": "stream",
     "text": [
      "/opt/mmayers/software/anaconda3/envs/ml/lib/python3.6/site-packages/sklearn/linear_model/_sag.py:330: ConvergenceWarning: The max_iter was reached which means the coef_ did not converge\n",
      "  \"the coef_ did not converge\", ConvergenceWarning)\n",
      "\n"
     ]
    },
    {
     "name": "stdout",
     "output_type": "stream",
     "text": [
      "[Pipeline] ............. (step 1 of 1) Processing e_net, total= 2.3min               \n",
      "  2%|▏         | 1/50 [24:37<12:32:10, 921.04s/trial, best loss: -0.4017353163789785]"
     ]
    },
    {
     "name": "stderr",
     "output_type": "stream",
     "text": [
      "/opt/mmayers/software/anaconda3/envs/ml/lib/python3.6/site-packages/sklearn/linear_model/_sag.py:330: ConvergenceWarning: The max_iter was reached which means the coef_ did not converge\n",
      "  \"the coef_ did not converge\", ConvergenceWarning)\n",
      "\n"
     ]
    },
    {
     "name": "stdout",
     "output_type": "stream",
     "text": [
      "[Pipeline] ............. (step 1 of 1) Processing e_net, total= 2.3min               \n",
      "Mean AUROC: 0.7723                                                                   \n",
      "Mean Avg Pre: 0.2320                                                                 \n",
      "STD AUROC: 0.0464                                                                    \n",
      "STD Avg Pre: 0.0588                                                                  \n",
      "Loss: -0.4706                                                                        \n",
      "  4%|▍         | 2/50 [26:58<11:23:15, 854.07s/trial, best loss: -0.4706321335419531]"
     ]
    },
    {
     "name": "stderr",
     "output_type": "stream",
     "text": [
      "/opt/mmayers/software/anaconda3/envs/ml/lib/python3.6/site-packages/sklearn/linear_model/_sag.py:330: ConvergenceWarning: The max_iter was reached which means the coef_ did not converge\n",
      "  \"the coef_ did not converge\", ConvergenceWarning)\n",
      "\n"
     ]
    },
    {
     "name": "stdout",
     "output_type": "stream",
     "text": [
      "[Pipeline] ............. (step 1 of 1) Processing e_net, total= 2.5min               \n",
      "  4%|▍         | 2/50 [29:32<11:23:15, 854.07s/trial, best loss: -0.4706321335419531]"
     ]
    },
    {
     "name": "stderr",
     "output_type": "stream",
     "text": [
      "/opt/mmayers/software/anaconda3/envs/ml/lib/python3.6/site-packages/sklearn/linear_model/_sag.py:330: ConvergenceWarning: The max_iter was reached which means the coef_ did not converge\n",
      "  \"the coef_ did not converge\", ConvergenceWarning)\n",
      "\n"
     ]
    },
    {
     "name": "stdout",
     "output_type": "stream",
     "text": [
      "[Pipeline] ............. (step 1 of 1) Processing e_net, total= 2.6min               \n",
      "  4%|▍         | 2/50 [32:11<11:23:15, 854.07s/trial, best loss: -0.4706321335419531]"
     ]
    },
    {
     "name": "stderr",
     "output_type": "stream",
     "text": [
      "/opt/mmayers/software/anaconda3/envs/ml/lib/python3.6/site-packages/sklearn/linear_model/_sag.py:330: ConvergenceWarning: The max_iter was reached which means the coef_ did not converge\n",
      "  \"the coef_ did not converge\", ConvergenceWarning)\n",
      "\n"
     ]
    },
    {
     "name": "stdout",
     "output_type": "stream",
     "text": [
      "[Pipeline] ............. (step 1 of 1) Processing e_net, total= 2.6min               \n",
      "  4%|▍         | 2/50 [34:45<11:23:15, 854.07s/trial, best loss: -0.4706321335419531]"
     ]
    },
    {
     "name": "stderr",
     "output_type": "stream",
     "text": [
      "/opt/mmayers/software/anaconda3/envs/ml/lib/python3.6/site-packages/sklearn/linear_model/_sag.py:330: ConvergenceWarning: The max_iter was reached which means the coef_ did not converge\n",
      "  \"the coef_ did not converge\", ConvergenceWarning)\n",
      "\n"
     ]
    },
    {
     "name": "stdout",
     "output_type": "stream",
     "text": [
      "[Pipeline] ............. (step 1 of 1) Processing e_net, total= 2.6min               \n",
      "  4%|▍         | 2/50 [37:24<11:23:15, 854.07s/trial, best loss: -0.4706321335419531]"
     ]
    },
    {
     "name": "stderr",
     "output_type": "stream",
     "text": [
      "/opt/mmayers/software/anaconda3/envs/ml/lib/python3.6/site-packages/sklearn/linear_model/_sag.py:330: ConvergenceWarning: The max_iter was reached which means the coef_ did not converge\n",
      "  \"the coef_ did not converge\", ConvergenceWarning)\n",
      "\n"
     ]
    },
    {
     "name": "stdout",
     "output_type": "stream",
     "text": [
      "[Pipeline] ............. (step 1 of 1) Processing e_net, total= 2.6min               \n",
      "Mean AUROC: 0.7402                                                                   \n",
      "Mean Avg Pre: 0.2196                                                                 \n",
      "STD AUROC: 0.0585                                                                    \n",
      "STD Avg Pre: 0.0421                                                                  \n",
      "Loss: -0.4314                                                                        \n",
      "  6%|▌         | 3/50 [39:59<10:51:47, 832.08s/trial, best loss: -0.4706321335419531]"
     ]
    },
    {
     "name": "stderr",
     "output_type": "stream",
     "text": [
      "/opt/mmayers/software/anaconda3/envs/ml/lib/python3.6/site-packages/sklearn/linear_model/_sag.py:330: ConvergenceWarning: The max_iter was reached which means the coef_ did not converge\n",
      "  \"the coef_ did not converge\", ConvergenceWarning)\n",
      "\n"
     ]
    },
    {
     "name": "stdout",
     "output_type": "stream",
     "text": [
      "[Pipeline] ............. (step 1 of 1) Processing e_net, total= 2.1min               \n",
      "  6%|▌         | 3/50 [42:07<10:51:47, 832.08s/trial, best loss: -0.4706321335419531]"
     ]
    },
    {
     "name": "stderr",
     "output_type": "stream",
     "text": [
      "/opt/mmayers/software/anaconda3/envs/ml/lib/python3.6/site-packages/sklearn/linear_model/_sag.py:330: ConvergenceWarning: The max_iter was reached which means the coef_ did not converge\n",
      "  \"the coef_ did not converge\", ConvergenceWarning)\n",
      "\n"
     ]
    },
    {
     "name": "stdout",
     "output_type": "stream",
     "text": [
      "[Pipeline] ............. (step 1 of 1) Processing e_net, total= 2.2min               \n",
      "  6%|▌         | 3/50 [44:21<10:51:47, 832.08s/trial, best loss: -0.4706321335419531]"
     ]
    },
    {
     "name": "stderr",
     "output_type": "stream",
     "text": [
      "/opt/mmayers/software/anaconda3/envs/ml/lib/python3.6/site-packages/sklearn/linear_model/_sag.py:330: ConvergenceWarning: The max_iter was reached which means the coef_ did not converge\n",
      "  \"the coef_ did not converge\", ConvergenceWarning)\n",
      "\n"
     ]
    },
    {
     "name": "stdout",
     "output_type": "stream",
     "text": [
      "[Pipeline] ............. (step 1 of 1) Processing e_net, total= 2.1min               \n",
      "  6%|▌         | 3/50 [46:26<10:51:47, 832.08s/trial, best loss: -0.4706321335419531]"
     ]
    },
    {
     "name": "stderr",
     "output_type": "stream",
     "text": [
      "/opt/mmayers/software/anaconda3/envs/ml/lib/python3.6/site-packages/sklearn/linear_model/_sag.py:330: ConvergenceWarning: The max_iter was reached which means the coef_ did not converge\n",
      "  \"the coef_ did not converge\", ConvergenceWarning)\n",
      "\n"
     ]
    },
    {
     "name": "stdout",
     "output_type": "stream",
     "text": [
      "[Pipeline] ............. (step 1 of 1) Processing e_net, total= 2.2min               \n",
      "  6%|▌         | 3/50 [48:37<10:51:47, 832.08s/trial, best loss: -0.4706321335419531]"
     ]
    },
    {
     "name": "stderr",
     "output_type": "stream",
     "text": [
      "/opt/mmayers/software/anaconda3/envs/ml/lib/python3.6/site-packages/sklearn/linear_model/_sag.py:330: ConvergenceWarning: The max_iter was reached which means the coef_ did not converge\n",
      "  \"the coef_ did not converge\", ConvergenceWarning)\n",
      "\n"
     ]
    },
    {
     "name": "stdout",
     "output_type": "stream",
     "text": [
      "[Pipeline] ............. (step 1 of 1) Processing e_net, total= 2.2min               \n",
      "Mean AUROC: 0.7981                                                                   \n",
      "Mean Avg Pre: 0.2352                                                                 \n",
      "STD AUROC: 0.0398                                                                    \n",
      "STD Avg Pre: 0.0678                                                                  \n",
      "Loss: -0.4911                                                                        \n",
      "  8%|▊         | 4/50 [50:47<9:55:33, 776.81s/trial, best loss: -0.4911484284283947] "
     ]
    },
    {
     "name": "stderr",
     "output_type": "stream",
     "text": [
      "/opt/mmayers/software/anaconda3/envs/ml/lib/python3.6/site-packages/sklearn/linear_model/_sag.py:330: ConvergenceWarning: The max_iter was reached which means the coef_ did not converge\n",
      "  \"the coef_ did not converge\", ConvergenceWarning)\n",
      "\n"
     ]
    },
    {
     "name": "stdout",
     "output_type": "stream",
     "text": [
      "[Pipeline] ............. (step 1 of 1) Processing e_net, total= 2.4min              \n",
      "  8%|▊         | 4/50 [53:18<9:55:33, 776.81s/trial, best loss: -0.4911484284283947]"
     ]
    },
    {
     "name": "stderr",
     "output_type": "stream",
     "text": [
      "/opt/mmayers/software/anaconda3/envs/ml/lib/python3.6/site-packages/sklearn/linear_model/_sag.py:330: ConvergenceWarning: The max_iter was reached which means the coef_ did not converge\n",
      "  \"the coef_ did not converge\", ConvergenceWarning)\n",
      "\n"
     ]
    },
    {
     "name": "stdout",
     "output_type": "stream",
     "text": [
      "[Pipeline] ............. (step 1 of 1) Processing e_net, total= 2.6min              \n",
      "  8%|▊         | 4/50 [55:57<9:55:33, 776.81s/trial, best loss: -0.4911484284283947]"
     ]
    },
    {
     "name": "stderr",
     "output_type": "stream",
     "text": [
      "/opt/mmayers/software/anaconda3/envs/ml/lib/python3.6/site-packages/sklearn/linear_model/_sag.py:330: ConvergenceWarning: The max_iter was reached which means the coef_ did not converge\n",
      "  \"the coef_ did not converge\", ConvergenceWarning)\n",
      "\n"
     ]
    },
    {
     "name": "stdout",
     "output_type": "stream",
     "text": [
      "[Pipeline] ............. (step 1 of 1) Processing e_net, total= 2.5min              \n",
      "  8%|▊         | 4/50 [58:29<9:55:33, 776.81s/trial, best loss: -0.4911484284283947]"
     ]
    },
    {
     "name": "stderr",
     "output_type": "stream",
     "text": [
      "/opt/mmayers/software/anaconda3/envs/ml/lib/python3.6/site-packages/sklearn/linear_model/_sag.py:330: ConvergenceWarning: The max_iter was reached which means the coef_ did not converge\n",
      "  \"the coef_ did not converge\", ConvergenceWarning)\n",
      "\n"
     ]
    },
    {
     "name": "stdout",
     "output_type": "stream",
     "text": [
      "[Pipeline] ............. (step 1 of 1) Processing e_net, total= 2.6min              \n",
      "  8%|▊         | 4/50 [1:01:06<9:55:33, 776.81s/trial, best loss: -0.4911484284283947]"
     ]
    },
    {
     "name": "stderr",
     "output_type": "stream",
     "text": [
      "/opt/mmayers/software/anaconda3/envs/ml/lib/python3.6/site-packages/sklearn/linear_model/_sag.py:330: ConvergenceWarning: The max_iter was reached which means the coef_ did not converge\n",
      "  \"the coef_ did not converge\", ConvergenceWarning)\n",
      "\n"
     ]
    },
    {
     "name": "stdout",
     "output_type": "stream",
     "text": [
      "[Pipeline] ............. (step 1 of 1) Processing e_net, total= 2.5min                \n",
      "Mean AUROC: 0.7363                                                                    \n",
      "Mean Avg Pre: 0.2157                                                                  \n",
      "STD AUROC: 0.0596                                                                     \n",
      "STD Avg Pre: 0.0399                                                                   \n",
      "Loss: -0.4228                                                                         \n",
      " 10%|█         | 5/50 [1:03:38<9:41:16, 775.03s/trial, best loss: -0.4911484284283947]"
     ]
    },
    {
     "name": "stderr",
     "output_type": "stream",
     "text": [
      "/opt/mmayers/software/anaconda3/envs/ml/lib/python3.6/site-packages/sklearn/linear_model/_sag.py:330: ConvergenceWarning: The max_iter was reached which means the coef_ did not converge\n",
      "  \"the coef_ did not converge\", ConvergenceWarning)\n",
      "\n"
     ]
    },
    {
     "name": "stdout",
     "output_type": "stream",
     "text": [
      "[Pipeline] ............. (step 1 of 1) Processing e_net, total= 2.1min                \n",
      " 10%|█         | 5/50 [1:05:47<9:41:16, 775.03s/trial, best loss: -0.4911484284283947]"
     ]
    },
    {
     "name": "stderr",
     "output_type": "stream",
     "text": [
      "/opt/mmayers/software/anaconda3/envs/ml/lib/python3.6/site-packages/sklearn/linear_model/_sag.py:330: ConvergenceWarning: The max_iter was reached which means the coef_ did not converge\n",
      "  \"the coef_ did not converge\", ConvergenceWarning)\n",
      "\n"
     ]
    },
    {
     "name": "stdout",
     "output_type": "stream",
     "text": [
      "[Pipeline] ............. (step 1 of 1) Processing e_net, total= 2.3min                \n",
      " 10%|█         | 5/50 [1:08:02<9:41:16, 775.03s/trial, best loss: -0.4911484284283947]"
     ]
    },
    {
     "name": "stderr",
     "output_type": "stream",
     "text": [
      "/opt/mmayers/software/anaconda3/envs/ml/lib/python3.6/site-packages/sklearn/linear_model/_sag.py:330: ConvergenceWarning: The max_iter was reached which means the coef_ did not converge\n",
      "  \"the coef_ did not converge\", ConvergenceWarning)\n",
      "\n"
     ]
    },
    {
     "name": "stdout",
     "output_type": "stream",
     "text": [
      "[Pipeline] ............. (step 1 of 1) Processing e_net, total= 2.1min                \n",
      " 10%|█         | 5/50 [1:10:10<9:41:16, 775.03s/trial, best loss: -0.4911484284283947]"
     ]
    },
    {
     "name": "stderr",
     "output_type": "stream",
     "text": [
      "/opt/mmayers/software/anaconda3/envs/ml/lib/python3.6/site-packages/sklearn/linear_model/_sag.py:330: ConvergenceWarning: The max_iter was reached which means the coef_ did not converge\n",
      "  \"the coef_ did not converge\", ConvergenceWarning)\n",
      "\n"
     ]
    },
    {
     "name": "stdout",
     "output_type": "stream",
     "text": [
      "[Pipeline] ............. (step 1 of 1) Processing e_net, total= 2.2min                \n",
      " 10%|█         | 5/50 [1:12:20<9:41:16, 775.03s/trial, best loss: -0.4911484284283947]"
     ]
    },
    {
     "name": "stderr",
     "output_type": "stream",
     "text": [
      "/opt/mmayers/software/anaconda3/envs/ml/lib/python3.6/site-packages/sklearn/linear_model/_sag.py:330: ConvergenceWarning: The max_iter was reached which means the coef_ did not converge\n",
      "  \"the coef_ did not converge\", ConvergenceWarning)\n",
      "\n"
     ]
    },
    {
     "name": "stdout",
     "output_type": "stream",
     "text": [
      "[Pipeline] ............. (step 1 of 1) Processing e_net, total= 2.2min                \n",
      "Mean AUROC: 0.7418                                                                    \n",
      "Mean Avg Pre: 0.2207                                                                  \n",
      "STD AUROC: 0.0583                                                                     \n",
      "STD Avg Pre: 0.0425                                                                   \n",
      "Loss: -0.4341                                                                         \n",
      " 12%|█▏        | 6/50 [1:14:30<9:01:19, 738.17s/trial, best loss: -0.4911484284283947]"
     ]
    },
    {
     "name": "stderr",
     "output_type": "stream",
     "text": [
      "/opt/mmayers/software/anaconda3/envs/ml/lib/python3.6/site-packages/sklearn/linear_model/_sag.py:330: ConvergenceWarning: The max_iter was reached which means the coef_ did not converge\n",
      "  \"the coef_ did not converge\", ConvergenceWarning)\n",
      "\n"
     ]
    },
    {
     "name": "stdout",
     "output_type": "stream",
     "text": [
      "[Pipeline] ............. (step 1 of 1) Processing e_net, total= 2.1min                \n",
      " 12%|█▏        | 6/50 [1:16:39<9:01:19, 738.17s/trial, best loss: -0.4911484284283947]"
     ]
    },
    {
     "name": "stderr",
     "output_type": "stream",
     "text": [
      "/opt/mmayers/software/anaconda3/envs/ml/lib/python3.6/site-packages/sklearn/linear_model/_sag.py:330: ConvergenceWarning: The max_iter was reached which means the coef_ did not converge\n",
      "  \"the coef_ did not converge\", ConvergenceWarning)\n",
      "\n"
     ]
    },
    {
     "name": "stdout",
     "output_type": "stream",
     "text": [
      "[Pipeline] ............. (step 1 of 1) Processing e_net, total= 2.2min                \n",
      " 12%|█▏        | 6/50 [1:18:52<9:01:19, 738.17s/trial, best loss: -0.4911484284283947]"
     ]
    },
    {
     "name": "stderr",
     "output_type": "stream",
     "text": [
      "/opt/mmayers/software/anaconda3/envs/ml/lib/python3.6/site-packages/sklearn/linear_model/_sag.py:330: ConvergenceWarning: The max_iter was reached which means the coef_ did not converge\n",
      "  \"the coef_ did not converge\", ConvergenceWarning)\n",
      "\n"
     ]
    },
    {
     "name": "stdout",
     "output_type": "stream",
     "text": [
      "[Pipeline] ............. (step 1 of 1) Processing e_net, total= 2.1min                \n",
      " 12%|█▏        | 6/50 [1:20:57<9:01:19, 738.17s/trial, best loss: -0.4911484284283947]"
     ]
    },
    {
     "name": "stderr",
     "output_type": "stream",
     "text": [
      "/opt/mmayers/software/anaconda3/envs/ml/lib/python3.6/site-packages/sklearn/linear_model/_sag.py:330: ConvergenceWarning: The max_iter was reached which means the coef_ did not converge\n",
      "  \"the coef_ did not converge\", ConvergenceWarning)\n",
      "\n"
     ]
    },
    {
     "name": "stdout",
     "output_type": "stream",
     "text": [
      "[Pipeline] ............. (step 1 of 1) Processing e_net, total= 2.2min                \n",
      " 12%|█▏        | 6/50 [1:23:08<9:01:19, 738.17s/trial, best loss: -0.4911484284283947]"
     ]
    },
    {
     "name": "stderr",
     "output_type": "stream",
     "text": [
      "/opt/mmayers/software/anaconda3/envs/ml/lib/python3.6/site-packages/sklearn/linear_model/_sag.py:330: ConvergenceWarning: The max_iter was reached which means the coef_ did not converge\n",
      "  \"the coef_ did not converge\", ConvergenceWarning)\n",
      "\n"
     ]
    },
    {
     "name": "stdout",
     "output_type": "stream",
     "text": [
      "[Pipeline] ............. (step 1 of 1) Processing e_net, total= 2.1min                \n",
      "Mean AUROC: 0.7382                                                                    \n",
      "Mean Avg Pre: 0.2174                                                                  \n",
      "STD AUROC: 0.0592                                                                     \n",
      "STD Avg Pre: 0.0407                                                                   \n",
      "Loss: -0.4267                                                                         \n",
      " 14%|█▍        | 7/50 [1:25:16<8:29:09, 710.46s/trial, best loss: -0.4911484284283947]"
     ]
    },
    {
     "name": "stderr",
     "output_type": "stream",
     "text": [
      "/opt/mmayers/software/anaconda3/envs/ml/lib/python3.6/site-packages/sklearn/linear_model/_sag.py:330: ConvergenceWarning: The max_iter was reached which means the coef_ did not converge\n",
      "  \"the coef_ did not converge\", ConvergenceWarning)\n",
      "\n"
     ]
    },
    {
     "name": "stdout",
     "output_type": "stream",
     "text": [
      "[Pipeline] ............. (step 1 of 1) Processing e_net, total= 2.3min                \n",
      " 14%|█▍        | 7/50 [1:27:36<8:29:09, 710.46s/trial, best loss: -0.4911484284283947]"
     ]
    },
    {
     "name": "stderr",
     "output_type": "stream",
     "text": [
      "/opt/mmayers/software/anaconda3/envs/ml/lib/python3.6/site-packages/sklearn/linear_model/_sag.py:330: ConvergenceWarning: The max_iter was reached which means the coef_ did not converge\n",
      "  \"the coef_ did not converge\", ConvergenceWarning)\n",
      "\n"
     ]
    },
    {
     "name": "stdout",
     "output_type": "stream",
     "text": [
      "[Pipeline] ............. (step 1 of 1) Processing e_net, total= 2.4min                \n",
      " 14%|█▍        | 7/50 [1:30:02<8:29:09, 710.46s/trial, best loss: -0.4911484284283947]"
     ]
    },
    {
     "name": "stderr",
     "output_type": "stream",
     "text": [
      "/opt/mmayers/software/anaconda3/envs/ml/lib/python3.6/site-packages/sklearn/linear_model/_sag.py:330: ConvergenceWarning: The max_iter was reached which means the coef_ did not converge\n",
      "  \"the coef_ did not converge\", ConvergenceWarning)\n",
      "\n"
     ]
    },
    {
     "name": "stdout",
     "output_type": "stream",
     "text": [
      "[Pipeline] ............. (step 1 of 1) Processing e_net, total= 2.3min                \n",
      " 14%|█▍        | 7/50 [1:32:19<8:29:09, 710.46s/trial, best loss: -0.4911484284283947]"
     ]
    },
    {
     "name": "stderr",
     "output_type": "stream",
     "text": [
      "/opt/mmayers/software/anaconda3/envs/ml/lib/python3.6/site-packages/sklearn/linear_model/_sag.py:330: ConvergenceWarning: The max_iter was reached which means the coef_ did not converge\n",
      "  \"the coef_ did not converge\", ConvergenceWarning)\n",
      "\n"
     ]
    },
    {
     "name": "stdout",
     "output_type": "stream",
     "text": [
      "[Pipeline] ............. (step 1 of 1) Processing e_net, total= 2.5min                \n",
      " 14%|█▍        | 7/50 [1:34:52<8:29:09, 710.46s/trial, best loss: -0.4911484284283947]"
     ]
    },
    {
     "name": "stderr",
     "output_type": "stream",
     "text": [
      "/opt/mmayers/software/anaconda3/envs/ml/lib/python3.6/site-packages/sklearn/linear_model/_sag.py:330: ConvergenceWarning: The max_iter was reached which means the coef_ did not converge\n",
      "  \"the coef_ did not converge\", ConvergenceWarning)\n",
      "\n"
     ]
    },
    {
     "name": "stdout",
     "output_type": "stream",
     "text": [
      "[Pipeline] ............. (step 1 of 1) Processing e_net, total= 2.1min                \n",
      "Mean AUROC: 0.7621                                                                    \n",
      "Mean Avg Pre: 0.2292                                                                  \n",
      "STD AUROC: 0.0497                                                                     \n",
      "STD Avg Pre: 0.0542                                                                   \n",
      "Loss: -0.4600                                                                         \n",
      " 16%|█▌        | 8/50 [1:36:59<8:15:47, 708.28s/trial, best loss: -0.4911484284283947]"
     ]
    },
    {
     "name": "stderr",
     "output_type": "stream",
     "text": [
      "/opt/mmayers/software/anaconda3/envs/ml/lib/python3.6/site-packages/sklearn/linear_model/_sag.py:330: ConvergenceWarning: The max_iter was reached which means the coef_ did not converge\n",
      "  \"the coef_ did not converge\", ConvergenceWarning)\n",
      "\n"
     ]
    },
    {
     "name": "stdout",
     "output_type": "stream",
     "text": [
      "[Pipeline] ............. (step 1 of 1) Processing e_net, total= 2.6min                \n",
      " 16%|█▌        | 8/50 [1:39:42<8:15:47, 708.28s/trial, best loss: -0.4911484284283947]"
     ]
    },
    {
     "name": "stderr",
     "output_type": "stream",
     "text": [
      "/opt/mmayers/software/anaconda3/envs/ml/lib/python3.6/site-packages/sklearn/linear_model/_sag.py:330: ConvergenceWarning: The max_iter was reached which means the coef_ did not converge\n",
      "  \"the coef_ did not converge\", ConvergenceWarning)\n",
      "\n"
     ]
    },
    {
     "name": "stdout",
     "output_type": "stream",
     "text": [
      "[Pipeline] ............. (step 1 of 1) Processing e_net, total= 2.6min                \n",
      " 16%|█▌        | 8/50 [1:42:19<8:15:47, 708.28s/trial, best loss: -0.4911484284283947]"
     ]
    },
    {
     "name": "stderr",
     "output_type": "stream",
     "text": [
      "/opt/mmayers/software/anaconda3/envs/ml/lib/python3.6/site-packages/sklearn/linear_model/_sag.py:330: ConvergenceWarning: The max_iter was reached which means the coef_ did not converge\n",
      "  \"the coef_ did not converge\", ConvergenceWarning)\n",
      "\n"
     ]
    },
    {
     "name": "stdout",
     "output_type": "stream",
     "text": [
      "[Pipeline] ............. (step 1 of 1) Processing e_net, total= 2.6min                \n",
      " 16%|█▌        | 8/50 [1:44:58<8:15:47, 708.28s/trial, best loss: -0.4911484284283947]"
     ]
    },
    {
     "name": "stderr",
     "output_type": "stream",
     "text": [
      "/opt/mmayers/software/anaconda3/envs/ml/lib/python3.6/site-packages/sklearn/linear_model/_sag.py:330: ConvergenceWarning: The max_iter was reached which means the coef_ did not converge\n",
      "  \"the coef_ did not converge\", ConvergenceWarning)\n",
      "\n"
     ]
    },
    {
     "name": "stdout",
     "output_type": "stream",
     "text": [
      "[Pipeline] ............. (step 1 of 1) Processing e_net, total= 2.7min                \n",
      " 16%|█▌        | 8/50 [1:47:43<8:15:47, 708.28s/trial, best loss: -0.4911484284283947]"
     ]
    },
    {
     "name": "stderr",
     "output_type": "stream",
     "text": [
      "/opt/mmayers/software/anaconda3/envs/ml/lib/python3.6/site-packages/sklearn/linear_model/_sag.py:330: ConvergenceWarning: The max_iter was reached which means the coef_ did not converge\n",
      "  \"the coef_ did not converge\", ConvergenceWarning)\n",
      "\n"
     ]
    },
    {
     "name": "stdout",
     "output_type": "stream",
     "text": [
      "[Pipeline] ............. (step 1 of 1) Processing e_net, total= 2.6min                \n",
      "Mean AUROC: 0.7270                                                                    \n",
      "Mean Avg Pre: 0.2056                                                                  \n",
      "STD AUROC: 0.0610                                                                     \n",
      "STD Avg Pre: 0.0349                                                                   \n",
      "Loss: -0.4013                                                                         \n",
      " 18%|█▊        | 9/50 [1:50:20<8:23:05, 736.24s/trial, best loss: -0.4911484284283947]"
     ]
    },
    {
     "name": "stderr",
     "output_type": "stream",
     "text": [
      "/opt/mmayers/software/anaconda3/envs/ml/lib/python3.6/site-packages/sklearn/linear_model/_sag.py:330: ConvergenceWarning: The max_iter was reached which means the coef_ did not converge\n",
      "  \"the coef_ did not converge\", ConvergenceWarning)\n",
      "\n"
     ]
    },
    {
     "name": "stdout",
     "output_type": "stream",
     "text": [
      "[Pipeline] ............. (step 1 of 1) Processing e_net, total= 2.5min                \n",
      " 18%|█▊        | 9/50 [1:52:58<8:23:05, 736.24s/trial, best loss: -0.4911484284283947]"
     ]
    },
    {
     "name": "stderr",
     "output_type": "stream",
     "text": [
      "/opt/mmayers/software/anaconda3/envs/ml/lib/python3.6/site-packages/sklearn/linear_model/_sag.py:330: ConvergenceWarning: The max_iter was reached which means the coef_ did not converge\n",
      "  \"the coef_ did not converge\", ConvergenceWarning)\n",
      "\n"
     ]
    },
    {
     "name": "stdout",
     "output_type": "stream",
     "text": [
      "[Pipeline] ............. (step 1 of 1) Processing e_net, total= 2.5min                \n",
      " 18%|█▊        | 9/50 [1:55:30<8:23:05, 736.24s/trial, best loss: -0.4911484284283947]"
     ]
    },
    {
     "name": "stderr",
     "output_type": "stream",
     "text": [
      "/opt/mmayers/software/anaconda3/envs/ml/lib/python3.6/site-packages/sklearn/linear_model/_sag.py:330: ConvergenceWarning: The max_iter was reached which means the coef_ did not converge\n",
      "  \"the coef_ did not converge\", ConvergenceWarning)\n",
      "\n"
     ]
    },
    {
     "name": "stdout",
     "output_type": "stream",
     "text": [
      "[Pipeline] ............. (step 1 of 1) Processing e_net, total= 2.5min                \n",
      " 18%|█▊        | 9/50 [1:58:03<8:23:05, 736.24s/trial, best loss: -0.4911484284283947]"
     ]
    },
    {
     "name": "stderr",
     "output_type": "stream",
     "text": [
      "/opt/mmayers/software/anaconda3/envs/ml/lib/python3.6/site-packages/sklearn/linear_model/_sag.py:330: ConvergenceWarning: The max_iter was reached which means the coef_ did not converge\n",
      "  \"the coef_ did not converge\", ConvergenceWarning)\n",
      "\n"
     ]
    },
    {
     "name": "stdout",
     "output_type": "stream",
     "text": [
      "[Pipeline] ............. (step 1 of 1) Processing e_net, total= 2.7min                \n",
      " 18%|█▊        | 9/50 [2:00:45<8:23:05, 736.24s/trial, best loss: -0.4911484284283947]"
     ]
    },
    {
     "name": "stderr",
     "output_type": "stream",
     "text": [
      "/opt/mmayers/software/anaconda3/envs/ml/lib/python3.6/site-packages/sklearn/linear_model/_sag.py:330: ConvergenceWarning: The max_iter was reached which means the coef_ did not converge\n",
      "  \"the coef_ did not converge\", ConvergenceWarning)\n",
      "\n"
     ]
    },
    {
     "name": "stdout",
     "output_type": "stream",
     "text": [
      "[Pipeline] ............. (step 1 of 1) Processing e_net, total= 2.6min                \n",
      "Mean AUROC: 0.7303                                                                    \n",
      "Mean Avg Pre: 0.2095                                                                  \n",
      "STD AUROC: 0.0604                                                                     \n",
      "STD Avg Pre: 0.0367                                                                   \n",
      "Loss: -0.4097                                                                         \n",
      " 20%|██        | 10/50 [2:03:21<8:19:37, 749.43s/trial, best loss: -0.4911484284283947]"
     ]
    },
    {
     "name": "stderr",
     "output_type": "stream",
     "text": [
      "/opt/mmayers/software/anaconda3/envs/ml/lib/python3.6/site-packages/sklearn/linear_model/_sag.py:330: ConvergenceWarning: The max_iter was reached which means the coef_ did not converge\n",
      "  \"the coef_ did not converge\", ConvergenceWarning)\n",
      "\n"
     ]
    },
    {
     "name": "stdout",
     "output_type": "stream",
     "text": [
      "[Pipeline] ............. (step 1 of 1) Processing e_net, total= 2.8min                 \n",
      " 20%|██        | 10/50 [2:06:11<8:19:37, 749.43s/trial, best loss: -0.4911484284283947]"
     ]
    },
    {
     "name": "stderr",
     "output_type": "stream",
     "text": [
      "/opt/mmayers/software/anaconda3/envs/ml/lib/python3.6/site-packages/sklearn/linear_model/_sag.py:330: ConvergenceWarning: The max_iter was reached which means the coef_ did not converge\n",
      "  \"the coef_ did not converge\", ConvergenceWarning)\n",
      "\n"
     ]
    },
    {
     "name": "stdout",
     "output_type": "stream",
     "text": [
      "[Pipeline] ............. (step 1 of 1) Processing e_net, total= 2.8min                 \n",
      " 20%|██        | 10/50 [2:08:57<8:19:37, 749.43s/trial, best loss: -0.4911484284283947]"
     ]
    },
    {
     "name": "stderr",
     "output_type": "stream",
     "text": [
      "/opt/mmayers/software/anaconda3/envs/ml/lib/python3.6/site-packages/sklearn/linear_model/_sag.py:330: ConvergenceWarning: The max_iter was reached which means the coef_ did not converge\n",
      "  \"the coef_ did not converge\", ConvergenceWarning)\n",
      "\n"
     ]
    },
    {
     "name": "stdout",
     "output_type": "stream",
     "text": [
      "[Pipeline] ............. (step 1 of 1) Processing e_net, total= 2.8min                 \n",
      " 20%|██        | 10/50 [2:11:42<8:19:37, 749.43s/trial, best loss: -0.4911484284283947]"
     ]
    },
    {
     "name": "stderr",
     "output_type": "stream",
     "text": [
      "/opt/mmayers/software/anaconda3/envs/ml/lib/python3.6/site-packages/sklearn/linear_model/_sag.py:330: ConvergenceWarning: The max_iter was reached which means the coef_ did not converge\n",
      "  \"the coef_ did not converge\", ConvergenceWarning)\n",
      "\n"
     ]
    },
    {
     "name": "stdout",
     "output_type": "stream",
     "text": [
      "[Pipeline] ............. (step 1 of 1) Processing e_net, total= 2.9min                 \n",
      " 20%|██        | 10/50 [2:14:35<8:19:37, 749.43s/trial, best loss: -0.4911484284283947]"
     ]
    },
    {
     "name": "stderr",
     "output_type": "stream",
     "text": [
      "/opt/mmayers/software/anaconda3/envs/ml/lib/python3.6/site-packages/sklearn/linear_model/_sag.py:330: ConvergenceWarning: The max_iter was reached which means the coef_ did not converge\n",
      "  \"the coef_ did not converge\", ConvergenceWarning)\n",
      "\n"
     ]
    },
    {
     "name": "stdout",
     "output_type": "stream",
     "text": [
      "[Pipeline] ............. (step 1 of 1) Processing e_net, total= 2.8min                 \n",
      "Mean AUROC: 0.7267                                                                     \n",
      "Mean Avg Pre: 0.2053                                                                   \n",
      "STD AUROC: 0.0610                                                                      \n",
      "STD Avg Pre: 0.0348                                                                    \n",
      "Loss: -0.4008                                                                          \n",
      " 22%|██▏       | 11/50 [2:17:21<8:24:51, 776.70s/trial, best loss: -0.4911484284283947]"
     ]
    },
    {
     "name": "stderr",
     "output_type": "stream",
     "text": [
      "/opt/mmayers/software/anaconda3/envs/ml/lib/python3.6/site-packages/sklearn/linear_model/_sag.py:330: ConvergenceWarning: The max_iter was reached which means the coef_ did not converge\n",
      "  \"the coef_ did not converge\", ConvergenceWarning)\n",
      "\n"
     ]
    },
    {
     "name": "stdout",
     "output_type": "stream",
     "text": [
      "[Pipeline] ............. (step 1 of 1) Processing e_net, total= 2.3min                 \n",
      " 22%|██▏       | 11/50 [2:19:45<8:24:51, 776.70s/trial, best loss: -0.4911484284283947]"
     ]
    },
    {
     "name": "stderr",
     "output_type": "stream",
     "text": [
      "/opt/mmayers/software/anaconda3/envs/ml/lib/python3.6/site-packages/sklearn/linear_model/_sag.py:330: ConvergenceWarning: The max_iter was reached which means the coef_ did not converge\n",
      "  \"the coef_ did not converge\", ConvergenceWarning)\n",
      "\n"
     ]
    },
    {
     "name": "stdout",
     "output_type": "stream",
     "text": [
      "[Pipeline] ............. (step 1 of 1) Processing e_net, total= 2.3min                 \n",
      " 22%|██▏       | 11/50 [2:22:03<8:24:51, 776.70s/trial, best loss: -0.4911484284283947]"
     ]
    },
    {
     "name": "stderr",
     "output_type": "stream",
     "text": [
      "/opt/mmayers/software/anaconda3/envs/ml/lib/python3.6/site-packages/sklearn/linear_model/_sag.py:330: ConvergenceWarning: The max_iter was reached which means the coef_ did not converge\n",
      "  \"the coef_ did not converge\", ConvergenceWarning)\n",
      "\n"
     ]
    },
    {
     "name": "stdout",
     "output_type": "stream",
     "text": [
      "[Pipeline] ............. (step 1 of 1) Processing e_net, total= 2.3min                 \n",
      " 22%|██▏       | 11/50 [2:24:24<8:24:51, 776.70s/trial, best loss: -0.4911484284283947]"
     ]
    },
    {
     "name": "stderr",
     "output_type": "stream",
     "text": [
      "/opt/mmayers/software/anaconda3/envs/ml/lib/python3.6/site-packages/sklearn/linear_model/_sag.py:330: ConvergenceWarning: The max_iter was reached which means the coef_ did not converge\n",
      "  \"the coef_ did not converge\", ConvergenceWarning)\n",
      "\n"
     ]
    },
    {
     "name": "stdout",
     "output_type": "stream",
     "text": [
      "[Pipeline] ............. (step 1 of 1) Processing e_net, total= 2.5min                 \n",
      " 22%|██▏       | 11/50 [2:26:51<8:24:51, 776.70s/trial, best loss: -0.4911484284283947]"
     ]
    },
    {
     "name": "stderr",
     "output_type": "stream",
     "text": [
      "/opt/mmayers/software/anaconda3/envs/ml/lib/python3.6/site-packages/sklearn/linear_model/_sag.py:330: ConvergenceWarning: The max_iter was reached which means the coef_ did not converge\n",
      "  \"the coef_ did not converge\", ConvergenceWarning)\n",
      "\n"
     ]
    },
    {
     "name": "stdout",
     "output_type": "stream",
     "text": [
      "[Pipeline] ............. (step 1 of 1) Processing e_net, total= 2.4min                 \n",
      "Mean AUROC: 0.7296                                                                     \n",
      "Mean Avg Pre: 0.2086                                                                   \n",
      "STD AUROC: 0.0605                                                                      \n",
      "STD Avg Pre: 0.0362                                                                    \n",
      "Loss: -0.4078                                                                          \n",
      " 24%|██▍       | 12/50 [2:29:12<7:59:30, 757.12s/trial, best loss: -0.4911484284283947]"
     ]
    },
    {
     "name": "stderr",
     "output_type": "stream",
     "text": [
      "/opt/mmayers/software/anaconda3/envs/ml/lib/python3.6/site-packages/sklearn/linear_model/_sag.py:330: ConvergenceWarning: The max_iter was reached which means the coef_ did not converge\n",
      "  \"the coef_ did not converge\", ConvergenceWarning)\n",
      "\n"
     ]
    },
    {
     "name": "stdout",
     "output_type": "stream",
     "text": [
      "[Pipeline] ............. (step 1 of 1) Processing e_net, total= 2.6min                 \n",
      " 24%|██▍       | 12/50 [2:31:52<7:59:30, 757.12s/trial, best loss: -0.4911484284283947]"
     ]
    },
    {
     "name": "stderr",
     "output_type": "stream",
     "text": [
      "/opt/mmayers/software/anaconda3/envs/ml/lib/python3.6/site-packages/sklearn/linear_model/_sag.py:330: ConvergenceWarning: The max_iter was reached which means the coef_ did not converge\n",
      "  \"the coef_ did not converge\", ConvergenceWarning)\n",
      "\n"
     ]
    },
    {
     "name": "stdout",
     "output_type": "stream",
     "text": [
      "[Pipeline] ............. (step 1 of 1) Processing e_net, total= 2.6min                 \n",
      " 24%|██▍       | 12/50 [2:34:26<7:59:30, 757.12s/trial, best loss: -0.4911484284283947]"
     ]
    },
    {
     "name": "stderr",
     "output_type": "stream",
     "text": [
      "/opt/mmayers/software/anaconda3/envs/ml/lib/python3.6/site-packages/sklearn/linear_model/_sag.py:330: ConvergenceWarning: The max_iter was reached which means the coef_ did not converge\n",
      "  \"the coef_ did not converge\", ConvergenceWarning)\n",
      "\n"
     ]
    },
    {
     "name": "stdout",
     "output_type": "stream",
     "text": [
      "[Pipeline] ............. (step 1 of 1) Processing e_net, total= 2.6min                 \n",
      " 24%|██▍       | 12/50 [2:37:02<7:59:30, 757.12s/trial, best loss: -0.4911484284283947]"
     ]
    },
    {
     "name": "stderr",
     "output_type": "stream",
     "text": [
      "/opt/mmayers/software/anaconda3/envs/ml/lib/python3.6/site-packages/sklearn/linear_model/_sag.py:330: ConvergenceWarning: The max_iter was reached which means the coef_ did not converge\n",
      "  \"the coef_ did not converge\", ConvergenceWarning)\n",
      "\n"
     ]
    },
    {
     "name": "stdout",
     "output_type": "stream",
     "text": [
      "[Pipeline] ............. (step 1 of 1) Processing e_net, total= 2.7min                 \n",
      " 24%|██▍       | 12/50 [2:39:44<7:59:30, 757.12s/trial, best loss: -0.4911484284283947]"
     ]
    },
    {
     "name": "stderr",
     "output_type": "stream",
     "text": [
      "/opt/mmayers/software/anaconda3/envs/ml/lib/python3.6/site-packages/sklearn/linear_model/_sag.py:330: ConvergenceWarning: The max_iter was reached which means the coef_ did not converge\n",
      "  \"the coef_ did not converge\", ConvergenceWarning)\n",
      "\n"
     ]
    },
    {
     "name": "stdout",
     "output_type": "stream",
     "text": [
      "[Pipeline] ............. (step 1 of 1) Processing e_net, total= 2.6min                 \n",
      "Mean AUROC: 0.7270                                                                     \n",
      "Mean Avg Pre: 0.2055                                                                   \n",
      "STD AUROC: 0.0610                                                                      \n",
      "STD Avg Pre: 0.0349                                                                    \n",
      "Loss: -0.4012                                                                          \n",
      " 26%|██▌       | 13/50 [2:42:18<7:52:10, 765.70s/trial, best loss: -0.4911484284283947]"
     ]
    },
    {
     "name": "stderr",
     "output_type": "stream",
     "text": [
      "/opt/mmayers/software/anaconda3/envs/ml/lib/python3.6/site-packages/sklearn/linear_model/_sag.py:330: ConvergenceWarning: The max_iter was reached which means the coef_ did not converge\n",
      "  \"the coef_ did not converge\", ConvergenceWarning)\n",
      "\n"
     ]
    },
    {
     "name": "stdout",
     "output_type": "stream",
     "text": [
      "[Pipeline] ............. (step 1 of 1) Processing e_net, total= 2.8min                 \n",
      " 26%|██▌       | 13/50 [2:45:09<7:52:10, 765.70s/trial, best loss: -0.4911484284283947]"
     ]
    },
    {
     "name": "stderr",
     "output_type": "stream",
     "text": [
      "/opt/mmayers/software/anaconda3/envs/ml/lib/python3.6/site-packages/sklearn/linear_model/_sag.py:330: ConvergenceWarning: The max_iter was reached which means the coef_ did not converge\n",
      "  \"the coef_ did not converge\", ConvergenceWarning)\n",
      "\n"
     ]
    },
    {
     "name": "stdout",
     "output_type": "stream",
     "text": [
      "[Pipeline] ............. (step 1 of 1) Processing e_net, total= 2.8min                 \n",
      " 26%|██▌       | 13/50 [2:47:56<7:52:10, 765.70s/trial, best loss: -0.4911484284283947]"
     ]
    },
    {
     "name": "stderr",
     "output_type": "stream",
     "text": [
      "/opt/mmayers/software/anaconda3/envs/ml/lib/python3.6/site-packages/sklearn/linear_model/_sag.py:330: ConvergenceWarning: The max_iter was reached which means the coef_ did not converge\n",
      "  \"the coef_ did not converge\", ConvergenceWarning)\n",
      "\n"
     ]
    },
    {
     "name": "stdout",
     "output_type": "stream",
     "text": [
      "[Pipeline] ............. (step 1 of 1) Processing e_net, total= 2.8min                 \n",
      " 26%|██▌       | 13/50 [2:50:43<7:52:10, 765.70s/trial, best loss: -0.4911484284283947]"
     ]
    },
    {
     "name": "stderr",
     "output_type": "stream",
     "text": [
      "/opt/mmayers/software/anaconda3/envs/ml/lib/python3.6/site-packages/sklearn/linear_model/_sag.py:330: ConvergenceWarning: The max_iter was reached which means the coef_ did not converge\n",
      "  \"the coef_ did not converge\", ConvergenceWarning)\n",
      "\n"
     ]
    },
    {
     "name": "stdout",
     "output_type": "stream",
     "text": [
      "[Pipeline] ............. (step 1 of 1) Processing e_net, total= 2.9min                 \n",
      " 26%|██▌       | 13/50 [2:53:36<7:52:10, 765.70s/trial, best loss: -0.4911484284283947]"
     ]
    },
    {
     "name": "stderr",
     "output_type": "stream",
     "text": [
      "/opt/mmayers/software/anaconda3/envs/ml/lib/python3.6/site-packages/sklearn/linear_model/_sag.py:330: ConvergenceWarning: The max_iter was reached which means the coef_ did not converge\n",
      "  \"the coef_ did not converge\", ConvergenceWarning)\n",
      "\n"
     ]
    },
    {
     "name": "stdout",
     "output_type": "stream",
     "text": [
      "[Pipeline] ............. (step 1 of 1) Processing e_net, total= 2.8min                 \n",
      "Mean AUROC: 0.7309                                                                     \n",
      "Mean Avg Pre: 0.2116                                                                   \n",
      "STD AUROC: 0.0605                                                                      \n",
      "STD Avg Pre: 0.0381                                                                    \n",
      "Loss: -0.4128                                                                          \n",
      " 28%|██▊       | 14/50 [2:56:26<7:54:10, 790.30s/trial, best loss: -0.4911484284283947]"
     ]
    },
    {
     "name": "stderr",
     "output_type": "stream",
     "text": [
      "/opt/mmayers/software/anaconda3/envs/ml/lib/python3.6/site-packages/sklearn/linear_model/_sag.py:330: ConvergenceWarning: The max_iter was reached which means the coef_ did not converge\n",
      "  \"the coef_ did not converge\", ConvergenceWarning)\n",
      "\n"
     ]
    },
    {
     "name": "stdout",
     "output_type": "stream",
     "text": [
      "[Pipeline] ............. (step 1 of 1) Processing e_net, total= 2.6min                 \n",
      " 28%|██▊       | 14/50 [2:59:04<7:54:10, 790.30s/trial, best loss: -0.4911484284283947]"
     ]
    },
    {
     "name": "stderr",
     "output_type": "stream",
     "text": [
      "/opt/mmayers/software/anaconda3/envs/ml/lib/python3.6/site-packages/sklearn/linear_model/_sag.py:330: ConvergenceWarning: The max_iter was reached which means the coef_ did not converge\n",
      "  \"the coef_ did not converge\", ConvergenceWarning)\n",
      "\n"
     ]
    },
    {
     "name": "stdout",
     "output_type": "stream",
     "text": [
      "[Pipeline] ............. (step 1 of 1) Processing e_net, total= 2.5min                 \n",
      " 28%|██▊       | 14/50 [3:01:36<7:54:10, 790.30s/trial, best loss: -0.4911484284283947]"
     ]
    },
    {
     "name": "stderr",
     "output_type": "stream",
     "text": [
      "/opt/mmayers/software/anaconda3/envs/ml/lib/python3.6/site-packages/sklearn/linear_model/_sag.py:330: ConvergenceWarning: The max_iter was reached which means the coef_ did not converge\n",
      "  \"the coef_ did not converge\", ConvergenceWarning)\n",
      "\n"
     ]
    },
    {
     "name": "stdout",
     "output_type": "stream",
     "text": [
      "[Pipeline] ............. (step 1 of 1) Processing e_net, total= 2.6min                 \n",
      " 28%|██▊       | 14/50 [3:04:13<7:54:10, 790.30s/trial, best loss: -0.4911484284283947]"
     ]
    },
    {
     "name": "stderr",
     "output_type": "stream",
     "text": [
      "/opt/mmayers/software/anaconda3/envs/ml/lib/python3.6/site-packages/sklearn/linear_model/_sag.py:330: ConvergenceWarning: The max_iter was reached which means the coef_ did not converge\n",
      "  \"the coef_ did not converge\", ConvergenceWarning)\n",
      "\n"
     ]
    },
    {
     "name": "stdout",
     "output_type": "stream",
     "text": [
      "[Pipeline] ............. (step 1 of 1) Processing e_net, total= 2.7min                 \n",
      " 28%|██▊       | 14/50 [3:06:55<7:54:10, 790.30s/trial, best loss: -0.4911484284283947]"
     ]
    },
    {
     "name": "stderr",
     "output_type": "stream",
     "text": [
      "/opt/mmayers/software/anaconda3/envs/ml/lib/python3.6/site-packages/sklearn/linear_model/_sag.py:330: ConvergenceWarning: The max_iter was reached which means the coef_ did not converge\n",
      "  \"the coef_ did not converge\", ConvergenceWarning)\n",
      "\n"
     ]
    },
    {
     "name": "stdout",
     "output_type": "stream",
     "text": [
      "[Pipeline] ............. (step 1 of 1) Processing e_net, total= 2.6min                 \n",
      "Mean AUROC: 0.7313                                                                     \n",
      "Mean Avg Pre: 0.2108                                                                   \n",
      "STD AUROC: 0.0604                                                                      \n",
      "STD Avg Pre: 0.0373                                                                    \n",
      "Loss: -0.4121                                                                          \n",
      " 30%|███       | 15/50 [3:09:32<7:40:17, 789.08s/trial, best loss: -0.4911484284283947]"
     ]
    },
    {
     "name": "stderr",
     "output_type": "stream",
     "text": [
      "/opt/mmayers/software/anaconda3/envs/ml/lib/python3.6/site-packages/sklearn/linear_model/_sag.py:330: ConvergenceWarning: The max_iter was reached which means the coef_ did not converge\n",
      "  \"the coef_ did not converge\", ConvergenceWarning)\n",
      "\n"
     ]
    },
    {
     "name": "stdout",
     "output_type": "stream",
     "text": [
      "[Pipeline] ............. (step 1 of 1) Processing e_net, total= 2.6min                 \n",
      " 30%|███       | 15/50 [3:12:12<7:40:17, 789.08s/trial, best loss: -0.4911484284283947]"
     ]
    },
    {
     "name": "stderr",
     "output_type": "stream",
     "text": [
      "/opt/mmayers/software/anaconda3/envs/ml/lib/python3.6/site-packages/sklearn/linear_model/_sag.py:330: ConvergenceWarning: The max_iter was reached which means the coef_ did not converge\n",
      "  \"the coef_ did not converge\", ConvergenceWarning)\n",
      "\n"
     ]
    },
    {
     "name": "stdout",
     "output_type": "stream",
     "text": [
      "[Pipeline] ............. (step 1 of 1) Processing e_net, total= 2.6min                 \n",
      " 30%|███       | 15/50 [3:14:46<7:40:17, 789.08s/trial, best loss: -0.4911484284283947]"
     ]
    },
    {
     "name": "stderr",
     "output_type": "stream",
     "text": [
      "/opt/mmayers/software/anaconda3/envs/ml/lib/python3.6/site-packages/sklearn/linear_model/_sag.py:330: ConvergenceWarning: The max_iter was reached which means the coef_ did not converge\n",
      "  \"the coef_ did not converge\", ConvergenceWarning)\n",
      "\n"
     ]
    },
    {
     "name": "stdout",
     "output_type": "stream",
     "text": [
      "[Pipeline] ............. (step 1 of 1) Processing e_net, total= 2.6min                 \n",
      " 30%|███       | 15/50 [3:17:22<7:40:17, 789.08s/trial, best loss: -0.4911484284283947]"
     ]
    },
    {
     "name": "stderr",
     "output_type": "stream",
     "text": [
      "/opt/mmayers/software/anaconda3/envs/ml/lib/python3.6/site-packages/sklearn/linear_model/_sag.py:330: ConvergenceWarning: The max_iter was reached which means the coef_ did not converge\n",
      "  \"the coef_ did not converge\", ConvergenceWarning)\n",
      "\n"
     ]
    },
    {
     "name": "stdout",
     "output_type": "stream",
     "text": [
      "[Pipeline] ............. (step 1 of 1) Processing e_net, total= 2.7min                 \n",
      " 30%|███       | 15/50 [3:20:05<7:40:17, 789.08s/trial, best loss: -0.4911484284283947]"
     ]
    },
    {
     "name": "stderr",
     "output_type": "stream",
     "text": [
      "/opt/mmayers/software/anaconda3/envs/ml/lib/python3.6/site-packages/sklearn/linear_model/_sag.py:330: ConvergenceWarning: The max_iter was reached which means the coef_ did not converge\n",
      "  \"the coef_ did not converge\", ConvergenceWarning)\n",
      "\n"
     ]
    },
    {
     "name": "stdout",
     "output_type": "stream",
     "text": [
      "[Pipeline] ............. (step 1 of 1) Processing e_net, total= 2.6min                 \n",
      "Mean AUROC: 0.7269                                                                     \n",
      "Mean Avg Pre: 0.2055                                                                   \n",
      "STD AUROC: 0.0610                                                                      \n",
      "STD Avg Pre: 0.0349                                                                    \n",
      "Loss: -0.4012                                                                          \n",
      " 32%|███▏      | 16/50 [3:22:39<7:26:47, 788.47s/trial, best loss: -0.4911484284283947]"
     ]
    },
    {
     "name": "stderr",
     "output_type": "stream",
     "text": [
      "/opt/mmayers/software/anaconda3/envs/ml/lib/python3.6/site-packages/sklearn/linear_model/_sag.py:330: ConvergenceWarning: The max_iter was reached which means the coef_ did not converge\n",
      "  \"the coef_ did not converge\", ConvergenceWarning)\n",
      "\n"
     ]
    },
    {
     "name": "stdout",
     "output_type": "stream",
     "text": [
      "[Pipeline] ............. (step 1 of 1) Processing e_net, total= 2.1min                 \n",
      " 32%|███▏      | 16/50 [3:24:52<7:26:47, 788.47s/trial, best loss: -0.4911484284283947]"
     ]
    },
    {
     "name": "stderr",
     "output_type": "stream",
     "text": [
      "/opt/mmayers/software/anaconda3/envs/ml/lib/python3.6/site-packages/sklearn/linear_model/_sag.py:330: ConvergenceWarning: The max_iter was reached which means the coef_ did not converge\n",
      "  \"the coef_ did not converge\", ConvergenceWarning)\n",
      "\n"
     ]
    },
    {
     "name": "stdout",
     "output_type": "stream",
     "text": [
      "[Pipeline] ............. (step 1 of 1) Processing e_net, total= 2.2min                 \n",
      " 32%|███▏      | 16/50 [3:27:04<7:26:47, 788.47s/trial, best loss: -0.4911484284283947]"
     ]
    },
    {
     "name": "stderr",
     "output_type": "stream",
     "text": [
      "/opt/mmayers/software/anaconda3/envs/ml/lib/python3.6/site-packages/sklearn/linear_model/_sag.py:330: ConvergenceWarning: The max_iter was reached which means the coef_ did not converge\n",
      "  \"the coef_ did not converge\", ConvergenceWarning)\n",
      "\n"
     ]
    },
    {
     "name": "stdout",
     "output_type": "stream",
     "text": [
      "[Pipeline] ............. (step 1 of 1) Processing e_net, total= 2.2min                 \n",
      " 32%|███▏      | 16/50 [3:29:16<7:26:47, 788.47s/trial, best loss: -0.4911484284283947]"
     ]
    },
    {
     "name": "stderr",
     "output_type": "stream",
     "text": [
      "/opt/mmayers/software/anaconda3/envs/ml/lib/python3.6/site-packages/sklearn/linear_model/_sag.py:330: ConvergenceWarning: The max_iter was reached which means the coef_ did not converge\n",
      "  \"the coef_ did not converge\", ConvergenceWarning)\n",
      "\n"
     ]
    },
    {
     "name": "stdout",
     "output_type": "stream",
     "text": [
      "[Pipeline] ............. (step 1 of 1) Processing e_net, total= 2.3min                 \n",
      " 32%|███▏      | 16/50 [3:31:32<7:26:47, 788.47s/trial, best loss: -0.4911484284283947]"
     ]
    },
    {
     "name": "stderr",
     "output_type": "stream",
     "text": [
      "/opt/mmayers/software/anaconda3/envs/ml/lib/python3.6/site-packages/sklearn/linear_model/_sag.py:330: ConvergenceWarning: The max_iter was reached which means the coef_ did not converge\n",
      "  \"the coef_ did not converge\", ConvergenceWarning)\n",
      "\n"
     ]
    },
    {
     "name": "stdout",
     "output_type": "stream",
     "text": [
      "[Pipeline] ............. (step 1 of 1) Processing e_net, total= 2.2min                 \n",
      "Mean AUROC: 0.7337                                                                     \n",
      "Mean Avg Pre: 0.2131                                                                   \n",
      "STD AUROC: 0.0602                                                                      \n",
      "STD Avg Pre: 0.0384                                                                    \n",
      "Loss: -0.4172                                                                          \n",
      " 34%|███▍      | 17/50 [3:33:45<6:53:27, 751.74s/trial, best loss: -0.4911484284283947]"
     ]
    },
    {
     "name": "stderr",
     "output_type": "stream",
     "text": [
      "/opt/mmayers/software/anaconda3/envs/ml/lib/python3.6/site-packages/sklearn/linear_model/_sag.py:330: ConvergenceWarning: The max_iter was reached which means the coef_ did not converge\n",
      "  \"the coef_ did not converge\", ConvergenceWarning)\n",
      "\n"
     ]
    },
    {
     "name": "stdout",
     "output_type": "stream",
     "text": [
      "[Pipeline] ............. (step 1 of 1) Processing e_net, total= 1.9min                 \n",
      " 34%|███▍      | 17/50 [3:35:44<6:53:27, 751.74s/trial, best loss: -0.4911484284283947]"
     ]
    },
    {
     "name": "stderr",
     "output_type": "stream",
     "text": [
      "/opt/mmayers/software/anaconda3/envs/ml/lib/python3.6/site-packages/sklearn/linear_model/_sag.py:330: ConvergenceWarning: The max_iter was reached which means the coef_ did not converge\n",
      "  \"the coef_ did not converge\", ConvergenceWarning)\n",
      "\n"
     ]
    },
    {
     "name": "stdout",
     "output_type": "stream",
     "text": [
      "[Pipeline] ............. (step 1 of 1) Processing e_net, total= 1.9min                 \n",
      " 34%|███▍      | 17/50 [3:37:38<6:53:27, 751.74s/trial, best loss: -0.4911484284283947]"
     ]
    },
    {
     "name": "stderr",
     "output_type": "stream",
     "text": [
      "/opt/mmayers/software/anaconda3/envs/ml/lib/python3.6/site-packages/sklearn/linear_model/_sag.py:330: ConvergenceWarning: The max_iter was reached which means the coef_ did not converge\n",
      "  \"the coef_ did not converge\", ConvergenceWarning)\n",
      "\n"
     ]
    },
    {
     "name": "stdout",
     "output_type": "stream",
     "text": [
      "[Pipeline] ............. (step 1 of 1) Processing e_net, total= 1.9min                 \n",
      " 34%|███▍      | 17/50 [3:39:34<6:53:27, 751.74s/trial, best loss: -0.4911484284283947]"
     ]
    },
    {
     "name": "stderr",
     "output_type": "stream",
     "text": [
      "/opt/mmayers/software/anaconda3/envs/ml/lib/python3.6/site-packages/sklearn/linear_model/_sag.py:330: ConvergenceWarning: The max_iter was reached which means the coef_ did not converge\n",
      "  \"the coef_ did not converge\", ConvergenceWarning)\n",
      "\n"
     ]
    },
    {
     "name": "stdout",
     "output_type": "stream",
     "text": [
      "[Pipeline] ............. (step 1 of 1) Processing e_net, total= 2.0min                 \n",
      " 34%|███▍      | 17/50 [3:41:36<6:53:27, 751.74s/trial, best loss: -0.4911484284283947]"
     ]
    },
    {
     "name": "stderr",
     "output_type": "stream",
     "text": [
      "/opt/mmayers/software/anaconda3/envs/ml/lib/python3.6/site-packages/sklearn/linear_model/_sag.py:330: ConvergenceWarning: The max_iter was reached which means the coef_ did not converge\n",
      "  \"the coef_ did not converge\", ConvergenceWarning)\n",
      "\n"
     ]
    },
    {
     "name": "stdout",
     "output_type": "stream",
     "text": [
      "[Pipeline] ............. (step 1 of 1) Processing e_net, total= 2.0min                 \n",
      "Mean AUROC: 0.7624                                                                     \n",
      "Mean Avg Pre: 0.2311                                                                   \n",
      "STD AUROC: 0.0502                                                                      \n",
      "STD Avg Pre: 0.0530                                                                    \n",
      "Loss: -0.4636                                                                          \n",
      " 36%|███▌      | 18/50 [3:43:37<6:15:23, 703.87s/trial, best loss: -0.4911484284283947]"
     ]
    },
    {
     "name": "stderr",
     "output_type": "stream",
     "text": [
      "/opt/mmayers/software/anaconda3/envs/ml/lib/python3.6/site-packages/sklearn/linear_model/_sag.py:330: ConvergenceWarning: The max_iter was reached which means the coef_ did not converge\n",
      "  \"the coef_ did not converge\", ConvergenceWarning)\n",
      "\n"
     ]
    },
    {
     "name": "stdout",
     "output_type": "stream",
     "text": [
      "[Pipeline] ............. (step 1 of 1) Processing e_net, total= 2.5min                 \n",
      " 36%|███▌      | 18/50 [3:46:14<6:15:23, 703.87s/trial, best loss: -0.4911484284283947]"
     ]
    },
    {
     "name": "stderr",
     "output_type": "stream",
     "text": [
      "/opt/mmayers/software/anaconda3/envs/ml/lib/python3.6/site-packages/sklearn/linear_model/_sag.py:330: ConvergenceWarning: The max_iter was reached which means the coef_ did not converge\n",
      "  \"the coef_ did not converge\", ConvergenceWarning)\n",
      "\n"
     ]
    },
    {
     "name": "stdout",
     "output_type": "stream",
     "text": [
      "[Pipeline] ............. (step 1 of 1) Processing e_net, total= 2.5min                 \n",
      " 36%|███▌      | 18/50 [3:48:44<6:15:23, 703.87s/trial, best loss: -0.4911484284283947]"
     ]
    },
    {
     "name": "stderr",
     "output_type": "stream",
     "text": [
      "/opt/mmayers/software/anaconda3/envs/ml/lib/python3.6/site-packages/sklearn/linear_model/_sag.py:330: ConvergenceWarning: The max_iter was reached which means the coef_ did not converge\n",
      "  \"the coef_ did not converge\", ConvergenceWarning)\n",
      "\n"
     ]
    },
    {
     "name": "stdout",
     "output_type": "stream",
     "text": [
      "[Pipeline] ............. (step 1 of 1) Processing e_net, total= 2.5min                 \n",
      " 36%|███▌      | 18/50 [3:51:17<6:15:23, 703.87s/trial, best loss: -0.4911484284283947]"
     ]
    },
    {
     "name": "stderr",
     "output_type": "stream",
     "text": [
      "/opt/mmayers/software/anaconda3/envs/ml/lib/python3.6/site-packages/sklearn/linear_model/_sag.py:330: ConvergenceWarning: The max_iter was reached which means the coef_ did not converge\n",
      "  \"the coef_ did not converge\", ConvergenceWarning)\n",
      "\n"
     ]
    },
    {
     "name": "stdout",
     "output_type": "stream",
     "text": [
      "[Pipeline] ............. (step 1 of 1) Processing e_net, total= 2.6min                 \n",
      " 36%|███▌      | 18/50 [3:53:56<6:15:23, 703.87s/trial, best loss: -0.4911484284283947]"
     ]
    },
    {
     "name": "stderr",
     "output_type": "stream",
     "text": [
      "/opt/mmayers/software/anaconda3/envs/ml/lib/python3.6/site-packages/sklearn/linear_model/_sag.py:330: ConvergenceWarning: The max_iter was reached which means the coef_ did not converge\n",
      "  \"the coef_ did not converge\", ConvergenceWarning)\n",
      "\n"
     ]
    },
    {
     "name": "stdout",
     "output_type": "stream",
     "text": [
      "[Pipeline] ............. (step 1 of 1) Processing e_net, total= 2.5min                 \n",
      "Mean AUROC: 0.7273                                                                     \n",
      "Mean Avg Pre: 0.2059                                                                   \n",
      "STD AUROC: 0.0609                                                                      \n",
      "STD Avg Pre: 0.0351                                                                    \n",
      "Loss: -0.4021                                                                          \n",
      " 38%|███▊      | 19/50 [3:56:27<6:13:53, 723.66s/trial, best loss: -0.4911484284283947]"
     ]
    },
    {
     "name": "stderr",
     "output_type": "stream",
     "text": [
      "/opt/mmayers/software/anaconda3/envs/ml/lib/python3.6/site-packages/sklearn/linear_model/_sag.py:330: ConvergenceWarning: The max_iter was reached which means the coef_ did not converge\n",
      "  \"the coef_ did not converge\", ConvergenceWarning)\n",
      "\n"
     ]
    },
    {
     "name": "stdout",
     "output_type": "stream",
     "text": [
      "[Pipeline] ............. (step 1 of 1) Processing e_net, total= 2.6min                 \n",
      " 38%|███▊      | 19/50 [3:59:06<6:13:53, 723.66s/trial, best loss: -0.4911484284283947]"
     ]
    },
    {
     "name": "stderr",
     "output_type": "stream",
     "text": [
      "/opt/mmayers/software/anaconda3/envs/ml/lib/python3.6/site-packages/sklearn/linear_model/_sag.py:330: ConvergenceWarning: The max_iter was reached which means the coef_ did not converge\n",
      "  \"the coef_ did not converge\", ConvergenceWarning)\n",
      "\n"
     ]
    },
    {
     "name": "stdout",
     "output_type": "stream",
     "text": [
      "[Pipeline] ............. (step 1 of 1) Processing e_net, total= 2.6min                 \n",
      " 38%|███▊      | 19/50 [4:01:39<6:13:53, 723.66s/trial, best loss: -0.4911484284283947]"
     ]
    },
    {
     "name": "stderr",
     "output_type": "stream",
     "text": [
      "/opt/mmayers/software/anaconda3/envs/ml/lib/python3.6/site-packages/sklearn/linear_model/_sag.py:330: ConvergenceWarning: The max_iter was reached which means the coef_ did not converge\n",
      "  \"the coef_ did not converge\", ConvergenceWarning)\n",
      "\n"
     ]
    },
    {
     "name": "stdout",
     "output_type": "stream",
     "text": [
      "[Pipeline] ............. (step 1 of 1) Processing e_net, total= 2.6min                 \n",
      " 38%|███▊      | 19/50 [4:04:15<6:13:53, 723.66s/trial, best loss: -0.4911484284283947]"
     ]
    },
    {
     "name": "stderr",
     "output_type": "stream",
     "text": [
      "/opt/mmayers/software/anaconda3/envs/ml/lib/python3.6/site-packages/sklearn/linear_model/_sag.py:330: ConvergenceWarning: The max_iter was reached which means the coef_ did not converge\n",
      "  \"the coef_ did not converge\", ConvergenceWarning)\n",
      "\n"
     ]
    },
    {
     "name": "stdout",
     "output_type": "stream",
     "text": [
      "[Pipeline] ............. (step 1 of 1) Processing e_net, total= 2.7min                 \n",
      " 38%|███▊      | 19/50 [4:06:55<6:13:53, 723.66s/trial, best loss: -0.4911484284283947]"
     ]
    },
    {
     "name": "stderr",
     "output_type": "stream",
     "text": [
      "/opt/mmayers/software/anaconda3/envs/ml/lib/python3.6/site-packages/sklearn/linear_model/_sag.py:330: ConvergenceWarning: The max_iter was reached which means the coef_ did not converge\n",
      "  \"the coef_ did not converge\", ConvergenceWarning)\n",
      "\n"
     ]
    },
    {
     "name": "stdout",
     "output_type": "stream",
     "text": [
      "[Pipeline] ............. (step 1 of 1) Processing e_net, total= 2.6min                 \n",
      "Mean AUROC: 0.7272                                                                     \n",
      "Mean Avg Pre: 0.2057                                                                   \n",
      "STD AUROC: 0.0610                                                                      \n",
      "STD Avg Pre: 0.0350                                                                    \n",
      "Loss: -0.4017                                                                          \n",
      " 40%|████      | 20/50 [4:09:29<6:10:34, 741.14s/trial, best loss: -0.4911484284283947]"
     ]
    },
    {
     "name": "stderr",
     "output_type": "stream",
     "text": [
      "/opt/mmayers/software/anaconda3/envs/ml/lib/python3.6/site-packages/sklearn/linear_model/_sag.py:330: ConvergenceWarning: The max_iter was reached which means the coef_ did not converge\n",
      "  \"the coef_ did not converge\", ConvergenceWarning)\n",
      "\n"
     ]
    },
    {
     "name": "stdout",
     "output_type": "stream",
     "text": [
      "[Pipeline] ............. (step 1 of 1) Processing e_net, total= 2.0min                 \n",
      " 40%|████      | 20/50 [4:11:33<6:10:34, 741.14s/trial, best loss: -0.4911484284283947]"
     ]
    },
    {
     "name": "stderr",
     "output_type": "stream",
     "text": [
      "/opt/mmayers/software/anaconda3/envs/ml/lib/python3.6/site-packages/sklearn/linear_model/_sag.py:330: ConvergenceWarning: The max_iter was reached which means the coef_ did not converge\n",
      "  \"the coef_ did not converge\", ConvergenceWarning)\n",
      "\n"
     ]
    },
    {
     "name": "stdout",
     "output_type": "stream",
     "text": [
      "[Pipeline] ............. (step 1 of 1) Processing e_net, total= 1.9min                 \n",
      " 40%|████      | 20/50 [4:13:31<6:10:34, 741.14s/trial, best loss: -0.4911484284283947]"
     ]
    },
    {
     "name": "stderr",
     "output_type": "stream",
     "text": [
      "/opt/mmayers/software/anaconda3/envs/ml/lib/python3.6/site-packages/sklearn/linear_model/_sag.py:330: ConvergenceWarning: The max_iter was reached which means the coef_ did not converge\n",
      "  \"the coef_ did not converge\", ConvergenceWarning)\n",
      "\n"
     ]
    },
    {
     "name": "stdout",
     "output_type": "stream",
     "text": [
      "[Pipeline] ............. (step 1 of 1) Processing e_net, total= 2.0min                 \n",
      " 40%|████      | 20/50 [4:15:30<6:10:34, 741.14s/trial, best loss: -0.4911484284283947]"
     ]
    },
    {
     "name": "stderr",
     "output_type": "stream",
     "text": [
      "/opt/mmayers/software/anaconda3/envs/ml/lib/python3.6/site-packages/sklearn/linear_model/_sag.py:330: ConvergenceWarning: The max_iter was reached which means the coef_ did not converge\n",
      "  \"the coef_ did not converge\", ConvergenceWarning)\n",
      "\n"
     ]
    },
    {
     "name": "stdout",
     "output_type": "stream",
     "text": [
      "[Pipeline] ............. (step 1 of 1) Processing e_net, total= 2.1min                 \n",
      " 40%|████      | 20/50 [4:17:35<6:10:34, 741.14s/trial, best loss: -0.4911484284283947]"
     ]
    },
    {
     "name": "stderr",
     "output_type": "stream",
     "text": [
      "/opt/mmayers/software/anaconda3/envs/ml/lib/python3.6/site-packages/sklearn/linear_model/_sag.py:330: ConvergenceWarning: The max_iter was reached which means the coef_ did not converge\n",
      "  \"the coef_ did not converge\", ConvergenceWarning)\n",
      "\n"
     ]
    },
    {
     "name": "stdout",
     "output_type": "stream",
     "text": [
      "[Pipeline] ............. (step 1 of 1) Processing e_net, total= 2.1min                 \n",
      "Mean AUROC: 0.7669                                                                     \n",
      "Mean Avg Pre: 0.2281                                                                   \n",
      "STD AUROC: 0.0468                                                                      \n",
      "STD Avg Pre: 0.0578                                                                    \n",
      "Loss: -0.4610                                                                          \n",
      " 42%|████▏     | 21/50 [4:19:41<5:39:27, 702.32s/trial, best loss: -0.4911484284283947]"
     ]
    },
    {
     "name": "stderr",
     "output_type": "stream",
     "text": [
      "/opt/mmayers/software/anaconda3/envs/ml/lib/python3.6/site-packages/sklearn/linear_model/_sag.py:330: ConvergenceWarning: The max_iter was reached which means the coef_ did not converge\n",
      "  \"the coef_ did not converge\", ConvergenceWarning)\n",
      "\n"
     ]
    },
    {
     "name": "stdout",
     "output_type": "stream",
     "text": [
      "[Pipeline] ............. (step 1 of 1) Processing e_net, total= 1.6min                 \n",
      " 42%|████▏     | 21/50 [4:21:22<5:39:27, 702.32s/trial, best loss: -0.4911484284283947]"
     ]
    },
    {
     "name": "stderr",
     "output_type": "stream",
     "text": [
      "/opt/mmayers/software/anaconda3/envs/ml/lib/python3.6/site-packages/sklearn/linear_model/_sag.py:330: ConvergenceWarning: The max_iter was reached which means the coef_ did not converge\n",
      "  \"the coef_ did not converge\", ConvergenceWarning)\n",
      "\n"
     ]
    },
    {
     "name": "stdout",
     "output_type": "stream",
     "text": [
      "[Pipeline] ............. (step 1 of 1) Processing e_net, total= 1.6min                 \n",
      " 42%|████▏     | 21/50 [4:23:01<5:39:27, 702.32s/trial, best loss: -0.4911484284283947]"
     ]
    },
    {
     "name": "stderr",
     "output_type": "stream",
     "text": [
      "/opt/mmayers/software/anaconda3/envs/ml/lib/python3.6/site-packages/sklearn/linear_model/_sag.py:330: ConvergenceWarning: The max_iter was reached which means the coef_ did not converge\n",
      "  \"the coef_ did not converge\", ConvergenceWarning)\n",
      "\n"
     ]
    },
    {
     "name": "stdout",
     "output_type": "stream",
     "text": [
      "[Pipeline] ............. (step 1 of 1) Processing e_net, total= 1.7min                 \n",
      " 42%|████▏     | 21/50 [4:24:41<5:39:27, 702.32s/trial, best loss: -0.4911484284283947]"
     ]
    },
    {
     "name": "stderr",
     "output_type": "stream",
     "text": [
      "/opt/mmayers/software/anaconda3/envs/ml/lib/python3.6/site-packages/sklearn/linear_model/_sag.py:330: ConvergenceWarning: The max_iter was reached which means the coef_ did not converge\n",
      "  \"the coef_ did not converge\", ConvergenceWarning)\n",
      "\n"
     ]
    },
    {
     "name": "stdout",
     "output_type": "stream",
     "text": [
      "[Pipeline] ............. (step 1 of 1) Processing e_net, total= 1.7min                 \n",
      " 42%|████▏     | 21/50 [4:26:25<5:39:27, 702.32s/trial, best loss: -0.4911484284283947]"
     ]
    },
    {
     "name": "stderr",
     "output_type": "stream",
     "text": [
      "/opt/mmayers/software/anaconda3/envs/ml/lib/python3.6/site-packages/sklearn/linear_model/_sag.py:330: ConvergenceWarning: The max_iter was reached which means the coef_ did not converge\n",
      "  \"the coef_ did not converge\", ConvergenceWarning)\n",
      "\n"
     ]
    },
    {
     "name": "stdout",
     "output_type": "stream",
     "text": [
      "[Pipeline] ............. (step 1 of 1) Processing e_net, total= 1.7min                 \n",
      "Mean AUROC: 0.7601                                                                     \n",
      "Mean Avg Pre: 0.2312                                                                   \n",
      "STD AUROC: 0.0515                                                                      \n",
      "STD Avg Pre: 0.0516                                                                    \n",
      "Loss: -0.4624                                                                          \n",
      " 44%|████▍     | 22/50 [4:28:08<5:00:21, 643.62s/trial, best loss: -0.4911484284283947]"
     ]
    },
    {
     "name": "stderr",
     "output_type": "stream",
     "text": [
      "/opt/mmayers/software/anaconda3/envs/ml/lib/python3.6/site-packages/sklearn/linear_model/_sag.py:330: ConvergenceWarning: The max_iter was reached which means the coef_ did not converge\n",
      "  \"the coef_ did not converge\", ConvergenceWarning)\n",
      "\n"
     ]
    },
    {
     "name": "stdout",
     "output_type": "stream",
     "text": [
      "[Pipeline] ............. (step 1 of 1) Processing e_net, total= 1.8min                 \n",
      " 44%|████▍     | 22/50 [4:29:59<5:00:21, 643.62s/trial, best loss: -0.4911484284283947]"
     ]
    },
    {
     "name": "stderr",
     "output_type": "stream",
     "text": [
      "/opt/mmayers/software/anaconda3/envs/ml/lib/python3.6/site-packages/sklearn/linear_model/_sag.py:330: ConvergenceWarning: The max_iter was reached which means the coef_ did not converge\n",
      "  \"the coef_ did not converge\", ConvergenceWarning)\n",
      "\n"
     ]
    },
    {
     "name": "stdout",
     "output_type": "stream",
     "text": [
      "[Pipeline] ............. (step 1 of 1) Processing e_net, total= 1.7min                 \n",
      " 44%|████▍     | 22/50 [4:31:45<5:00:21, 643.62s/trial, best loss: -0.4911484284283947]"
     ]
    },
    {
     "name": "stderr",
     "output_type": "stream",
     "text": [
      "/opt/mmayers/software/anaconda3/envs/ml/lib/python3.6/site-packages/sklearn/linear_model/_sag.py:330: ConvergenceWarning: The max_iter was reached which means the coef_ did not converge\n",
      "  \"the coef_ did not converge\", ConvergenceWarning)\n",
      "\n"
     ]
    },
    {
     "name": "stdout",
     "output_type": "stream",
     "text": [
      "[Pipeline] ............. (step 1 of 1) Processing e_net, total= 1.8min                 \n",
      " 44%|████▍     | 22/50 [4:33:33<5:00:21, 643.62s/trial, best loss: -0.4911484284283947]"
     ]
    },
    {
     "name": "stderr",
     "output_type": "stream",
     "text": [
      "/opt/mmayers/software/anaconda3/envs/ml/lib/python3.6/site-packages/sklearn/linear_model/_sag.py:330: ConvergenceWarning: The max_iter was reached which means the coef_ did not converge\n",
      "  \"the coef_ did not converge\", ConvergenceWarning)\n",
      "\n"
     ]
    },
    {
     "name": "stdout",
     "output_type": "stream",
     "text": [
      "[Pipeline] ............. (step 1 of 1) Processing e_net, total= 1.9min                 \n",
      " 44%|████▍     | 22/50 [4:35:28<5:00:21, 643.62s/trial, best loss: -0.4911484284283947]"
     ]
    },
    {
     "name": "stderr",
     "output_type": "stream",
     "text": [
      "/opt/mmayers/software/anaconda3/envs/ml/lib/python3.6/site-packages/sklearn/linear_model/_sag.py:330: ConvergenceWarning: The max_iter was reached which means the coef_ did not converge\n",
      "  \"the coef_ did not converge\", ConvergenceWarning)\n",
      "\n"
     ]
    },
    {
     "name": "stdout",
     "output_type": "stream",
     "text": [
      "[Pipeline] ............. (step 1 of 1) Processing e_net, total= 1.9min                 \n",
      "Mean AUROC: 0.7968                                                                     \n",
      "Mean Avg Pre: 0.2343                                                                   \n",
      "STD AUROC: 0.0399                                                                      \n",
      "STD Avg Pre: 0.0676                                                                    \n",
      "Loss: -0.4889                                                                          \n",
      " 46%|████▌     | 23/50 [4:37:22<4:37:32, 616.77s/trial, best loss: -0.4911484284283947]"
     ]
    },
    {
     "name": "stderr",
     "output_type": "stream",
     "text": [
      "/opt/mmayers/software/anaconda3/envs/ml/lib/python3.6/site-packages/sklearn/linear_model/_sag.py:330: ConvergenceWarning: The max_iter was reached which means the coef_ did not converge\n",
      "  \"the coef_ did not converge\", ConvergenceWarning)\n",
      "\n"
     ]
    },
    {
     "name": "stdout",
     "output_type": "stream",
     "text": [
      "[Pipeline] ............. (step 1 of 1) Processing e_net, total= 1.6min                 \n",
      " 46%|████▌     | 23/50 [4:39:00<4:37:32, 616.77s/trial, best loss: -0.4911484284283947]"
     ]
    },
    {
     "name": "stderr",
     "output_type": "stream",
     "text": [
      "/opt/mmayers/software/anaconda3/envs/ml/lib/python3.6/site-packages/sklearn/linear_model/_sag.py:330: ConvergenceWarning: The max_iter was reached which means the coef_ did not converge\n",
      "  \"the coef_ did not converge\", ConvergenceWarning)\n",
      "\n"
     ]
    },
    {
     "name": "stdout",
     "output_type": "stream",
     "text": [
      "[Pipeline] ............. (step 1 of 1) Processing e_net, total= 1.6min                 \n",
      " 46%|████▌     | 23/50 [4:40:34<4:37:32, 616.77s/trial, best loss: -0.4911484284283947]"
     ]
    },
    {
     "name": "stderr",
     "output_type": "stream",
     "text": [
      "/opt/mmayers/software/anaconda3/envs/ml/lib/python3.6/site-packages/sklearn/linear_model/_sag.py:330: ConvergenceWarning: The max_iter was reached which means the coef_ did not converge\n",
      "  \"the coef_ did not converge\", ConvergenceWarning)\n",
      "\n"
     ]
    },
    {
     "name": "stdout",
     "output_type": "stream",
     "text": [
      "[Pipeline] ............. (step 1 of 1) Processing e_net, total= 1.6min                 \n",
      " 46%|████▌     | 23/50 [4:42:10<4:37:32, 616.77s/trial, best loss: -0.4911484284283947]"
     ]
    },
    {
     "name": "stderr",
     "output_type": "stream",
     "text": [
      "/opt/mmayers/software/anaconda3/envs/ml/lib/python3.6/site-packages/sklearn/linear_model/_sag.py:330: ConvergenceWarning: The max_iter was reached which means the coef_ did not converge\n",
      "  \"the coef_ did not converge\", ConvergenceWarning)\n",
      "\n"
     ]
    },
    {
     "name": "stdout",
     "output_type": "stream",
     "text": [
      "[Pipeline] ............. (step 1 of 1) Processing e_net, total= 1.7min                 \n",
      " 46%|████▌     | 23/50 [4:43:50<4:37:32, 616.77s/trial, best loss: -0.4911484284283947]"
     ]
    },
    {
     "name": "stderr",
     "output_type": "stream",
     "text": [
      "/opt/mmayers/software/anaconda3/envs/ml/lib/python3.6/site-packages/sklearn/linear_model/_sag.py:330: ConvergenceWarning: The max_iter was reached which means the coef_ did not converge\n",
      "  \"the coef_ did not converge\", ConvergenceWarning)\n",
      "\n"
     ]
    },
    {
     "name": "stdout",
     "output_type": "stream",
     "text": [
      "[Pipeline] ............. (step 1 of 1) Processing e_net, total= 1.6min                 \n",
      "Mean AUROC: 0.7580                                                                     \n",
      "Mean Avg Pre: 0.2306                                                                   \n",
      "STD AUROC: 0.0524                                                                      \n",
      "STD Avg Pre: 0.0506                                                                    \n",
      "Loss: -0.4601                                                                          \n",
      " 48%|████▊     | 24/50 [4:45:29<4:10:29, 578.06s/trial, best loss: -0.4911484284283947]"
     ]
    },
    {
     "name": "stderr",
     "output_type": "stream",
     "text": [
      "/opt/mmayers/software/anaconda3/envs/ml/lib/python3.6/site-packages/sklearn/linear_model/_sag.py:330: ConvergenceWarning: The max_iter was reached which means the coef_ did not converge\n",
      "  \"the coef_ did not converge\", ConvergenceWarning)\n",
      "\n"
     ]
    },
    {
     "name": "stdout",
     "output_type": "stream",
     "text": [
      "[Pipeline] ............. (step 1 of 1) Processing e_net, total= 1.8min                 \n",
      " 48%|████▊     | 24/50 [4:47:21<4:10:29, 578.06s/trial, best loss: -0.4911484284283947]"
     ]
    },
    {
     "name": "stderr",
     "output_type": "stream",
     "text": [
      "/opt/mmayers/software/anaconda3/envs/ml/lib/python3.6/site-packages/sklearn/linear_model/_sag.py:330: ConvergenceWarning: The max_iter was reached which means the coef_ did not converge\n",
      "  \"the coef_ did not converge\", ConvergenceWarning)\n",
      "\n"
     ]
    },
    {
     "name": "stdout",
     "output_type": "stream",
     "text": [
      "[Pipeline] ............. (step 1 of 1) Processing e_net, total= 1.7min                 \n",
      " 48%|████▊     | 24/50 [4:49:05<4:10:29, 578.06s/trial, best loss: -0.4911484284283947]"
     ]
    },
    {
     "name": "stderr",
     "output_type": "stream",
     "text": [
      "/opt/mmayers/software/anaconda3/envs/ml/lib/python3.6/site-packages/sklearn/linear_model/_sag.py:330: ConvergenceWarning: The max_iter was reached which means the coef_ did not converge\n",
      "  \"the coef_ did not converge\", ConvergenceWarning)\n",
      "\n"
     ]
    },
    {
     "name": "stdout",
     "output_type": "stream",
     "text": [
      "[Pipeline] ............. (step 1 of 1) Processing e_net, total= 1.8min                 \n",
      " 48%|████▊     | 24/50 [4:50:53<4:10:29, 578.06s/trial, best loss: -0.4911484284283947]"
     ]
    },
    {
     "name": "stderr",
     "output_type": "stream",
     "text": [
      "/opt/mmayers/software/anaconda3/envs/ml/lib/python3.6/site-packages/sklearn/linear_model/_sag.py:330: ConvergenceWarning: The max_iter was reached which means the coef_ did not converge\n",
      "  \"the coef_ did not converge\", ConvergenceWarning)\n",
      "\n"
     ]
    },
    {
     "name": "stdout",
     "output_type": "stream",
     "text": [
      "[Pipeline] ............. (step 1 of 1) Processing e_net, total= 1.9min                 \n",
      " 48%|████▊     | 24/50 [4:52:48<4:10:29, 578.06s/trial, best loss: -0.4911484284283947]"
     ]
    },
    {
     "name": "stderr",
     "output_type": "stream",
     "text": [
      "/opt/mmayers/software/anaconda3/envs/ml/lib/python3.6/site-packages/sklearn/linear_model/_sag.py:330: ConvergenceWarning: The max_iter was reached which means the coef_ did not converge\n",
      "  \"the coef_ did not converge\", ConvergenceWarning)\n",
      "\n"
     ]
    },
    {
     "name": "stdout",
     "output_type": "stream",
     "text": [
      "[Pipeline] ............. (step 1 of 1) Processing e_net, total= 1.9min                 \n",
      "Mean AUROC: 0.7984                                                                     \n",
      "Mean Avg Pre: 0.2341                                                                   \n",
      "STD AUROC: 0.0397                                                                      \n",
      "STD Avg Pre: 0.0683                                                                    \n",
      "Loss: -0.4894                                                                          \n",
      " 50%|█████     | 25/50 [4:54:40<3:57:26, 569.87s/trial, best loss: -0.4911484284283947]"
     ]
    },
    {
     "name": "stderr",
     "output_type": "stream",
     "text": [
      "/opt/mmayers/software/anaconda3/envs/ml/lib/python3.6/site-packages/sklearn/linear_model/_sag.py:330: ConvergenceWarning: The max_iter was reached which means the coef_ did not converge\n",
      "  \"the coef_ did not converge\", ConvergenceWarning)\n",
      "\n"
     ]
    },
    {
     "name": "stdout",
     "output_type": "stream",
     "text": [
      "[Pipeline] ............. (step 1 of 1) Processing e_net, total= 2.3min                 \n",
      " 50%|█████     | 25/50 [4:57:01<3:57:26, 569.87s/trial, best loss: -0.4911484284283947]"
     ]
    },
    {
     "name": "stderr",
     "output_type": "stream",
     "text": [
      "/opt/mmayers/software/anaconda3/envs/ml/lib/python3.6/site-packages/sklearn/linear_model/_sag.py:330: ConvergenceWarning: The max_iter was reached which means the coef_ did not converge\n",
      "  \"the coef_ did not converge\", ConvergenceWarning)\n",
      "\n"
     ]
    },
    {
     "name": "stdout",
     "output_type": "stream",
     "text": [
      "[Pipeline] ............. (step 1 of 1) Processing e_net, total= 2.2min                 \n",
      " 50%|█████     | 25/50 [4:59:16<3:57:26, 569.87s/trial, best loss: -0.4911484284283947]"
     ]
    },
    {
     "name": "stderr",
     "output_type": "stream",
     "text": [
      "/opt/mmayers/software/anaconda3/envs/ml/lib/python3.6/site-packages/sklearn/linear_model/_sag.py:330: ConvergenceWarning: The max_iter was reached which means the coef_ did not converge\n",
      "  \"the coef_ did not converge\", ConvergenceWarning)\n",
      "\n"
     ]
    },
    {
     "name": "stdout",
     "output_type": "stream",
     "text": [
      "[Pipeline] ............. (step 1 of 1) Processing e_net, total= 2.3min                 \n",
      " 50%|█████     | 25/50 [5:01:36<3:57:26, 569.87s/trial, best loss: -0.4911484284283947]"
     ]
    },
    {
     "name": "stderr",
     "output_type": "stream",
     "text": [
      "/opt/mmayers/software/anaconda3/envs/ml/lib/python3.6/site-packages/sklearn/linear_model/_sag.py:330: ConvergenceWarning: The max_iter was reached which means the coef_ did not converge\n",
      "  \"the coef_ did not converge\", ConvergenceWarning)\n",
      "\n"
     ]
    },
    {
     "name": "stdout",
     "output_type": "stream",
     "text": [
      "[Pipeline] ............. (step 1 of 1) Processing e_net, total= 2.4min                 \n",
      " 50%|█████     | 25/50 [5:04:01<3:57:26, 569.87s/trial, best loss: -0.4911484284283947]"
     ]
    },
    {
     "name": "stderr",
     "output_type": "stream",
     "text": [
      "/opt/mmayers/software/anaconda3/envs/ml/lib/python3.6/site-packages/sklearn/linear_model/_sag.py:330: ConvergenceWarning: The max_iter was reached which means the coef_ did not converge\n",
      "  \"the coef_ did not converge\", ConvergenceWarning)\n",
      "\n"
     ]
    },
    {
     "name": "stdout",
     "output_type": "stream",
     "text": [
      "[Pipeline] ............. (step 1 of 1) Processing e_net, total= 2.4min                 \n",
      "Mean AUROC: 0.7416                                                                     \n",
      "Mean Avg Pre: 0.2218                                                                   \n",
      "STD AUROC: 0.0565                                                                      \n",
      "STD Avg Pre: 0.0455                                                                    \n",
      "Loss: -0.4353                                                                          \n",
      " 52%|█████▏    | 26/50 [5:06:23<4:03:56, 609.87s/trial, best loss: -0.4911484284283947]"
     ]
    },
    {
     "name": "stderr",
     "output_type": "stream",
     "text": [
      "/opt/mmayers/software/anaconda3/envs/ml/lib/python3.6/site-packages/sklearn/linear_model/_sag.py:330: ConvergenceWarning: The max_iter was reached which means the coef_ did not converge\n",
      "  \"the coef_ did not converge\", ConvergenceWarning)\n",
      "\n"
     ]
    },
    {
     "name": "stdout",
     "output_type": "stream",
     "text": [
      "[Pipeline] ............. (step 1 of 1) Processing e_net, total= 3.1min                 \n",
      " 52%|█████▏    | 26/50 [5:09:39<4:03:56, 609.87s/trial, best loss: -0.4911484284283947]"
     ]
    },
    {
     "name": "stderr",
     "output_type": "stream",
     "text": [
      "/opt/mmayers/software/anaconda3/envs/ml/lib/python3.6/site-packages/sklearn/linear_model/_sag.py:330: ConvergenceWarning: The max_iter was reached which means the coef_ did not converge\n",
      "  \"the coef_ did not converge\", ConvergenceWarning)\n",
      "\n"
     ]
    },
    {
     "name": "stdout",
     "output_type": "stream",
     "text": [
      "[Pipeline] ............. (step 1 of 1) Processing e_net, total= 3.3min                 \n",
      " 52%|█████▏    | 26/50 [5:12:59<4:03:56, 609.87s/trial, best loss: -0.4911484284283947]"
     ]
    },
    {
     "name": "stderr",
     "output_type": "stream",
     "text": [
      "/opt/mmayers/software/anaconda3/envs/ml/lib/python3.6/site-packages/sklearn/linear_model/_sag.py:330: ConvergenceWarning: The max_iter was reached which means the coef_ did not converge\n",
      "  \"the coef_ did not converge\", ConvergenceWarning)\n",
      "\n"
     ]
    },
    {
     "name": "stdout",
     "output_type": "stream",
     "text": [
      "[Pipeline] ............. (step 1 of 1) Processing e_net, total= 3.2min                 \n",
      " 52%|█████▏    | 26/50 [5:16:09<4:03:56, 609.87s/trial, best loss: -0.4911484284283947]"
     ]
    },
    {
     "name": "stderr",
     "output_type": "stream",
     "text": [
      "/opt/mmayers/software/anaconda3/envs/ml/lib/python3.6/site-packages/sklearn/linear_model/_sag.py:330: ConvergenceWarning: The max_iter was reached which means the coef_ did not converge\n",
      "  \"the coef_ did not converge\", ConvergenceWarning)\n",
      "\n"
     ]
    }
   ],
   "source": [
    "trials, best_param = hyperopt(param_hyperopt, y[train_index], 50)"
   ]
  },
  {
   "cell_type": "code",
   "execution_count": 56,
   "metadata": {},
   "outputs": [
    {
     "data": {
      "text/plain": [
       "{'C': 0.0014351562349983393, 'l1_ratio': 0.9871439566131671}"
      ]
     },
     "execution_count": 56,
     "metadata": {},
     "output_type": "execute_result"
    }
   ],
   "source": [
    "best_param"
   ]
  },
  {
   "cell_type": "code",
   "execution_count": 57,
   "metadata": {},
   "outputs": [
    {
     "data": {
      "text/plain": [
       "{'state': 2,\n",
       " 'tid': 35,\n",
       " 'spec': None,\n",
       " 'result': {'loss': -0.49736408327623916, 'status': 'ok'},\n",
       " 'misc': {'tid': 35,\n",
       "  'cmd': ('domain_attachment', 'FMinIter_Domain'),\n",
       "  'workdir': None,\n",
       "  'idxs': {'C': [35], 'l1_ratio': [35]},\n",
       "  'vals': {'C': [0.0014351562349983393], 'l1_ratio': [0.9871439566131671]}},\n",
       " 'exp_key': None,\n",
       " 'owner': None,\n",
       " 'version': 0,\n",
       " 'book_time': datetime.datetime(2020, 11, 17, 6, 23, 47, 318000),\n",
       " 'refresh_time': datetime.datetime(2020, 11, 17, 6, 33, 5, 240000)}"
      ]
     },
     "execution_count": 57,
     "metadata": {},
     "output_type": "execute_result"
    }
   ],
   "source": [
    "trials.best_trial"
   ]
  },
  {
   "cell_type": "code",
   "execution_count": 58,
   "metadata": {},
   "outputs": [],
   "source": [
    "best_param['w'] = mg.w"
   ]
  },
  {
   "cell_type": "code",
   "execution_count": 59,
   "metadata": {},
   "outputs": [],
   "source": [
    "utils.save_hyperparam(best_param, fsel.keep_features_, out_dir)"
   ]
  }
 ],
 "metadata": {
  "kernelspec": {
   "display_name": "Python 3",
   "language": "python",
   "name": "python3"
  },
  "language_info": {
   "codemirror_mode": {
    "name": "ipython",
    "version": 3
   },
   "file_extension": ".py",
   "mimetype": "text/x-python",
   "name": "python",
   "nbconvert_exporter": "python",
   "pygments_lexer": "ipython3",
   "version": "3.6.8"
  }
 },
 "nbformat": 4,
 "nbformat_minor": 2
}
